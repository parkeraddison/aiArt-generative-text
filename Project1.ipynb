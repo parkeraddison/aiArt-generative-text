{
 "cells": [
  {
   "cell_type": "markdown",
   "metadata": {},
   "source": [
    "# Verbosifier\n",
    "## *When more is more*\n",
    "---\n"
   ]
  },
  {
   "cell_type": "code",
   "execution_count": null,
   "metadata": {},
   "outputs": [],
   "source": [
    "# Downloads: run only the first time\n",
    "\n",
    "###\n",
    "# !pip install --user gpt-2-simple\n",
    "# import gpt_2_simple as gpt2\n",
    "# model_name = \"124M\"\n",
    "# gpt2.download_gpt2(model_name=model_name)"
   ]
  },
  {
   "cell_type": "code",
   "execution_count": null,
   "metadata": {},
   "outputs": [],
   "source": [
    "#! Set the index of the passage to generate on\n",
    "i = 0\n",
    "\n",
    "### Imports, initialization\n",
    "import warnings\n",
    "warnings.filterwarnings(action=\"ignore\")\n",
    "\n",
    "import gpt_2_simple as gpt2\n",
    "model_name=\"124M\"\n",
    "sess = gpt2.start_tf_sess()\n",
    "\n",
    "### Corpus generation\n",
    "#\n",
    "# Every 3 sentences is turned into a \"passage\"\n",
    "with open(\"text/rovers.txt\", 'r') as infile:\n",
    "    \n",
    "    essay = infile.read()\n",
    "    \n",
    "sentences = [e for e in essay.split(\"  \") if e]\n",
    "\n",
    "k = 3\n",
    "passages = [p for p in [\"  \".join(sentences[i:i+k]) for i in range(len(sentences) - k + 1)] if '\\n' not in p]\n",
    "\n",
    "### Finetuning\n",
    "#\n",
    "# The model runs one iteration of finetuning on a single passage\n",
    "run_name=\"passage_\" + str(i)\n",
    "\n",
    "gpt2.finetune(\n",
    "    sess,\n",
    "    \"text/passages/passage_\" + str(i) + \".txt\",\n",
    "    model_name=model_name,\n",
    "    run_name=run_name,\n",
    "    restore_from=\"fresh\",\n",
    "    steps=1,\n",
    ")\n",
    "\n",
    "### Generating\n",
    "#\n",
    "# The passage is used as the prompt and multiple samples can be generated\n",
    "def gen(length=100, temperature=0.8, top_k=30, nsamples=10, **kwargs):\n",
    "\n",
    "    print(passages[i] + '\\n\\n')\n",
    "\n",
    "    results = gpt2.generate(\n",
    "        sess, model_name=model_name, run_name=run_name,\n",
    "        prefix=passages[i],\n",
    "        length=length,\n",
    "        return_as_list=True,\n",
    "        temperature=temperature,\n",
    "        top_k=top_k,\n",
    "        nsamples=nsamples,\n",
    "        **kwargs,\n",
    "    )\n",
    "\n",
    "    for res in results:\n",
    "        print(res.replace(passages[i], '') + \"\\n==========\\n\")"
   ]
  },
  {
   "cell_type": "code",
   "execution_count": null,
   "metadata": {},
   "outputs": [],
   "source": [
    "# And now generate it!\n",
    "gen()"
   ]
  },
  {
   "cell_type": "markdown",
   "metadata": {},
   "source": [
    "**Note:** when you want to move to a new passage, you must restart the notebook."
   ]
  },
  {
   "cell_type": "code",
   "execution_count": null,
   "metadata": {},
   "outputs": [],
   "source": []
  }
 ],
 "metadata": {
  "kernelspec": {
   "display_name": "Python 3",
   "language": "python",
   "name": "python3"
  },
  "language_info": {
   "codemirror_mode": {
    "name": "ipython",
    "version": 3
   },
   "file_extension": ".py",
   "mimetype": "text/x-python",
   "name": "python",
   "nbconvert_exporter": "python",
   "pygments_lexer": "ipython3",
   "version": "3.7.3"
  }
 },
 "nbformat": 4,
 "nbformat_minor": 4
}
