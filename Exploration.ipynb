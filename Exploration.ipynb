{
 "cells": [
  {
   "cell_type": "code",
   "execution_count": null,
   "metadata": {},
   "outputs": [],
   "source": [
    "i = 40"
   ]
  },
  {
   "cell_type": "code",
   "execution_count": 2,
   "metadata": {},
   "outputs": [
    {
     "name": "stdout",
     "output_type": "stream",
     "text": [
      "WARNING:tensorflow:From /home/jovyan/.local/lib/python3.7/site-packages/gpt_2_simple/src/sample.py:17: add_dispatch_support.<locals>.wrapper (from tensorflow.python.ops.array_ops) is deprecated and will be removed in a future version.\n",
      "Instructions for updating:\n",
      "Use tf.where in 2.0, which has the same broadcast rule as np.where\n",
      "Loading checkpoint models/124M/model.ckpt\n",
      "WARNING:tensorflow:From /opt/conda/lib/python3.7/site-packages/tensorflow/python/training/saver.py:1276: checkpoint_exists (from tensorflow.python.training.checkpoint_management) is deprecated and will be removed in a future version.\n",
      "Instructions for updating:\n",
      "Use standard file APIs to check for files with this prefix.\n",
      "INFO:tensorflow:Restoring parameters from models/124M/model.ckpt\n"
     ]
    },
    {
     "name": "stderr",
     "output_type": "stream",
     "text": [
      "100%|██████████| 1/1 [00:00<00:00, 1367.11it/s]"
     ]
    },
    {
     "name": "stdout",
     "output_type": "stream",
     "text": [
      "Loading dataset...\n",
      "dataset has 1465 tokens\n",
      "Training...\n"
     ]
    },
    {
     "name": "stderr",
     "output_type": "stream",
     "text": [
      "\n"
     ]
    },
    {
     "name": "stdout",
     "output_type": "stream",
     "text": [
      "[1 | 8.00] loss=0.43 avg=0.43\n",
      "Saving checkpoint/passage_40/model-1\n"
     ]
    }
   ],
   "source": [
    "import warnings\n",
    "warnings.filterwarnings(action=\"ignore\")\n",
    "\n",
    "import gpt_2_simple as gpt2\n",
    "model_name=\"124M\"\n",
    "sess = gpt2.start_tf_sess()\n",
    "\n",
    "with open(\"text/rovers.txt\", 'r') as infile:\n",
    "    \n",
    "    essay = infile.read()\n",
    "    \n",
    "sentences = [e for e in essay.split(\"  \") if e]\n",
    "\n",
    "k = 3\n",
    "passages = [p for p in [\"  \".join(sentences[i:i+k]) for i in range(len(sentences) - k + 1)] if '\\n' not in p]\n",
    "\n",
    "run_name=\"passage_\" + str(i)\n",
    "\n",
    "gpt2.finetune(\n",
    "    sess,\n",
    "    \"text/passages/passage_\" + str(i) + \".txt\",\n",
    "    model_name=model_name,\n",
    "    run_name=run_name,\n",
    "    restore_from=\"fresh\",\n",
    "    steps=1,\n",
    ")\n",
    "\n",
    "def gen(length=100, temperature=0.8, top_k=30, nsamples=10, **kwargs):\n",
    "\n",
    "    print(passages[i] + '\\n\\n')\n",
    "\n",
    "    results = gpt2.generate(\n",
    "        sess, model_name=model_name, run_name=run_name,\n",
    "        prefix=passages[i],\n",
    "        length=length,\n",
    "        return_as_list=True,\n",
    "        temperature=temperature,\n",
    "        top_k=top_k,\n",
    "        nsamples=nsamples,\n",
    "        **kwargs,\n",
    "    )\n",
    "\n",
    "    for res in results:\n",
    "        print(res.replace(passages[i], '') + \"\\n==========\\n\")"
   ]
  },
  {
   "cell_type": "code",
   "execution_count": 3,
   "metadata": {},
   "outputs": [
    {
     "name": "stdout",
     "output_type": "stream",
     "text": [
      "Since the turn of the century, artificial intelligence has become increasingly present in a wide variety of machines and robotics.  Among experimental robots, Planetary rovers—developed for the most part by organisations such as NASA and the European Space Agency—have been at the cutting edge of A.I. advancements.  The A.I. assists with many aspects of the rovers’ roles, allowing for more efficient basic functions, as well as scientifically thoughtful analysis and scientifically prioritised decisions that can be made autonomously.\n",
      "\n",
      "\n",
      "  The rovers are able to communicate with the other A.I. systems, or communicate with the human race through artificial intelligence (AI).  The artificial intelligence also allows for better decision making and better performance in general.  The A.I. will assist the rovers and their systems in many tasks, and will provide them with useful information when needed.  A.I. rovers can be divided into three categories:     \n",
      "==========\n",
      "\n",
      "  Planetary rovers are able to perform many tasks within a simple orbit, ranging from the navigation of asteroids to the operation of satellites.  The rovers can also perform the following tasks:  carry out the tasks of a planetary orbiter, such as navigation, observation of the Sun, the distribution of planets, and the distribution of the planetary system.                            \n",
      "==========\n",
      "\n",
      "  This has helped to ensure that the robotic roles are more intuitive, but more importantly, the robots are more efficient at processing data.  The A.I. also helps to drive the robots to perform actions and tasks that have already been performed in the past.  These actions are not just for the purpose of learning and performing actions, but also for helping the robots in making decisions and providing feedback.  These actions are often performed in a way that requires the robot to be able to perform them\n",
      "==========\n",
      "\n",
      "  It also helps to make sure that the rovers operate in a safe and comfortable environment.  The A.I. uses a computer to process and analyze data from the rovers, and when it is successfully done, it is then able to automatically generate a map of the location, and can be used to predict where and when to proceed.  The A.I. is programmed to perform certain tasks based on its location.  For instance, it allows a rovers to perform certain actions\n",
      "==========\n",
      "\n",
      "  Among other things, the A.I. can also help with the construction of robotic vehicles, as well as the development and development of robots for humans.  Furthermore, the A.I. has been used in many different fields, such as the construction of an autonomous fleet of aircraft, as well as for various other tasks, such as helping to repair human ships.  A.I. also works with the human crew to make decisions that can be made on a robot's behalf. \n",
      "==========\n",
      "\n",
      "  This may be considered to be a significant breakthrough in the way that human-controlled AI could be used in the future, although there are some caveats.  One of the more important is that it is likely that A.I. will not be available to humans for use in robotic and autonomous vehicles, which will be the case for most A.I.  Many A.I. applications are not possible under current AI systems or artificial intelligence systems.  This means that A.I. may\n",
      "==========\n",
      "\n",
      "  Planetary rovers are a key part of a variety of A.I. activities that can be used to help astronauts and their crews to cope with planetary conditions.  These include the provision of food, water, medicine, and medical support and the provision of medical supplies.  Planetary rovers also perform basic activities such as the medical evacuation and the transport of medical supplies to and from the International Space Station.  Planetary rovers are also used in many other A.I. activities that enable astronauts\n",
      "==========\n",
      "\n",
      "  These include the decision making of the individual, and the decision making of robots as well.  Planetary rovers are capable of performing many tasks including:   - making food  - communicating with other rovers (called \"bots\")  - making food  - making food  - communicating to other rovers (called \"bots\")  - making food  - making food  - communicating to other rovers (called \"bots\")  - making\n",
      "==========\n",
      "\n",
      "                                                                                                    \n",
      "==========\n",
      "\n",
      "  Planetary rovers, also known as robots, are autonomous, autonomous systems that operate autonomously and are designed to interact with an objective system or system of objects.  In this sense the A.I. is capable of self-aware decision making.\n",
      "\n",
      "A.I. is a form of artificial intelligence that can be considered as being intelligent, that can do things and perform actions, and that allows for decision making within its own context and without the constraints of other systems.  This allows\n",
      "==========\n",
      "\n"
     ]
    }
   ],
   "source": [
    "gen()"
   ]
  },
  {
   "cell_type": "code",
   "execution_count": null,
   "metadata": {},
   "outputs": [],
   "source": []
  },
  {
   "cell_type": "code",
   "execution_count": null,
   "metadata": {},
   "outputs": [],
   "source": []
  },
  {
   "cell_type": "code",
   "execution_count": null,
   "metadata": {},
   "outputs": [],
   "source": []
  },
  {
   "cell_type": "code",
   "execution_count": null,
   "metadata": {},
   "outputs": [],
   "source": []
  },
  {
   "cell_type": "code",
   "execution_count": null,
   "metadata": {},
   "outputs": [],
   "source": []
  },
  {
   "cell_type": "code",
   "execution_count": null,
   "metadata": {},
   "outputs": [],
   "source": []
  },
  {
   "cell_type": "code",
   "execution_count": null,
   "metadata": {},
   "outputs": [],
   "source": []
  },
  {
   "cell_type": "code",
   "execution_count": null,
   "metadata": {},
   "outputs": [],
   "source": []
  },
  {
   "cell_type": "code",
   "execution_count": null,
   "metadata": {},
   "outputs": [],
   "source": []
  },
  {
   "cell_type": "code",
   "execution_count": null,
   "metadata": {},
   "outputs": [],
   "source": []
  },
  {
   "cell_type": "code",
   "execution_count": 1,
   "metadata": {},
   "outputs": [],
   "source": [
    "import warnings\n",
    "warnings.filterwarnings(action=\"ignore\")\n",
    "\n",
    "import gpt_2_simple as gpt2\n",
    "model_name=\"124M\"\n",
    "sess = gpt2.start_tf_sess()\n",
    "\n",
    "import os\n",
    "import re\n",
    "import math"
   ]
  },
  {
   "cell_type": "code",
   "execution_count": null,
   "metadata": {},
   "outputs": [],
   "source": []
  },
  {
   "cell_type": "code",
   "execution_count": 3,
   "metadata": {},
   "outputs": [],
   "source": [
    "with open(\"text/rovers.txt\", 'r') as infile:\n",
    "    \n",
    "    essay = infile.read()"
   ]
  },
  {
   "cell_type": "code",
   "execution_count": 4,
   "metadata": {},
   "outputs": [],
   "source": [
    "sentences = [e for e in essay.split(\"  \") if e]"
   ]
  },
  {
   "cell_type": "code",
   "execution_count": 5,
   "metadata": {},
   "outputs": [],
   "source": [
    "k = 3\n",
    "# if there's a newline in a passage then it's either spanning or at the end of a paragraph, and we should ignore it\n",
    "passages = [p for p in [\"  \".join(sentences[i:i+k]) for i in range(len(sentences) - k + 1)] if '\\n' not in p]"
   ]
  },
  {
   "cell_type": "code",
   "execution_count": 32,
   "metadata": {},
   "outputs": [],
   "source": [
    "for idx, passage in enumerate(passages):\n",
    "    \n",
    "    with open(\"text/passages/passage_\" + str(idx) + \".txt\", 'w') as outfile:\n",
    "        \n",
    "        num_tokens_passage = len(passage.split())\n",
    "        min_tokens=1024\n",
    "        \n",
    "        passage_multiplier = math.ceil((min_tokens - num_tokens_passage) / num_tokens_passage) + 1\n",
    "        \n",
    "        outfile.write((passage + \"  \") * passage_multiplier + '\\n')"
   ]
  },
  {
   "cell_type": "code",
   "execution_count": null,
   "metadata": {},
   "outputs": [],
   "source": []
  },
  {
   "cell_type": "code",
   "execution_count": 2,
   "metadata": {},
   "outputs": [
    {
     "name": "stdout",
     "output_type": "stream",
     "text": [
      "WARNING:tensorflow:From /home/jovyan/.local/lib/python3.7/site-packages/gpt_2_simple/src/sample.py:17: add_dispatch_support.<locals>.wrapper (from tensorflow.python.ops.array_ops) is deprecated and will be removed in a future version.\n",
      "Instructions for updating:\n",
      "Use tf.where in 2.0, which has the same broadcast rule as np.where\n",
      "Loading checkpoint models/124M/model.ckpt\n",
      "WARNING:tensorflow:From /opt/conda/lib/python3.7/site-packages/tensorflow/python/training/saver.py:1276: checkpoint_exists (from tensorflow.python.training.checkpoint_management) is deprecated and will be removed in a future version.\n",
      "Instructions for updating:\n",
      "Use standard file APIs to check for files with this prefix.\n",
      "INFO:tensorflow:Restoring parameters from models/124M/model.ckpt\n"
     ]
    },
    {
     "name": "stderr",
     "output_type": "stream",
     "text": [
      "100%|██████████| 1/1 [00:00<00:00, 972.48it/s]"
     ]
    },
    {
     "name": "stdout",
     "output_type": "stream",
     "text": [
      "Loading dataset...\n",
      "dataset has 1369 tokens\n",
      "Training...\n"
     ]
    },
    {
     "name": "stderr",
     "output_type": "stream",
     "text": [
      "\n"
     ]
    },
    {
     "name": "stdout",
     "output_type": "stream",
     "text": [
      "[1 | 8.10] loss=0.52 avg=0.52\n",
      "Saving checkpoint/passage_0/model-1\n"
     ]
    }
   ],
   "source": [
    "done = False\n",
    "\n",
    "run_name=\"passage_0\"\n",
    "\n",
    "if not done:\n",
    "    gpt2.finetune(\n",
    "        sess,\n",
    "        \"text/passages/passage_0.txt\",\n",
    "        model_name=model_name,\n",
    "        run_name=run_name,\n",
    "        restore_from=\"latest\",\n",
    "        steps=3,\n",
    "    )\n",
    "    \n",
    "if done:\n",
    "    gpt2.load_gpt2(sess, run_name)"
   ]
  },
  {
   "cell_type": "code",
   "execution_count": 13,
   "metadata": {},
   "outputs": [
    {
     "name": "stdout",
     "output_type": "stream",
     "text": [
      "As of 1970, when the Soviet Union’s Lunokhod, the first unmanned rover, landed on the Moon, rovers have been agreed on as one of the best ways to gather scientific data about celestial bodies outside of our own Earth.  Rovers, by nature not needing a human present, are able to travel to and survive on planets and moons not suitable for humans.  Not only do they not need the same accommodations as humans, they also: last much longer than a human would on another planet, can transfer huge amounts of scientific data back to scientists on Earth, and they don’t necessarily need to have a plan to return to Earth.\n",
      "\n",
      "\n"
     ]
    },
    {
     "data": {
      "text/plain": [
       "'  Rovers are also capable of carrying large amounts of scientific data, and they can also travel to and survive on other planets and moons.  Rovers also have the ability to travel to and survive on other planets and moons, and can also travel to and survive on other planets and moons.  Rovers are also capable of carrying large amounts of scientific data, and they can also travel to and survive on other planets and moons.  Rovers can also carry large amounts of scientific data, and'"
      ]
     },
     "execution_count": 13,
     "metadata": {},
     "output_type": "execute_result"
    }
   ],
   "source": [
    "i = 0\n",
    "\n",
    "print(passages[i] + '\\n\\n')\n",
    "\n",
    "results = gpt2.generate(\n",
    "    sess, model_name=\"124M\", run_name=\"passage_0\",\n",
    "    prefix=passages[i],\n",
    "    length=100,\n",
    "    return_as_list=True,\n",
    "    temperature=0.4,\n",
    "    top_k=40,\n",
    ")\n",
    "\n",
    "print([res.replace(passages[i], '') + \"\\n==========\\n\" for res in results])"
   ]
  },
  {
   "cell_type": "code",
   "execution_count": 16,
   "metadata": {},
   "outputs": [
    {
     "name": "stdout",
     "output_type": "stream",
     "text": [
      "As of 1970, when the Soviet Union’s Lunokhod, the first unmanned rover, landed on the Moon, rovers have been agreed on as one of the best ways to gather scientific data about celestial bodies outside of our own Earth.  Rovers, by nature not needing a human present, are able to travel to and survive on planets and moons not suitable for humans.  Not only do they not need the same accommodations as humans, they also: last much longer than a human would on another planet, can transfer huge amounts of scientific data back to scientists on Earth, and they don’t necessarily need to have a plan to return to Earth.\n",
      "\n",
      "\n",
      "  This is the reason why rovers are such an ideal way to gather scientific data from Earth’s lunar surface and beyond.  They are also the reason why the Soviet Union’s Lunokhod spacecraft, which landed on the Moon’s Lunokhod, is one of the most important ways to gather scientific data from Earth.  This rover is a very important part of the project and it needs to be the most significant of the rovers.  If it does not\n",
      "==========\n",
      "\n",
      "  While I agree with many of the other people on the rovers debate, I agree with the fact that they are only a few years ahead of humans and that rovers have the potential to return to Earth.  Rovers do not need to carry people around with them, they don’t need to be a space shuttle or lander, rovers can carry everyone.  And with the current human population, they are just as likely to be as a human or an astronaut on another\n",
      "==========\n",
      "\n",
      "  But unlike a human, rovers are not capable of returning to Earth.  They can't leave Earth because they will be killed by their own human companions, and they cannot be taken to another planet because they are not prepared to leave their home.  Rovers are not capable of returning to Earth because they can't leave Earth by themselves.  They are not capable of leaving Earth because they wouldn’t like to.  Rovers do not want to go to another planet because they\n",
      "==========\n",
      "\n",
      "  However, they can't leave Earth, where they are still in orbit.  They can only get back to Earth if they are able to land in the most efficient and safe way possible.  There are, however, a few exceptions.  The first one being the case, which is a problem because it is a difficult time to get back to Earth.  We know that we have reached the end of our journey, but this is another problem.  It is a lot of time to\n",
      "==========\n",
      "\n",
      "  Also, they can only stay for so long because of the moon's gravity, the amount of ice in Mars' atmosphere, and the fact that Mars is a rocky, cold, and unfertilized planet.  These two factors are not equal, so rovers can only travel for so long for different reasons.  The same thing holds for humans.  That is why rovers are important in the first place.  A rovers' journey can only be described as a journey that\n",
      "==========\n",
      "\n",
      "  This is why rovers are so easy to use, as they are not needed to have a human present.  Their only need is to have an understanding that they will only be able to return once they reach the Moon.  The Lunokhod is a simple machine that can be used to send a mission back to Earth and return to Earth for a short time.  This is an ideal solution to returning back to Earth during a time when humans are also not present. \n",
      "\n",
      "The\n",
      "==========\n",
      "\n",
      "  This is why they are often called \"flying saucers\" or \"flying saucers\" because they are able to fly more distances and be less sensitive to heat.  Rovers are also capable of moving large quantities of scientific data, but their speed is limited by their limited range.  This means that they must be able to be used for scientific research and research that can not be carried through land.  While they may not be able to use the same facilities on other planets,\n",
      "==========\n",
      "\n",
      "  That is why they are one of the most interesting ways to collect and analyze data that we might not otherwise have access to.  Since we live in a world where we do not have access to Earth's science, this means that we need an independent, human scientist to do our job.  To accomplish that, we need a robotic human for the first time, and to do it we need the human to be able to fly as far as we are able to, and to stay as far\n",
      "==========\n",
      "\n",
      "  That said, rovers do not have to have the same technology as humans to achieve the same speed and reach.  They can live in space for a full year, and return to Earth within a year.  So what does this mean for your life?    I can tell you that I believe rovers will be a more useful way to communicate with Earth than humans.    And to those of us who are passionate in finding out more about the science of life\n",
      "==========\n",
      "\n",
      "  Rovers are a perfect example of how this is a necessary aspect of our human existence.  When a rover is used to gather data about Mars, it does so over a long period of time.  Rovers don’t need to travel long distances to collect data about Mars.  Rovers are just as capable of carrying this data back and forth on Earth.  The problem is that for rovers, where there is no human presence, they have no way of knowing where to\n",
      "==========\n",
      "\n"
     ]
    }
   ],
   "source": [
    "i = 0\n",
    "\n",
    "print(passages[i] + '\\n\\n')\n",
    "\n",
    "results = gpt2.generate(\n",
    "    sess, model_name=\"124M\", run_name=\"passage_0\",\n",
    "    prefix=passages[i],\n",
    "    length=100,\n",
    "    return_as_list=True,\n",
    "    temperature=0.8,\n",
    "    top_k=30,\n",
    "    nsamples=10,\n",
    ")\n",
    "\n",
    "for res in results:\n",
    "    print(res.replace(passages[i], '') + \"\\n==========\\n\")"
   ]
  },
  {
   "cell_type": "markdown",
   "metadata": {},
   "source": [
    "I started crying:\n",
    "> \"But unlike a human, rovers are not capable of returning to Earth.  They can't leave Earth because they will be killed by their own human companions, and they cannot be taken to another planet because they are not prepared to leave their home.  Rovers are not capable of returning to Earth because they can't leave Earth by themselves.  They are not capable of leaving Earth because they wouldn’t like to.  Rovers do not want to go to another planet because they\""
   ]
  },
  {
   "cell_type": "code",
   "execution_count": 17,
   "metadata": {},
   "outputs": [
    {
     "name": "stdout",
     "output_type": "stream",
     "text": [
      "As of 1970, when the Soviet Union’s Lunokhod, the first unmanned rover, landed on the Moon, rovers have been agreed on as one of the best ways to gather scientific data about celestial bodies outside of our own Earth.  Rovers, by nature not needing a human present, are able to travel to and survive on planets and moons not suitable for humans.  Not only do they not need the same accommodations as humans, they also: last much longer than a human would on another planet, can transfer huge amounts of scientific data back to scientists on Earth, and they don’t necessarily need to have a plan to return to Earth.\n",
      "\n",
      "\n",
      "  Even if they do, they still need to have a plan to return to Earth.  And they don’t need to have a plan to return to Earth.  The fact that they are able to travel to and survive on planets and moons not suitable for humans means that they can also return to Earth.  Rovers, by nature not needing a human present, are able to travel to and survive on planets and moons not suitable for humans.  Not only do they not need the\n",
      "==========\n",
      "\n",
      "  Rovers also tend to travel much faster than humans, and they are able to survive on rocky, rocky planets.   They also have the greatest amount of health and safety, so they are able to survive in a very cold environment.   They also have a very low cost of living, so they are able to travel much faster than humans, and they are able to survive in a very cold environment.   They also have a very low cost of living, so\n",
      "==========\n",
      "\n",
      "  On the other hand, when rovers have to travel to and survive on the Moon, they are not able to make it to Earth.  On the other hand, when rovers have to travel to and survive on the Moon, they are not able to make it to Earth.  On the other hand, when rovers have to travel to and survive on the Moon, they are not able to make it to Earth.  On the other hand, when rovers have to travel to\n",
      "==========\n",
      "\n",
      "  In fact, rovers that are able to travel to and survive on planets and moons that humans would not on Earth are a prime example of the 'human' method of return to Earth.   The Lunokhod, as it is called, is the first unmanned rover to reach the moon and is one of the most advanced and technologically advanced robotic rovers on the planet.   The Lunokhod is one of the most advanced and technologically advanced rovers on the planet, and has\n",
      "==========\n",
      "\n",
      "  That's because they are not limited to a single planet.  Rovers can also be used to travel to other planets and moons.  And they can be used in an entirely new way.  That's why, when they were first built, there were no human astronauts.  Rovers were just an experiment in the future.  And they are now the most useful tool to gather scientific data about celestial bodies outside of our own Earth.  The Lunokhod is the first unmanned rover\n",
      "==========\n",
      "\n",
      "  Not only do rovers need to be able to travel to and survive on planets and moons not suitable for humans, they also: last much longer than a human would on another planet, can transfer huge amounts of scientific data back to scientists on Earth, and they don’t necessarily need to have a plan to return to Earth.  Not only do rovers need to be able to travel to and survive on planets and moons not suitable for humans, they also: last much longer than a\n",
      "==========\n",
      "\n",
      "                                                                                                    \n",
      "==========\n",
      "\n",
      "  This is because rovers don’t need to use a human as a companion, and they don’t need to travel in a vacuum or on a lunar surface.  This is because rovers have a unique ability to travel to and survive on a planet and moon that is not suitable for humans.  This is because rovers are not capable of communicating via radio, or other communication devices, and have no need to communicate with humans on Earth.  This is because rovers\n",
      "==========\n",
      "\n",
      "  Rovers have the ability to travel faster than humans, and can travel at a much higher speed than we can on Earth.  Rovers have the ability to go on long journeys, travel in huge numbers, and travel at a much higher speed than we can on Earth.  Rovers have the ability to travel at a much higher speed than we can on Earth.  Rovers have the ability to travel at a much higher speed than we can on Earth.  Rovers have the ability\n",
      "==========\n",
      "\n",
      "  The Soviets have used rovers to gather scientific data about celestial bodies and they have been agreed upon as one of the best ways to gather scientific data about celestial bodies outside of our own Earth.  It is not only a matter of a few people, but of a whole community of people who have been working together to make the world a better place.  And it is not only the Soviets, but all of mankind who have been working together to make the world a better place.  It is\n",
      "==========\n",
      "\n"
     ]
    }
   ],
   "source": [
    "i = 0\n",
    "\n",
    "print(passages[i] + '\\n\\n')\n",
    "\n",
    "results = gpt2.generate(\n",
    "    sess, model_name=\"124M\", run_name=\"passage_0\",\n",
    "    prefix=passages[i],\n",
    "    length=100,\n",
    "    return_as_list=True,\n",
    "    temperature=0.6,\n",
    "    top_k=30,\n",
    "    nsamples=10,\n",
    ")\n",
    "\n",
    "for res in results:\n",
    "    print(res.replace(passages[i], '') + \"\\n==========\\n\")"
   ]
  },
  {
   "cell_type": "code",
   "execution_count": null,
   "metadata": {},
   "outputs": [],
   "source": []
  },
  {
   "cell_type": "code",
   "execution_count": null,
   "metadata": {},
   "outputs": [],
   "source": []
  },
  {
   "cell_type": "code",
   "execution_count": null,
   "metadata": {},
   "outputs": [],
   "source": []
  },
  {
   "cell_type": "markdown",
   "metadata": {},
   "source": [
    "# Verbosifier\n",
    "\n",
    "### *When more is more*"
   ]
  },
  {
   "cell_type": "markdown",
   "metadata": {},
   "source": [
    "---\n",
    "## Let's get it set up\n",
    "\n",
    "- Install gpt-2-simple\n",
    "- Download the model\n",
    "- Start a TensorFlow session\n",
    "\n",
    "Note that I'm using [minimaxir's gpt-2-simple package](https://github.com/minimaxir/gpt-2-simple) to make the code in this notebook a bit *less* verbose :)"
   ]
  },
  {
   "cell_type": "code",
   "execution_count": 1,
   "metadata": {},
   "outputs": [
    {
     "name": "stdout",
     "output_type": "stream",
     "text": [
      "Requirement already satisfied: gpt-2-simple in /home/jovyan/.local/lib/python3.7/site-packages (0.6)\n",
      "Requirement already satisfied: numpy in /opt/conda/lib/python3.7/site-packages (from gpt-2-simple) (1.17.1)\n",
      "Requirement already satisfied: requests in /home/jovyan/.local/lib/python3.7/site-packages (from gpt-2-simple) (2.21.0)\n",
      "Requirement already satisfied: regex in /home/jovyan/.local/lib/python3.7/site-packages (from gpt-2-simple) (2017.4.5)\n",
      "Requirement already satisfied: toposort in /home/jovyan/.local/lib/python3.7/site-packages (from gpt-2-simple) (1.5)\n",
      "Requirement already satisfied: tqdm in /home/jovyan/.local/lib/python3.7/site-packages (from gpt-2-simple) (4.31.1)\n",
      "Requirement already satisfied: urllib3<1.25,>=1.21.1 in /home/jovyan/.local/lib/python3.7/site-packages (from requests->gpt-2-simple) (1.24.3)\n",
      "Requirement already satisfied: idna<2.9,>=2.5 in /opt/conda/lib/python3.7/site-packages (from requests->gpt-2-simple) (2.8)\n",
      "Requirement already satisfied: chardet<3.1.0,>=3.0.2 in /opt/conda/lib/python3.7/site-packages (from requests->gpt-2-simple) (3.0.4)\n",
      "Requirement already satisfied: certifi>=2017.4.17 in /opt/conda/lib/python3.7/site-packages (from requests->gpt-2-simple) (2019.6.16)\n"
     ]
    },
    {
     "name": "stderr",
     "output_type": "stream",
     "text": [
      "Fetching checkpoint: 1.05Mit [00:00, 682Mit/s]                                                      \n",
      "Fetching encoder.json: 1.05Mit [00:00, 57.8Mit/s]                                                   \n",
      "Fetching hparams.json: 1.05Mit [00:00, 425Mit/s]                                                    \n",
      "Fetching model.ckpt.data-00000-of-00001: 498Mit [00:05, 90.6Mit/s]                                  \n",
      "Fetching model.ckpt.index: 1.05Mit [00:00, 404Mit/s]                                                \n",
      "Fetching model.ckpt.meta: 1.05Mit [00:00, 89.7Mit/s]                                                \n",
      "Fetching vocab.bpe: 1.05Mit [00:00, 76.6Mit/s]                                                      \n"
     ]
    }
   ],
   "source": [
    "import warnings\n",
    "warnings.filterwarnings(action=\"ignore\")\n",
    "\n",
    "!pip install --user gpt-2-simple\n",
    "import gpt_2_simple as gpt2\n",
    "model_name = \"124M\"\n",
    "gpt2.download_gpt2(model_name=model_name)\n",
    "\n",
    "sess = gpt2.start_tf_sess()"
   ]
  },
  {
   "cell_type": "markdown",
   "metadata": {},
   "source": [
    "### JUMP TO ATTEMPTS:\n",
    "- [Attempt 1](#1)\n",
    "- [Attempt 2](#2)"
   ]
  },
  {
   "cell_type": "markdown",
   "metadata": {},
   "source": [
    "---\n",
    "\n",
    "## Attempt 1. How does GPT-2 behave out of the box? <a id=3>\n",
    "\n",
    "- Finetune a model on some academic writing\n",
    "- Save that model!\n",
    "- Generate with a prompt, varying the temperature"
   ]
  },
  {
   "cell_type": "code",
   "execution_count": 3,
   "metadata": {},
   "outputs": [
    {
     "name": "stdout",
     "output_type": "stream",
     "text": [
      "Loading pretrained model models/124M/model.ckpt\n",
      "WARNING:tensorflow:From /opt/conda/lib/python3.7/site-packages/tensorflow/python/training/saver.py:1276: checkpoint_exists (from tensorflow.python.training.checkpoint_management) is deprecated and will be removed in a future version.\n",
      "Instructions for updating:\n",
      "Use standard file APIs to check for files with this prefix.\n",
      "INFO:tensorflow:Restoring parameters from models/124M/model.ckpt\n"
     ]
    }
   ],
   "source": [
    "# Don't run this cell if we already have a checkpoint\n",
    "done = True\n",
    "\n",
    "# Finetuning on all academic writings in the COCA corpus from 1990 to 2012\n",
    "if not done:\n",
    "\n",
    "    gpt2.finetune(\n",
    "        sess,\n",
    "        \"text/all_acad.txt\",\n",
    "        model_name=model_name,\n",
    "        run_name=\"all_acad\",\n",
    "        steps=300, # Maximum number of training epochs\n",
    "        print_every=5,\n",
    "    )\n",
    "    \n",
    "if done:\n",
    "    \n",
    "    gpt2.load_gpt2(\n",
    "        sess,\n",
    "        model_name=model_name,\n",
    "        run_name=\"all_acad\",\n",
    "    )"
   ]
  },
  {
   "cell_type": "code",
   "execution_count": 4,
   "metadata": {},
   "outputs": [
    {
     "data": {
      "text/plain": [
       "1.0428075790405273"
      ]
     },
     "execution_count": 4,
     "metadata": {},
     "output_type": "execute_result"
    }
   ],
   "source": [
    "import tensorflow as tf\n",
    "sess.run(tf.contrib.memory_stats.MaxBytesInUse()) / 1073741824"
   ]
  },
  {
   "cell_type": "code",
   "execution_count": 6,
   "metadata": {},
   "outputs": [
    {
     "name": "stdout",
     "output_type": "stream",
     "text": [
      "My hypothesis was proven right by the results of this experiment.  I thought that the vegan popcorn product would produce the fewest amount of popped kernels and that the movie theater buttered popcorn would product the most amount of popped kernels.  This was true based on the numbers that we counted.  After three trials for each brand of popcorn, the average number of unpopped kernels was in order Vegan, SmartPop, Orville, and MovieTheater.  The reason this happened might need to do with how much butter and salt is included in each brand of popcorn.  The amount of salt was not important because the amount of saturated fat was not important . <p> The second experiment involved a different type of experiment . The third experiment involved a different type of experiment . The fourth experiment involved a different type of experiment . The fifth experiment involved a different type of experiment . The sixth experiment involved a different type of experiment . The seventh experiment involved a different type of experiment . The eighth experiment involved a different type of experiment . The ninth experiment involved a different type of experiment . The tenth experiment involved a different type of experiment . The eleventh experiment involved a different type of experiment . The twelfth experiment involved a different type of experiment . The thirteenth experiment involved a different type of experiment . The thirteenth experiment involved a different type of experiment . The twenty-first experiment involved a different type of experiment . <p> The fifth experiment involved a different type of experiment . The sixth experiment involved a different type of experiment . The seventh experiment involved a different type of\n",
      "====================\n",
      "My hypothesis was proven right by the results of this experiment.  I thought that the vegan popcorn product would produce the fewest amount of popped kernels and that the movie theater buttered popcorn would product the most amount of popped kernels.  This was true based on the numbers that we counted.  After three trials for each brand of popcorn, the average number of unpopped kernels was in order Vegan, SmartPop, Orville, and MovieTheater.  The reason this happened might need to do with how much butter and salt is included in each brand of popcorn.  The amount of salt was also important . The amount of salt was also important because the amount of oil in the kernels was the same as the amount of oil in the kernels . The amount of oil was also important because the amount of oil was the same as the amount of kernels . The amount of oil was also important because the amount of kernels was the same as the amount of oil . The amount of oil was also important because the amount of kernels was the same as the amount of oil . The amount of oil was also important because the amount of kernels was the same as the amount of oil . The amount of oil was also important because the amount of kernels was the same as the amount of oil . The amount of oil was also important because the amount of kernels was the same as the amount of oil . The amount of oil was also important because the amount of kernels was the same as the amount of oil . The amount of oil was also important because the amount of kernels was the same as the\n",
      "====================\n",
      "My hypothesis was proven right by the results of this experiment.  I thought that the vegan popcorn product would produce the fewest amount of popped kernels and that the movie theater buttered popcorn would product the most amount of popped kernels.  This was true based on the numbers that we counted.  After three trials for each brand of popcorn, the average number of unpopped kernels was in order Vegan, SmartPop, Orville, and MovieTheater.  The reason this happened might need to do with how much butter and salt is included in each brand of popcorn.  The amount of salt was not important because the amount of saturated fat was not important . The amount of saturated fat was important because it was the main reason that the average number of kernels was not in order of how much. The number of unpopped kernels was important because it was the main reason that the average number of kernels was not in order of how much. The number of kernels was not important because the amount of oil was not important . The amount of oil was important because it was the main reason that the average number of kernels was not in order of how much. The number of kernels was important because it was the main reason that the average number of kernels was not in order of how much . The number of kernels was important because it was the main reason that the average number of kernels was not in order of how much . The number of kernels was important because it was the main reason that the average number of kernels was not in order of how much . The number of kernels was important\n",
      "====================\n",
      "My hypothesis was proven right by the results of this experiment.  I thought that the vegan popcorn product would produce the fewest amount of popped kernels and that the movie theater buttered popcorn would product the most amount of popped kernels.  This was true based on the numbers that we counted.  After three trials for each brand of popcorn, the average number of unpopped kernels was in order Vegan, SmartPop, Orville, and MovieTheater.  The reason this happened might need to do with how much butter and salt is included in each brand of popcorn.  I also added a little bit of cornstarch to the mix to help with the extra fat.  This added a little bit of extra fat to the kernels and made them pop more often. The result was that the amount of kernels in the product was the same as the amount of cornstarch in the mix. <p> The results of this experiment are shown in Table 1 . The results of the experiment are shown in the following order : 1. The number of kernels in each group , 2. The percentage of kernels , 3. The percentage of kernels , 4. The percentage of kernels , 5. The percentage of kernels , 6. The percentage of kernels , 7. The percentage of kernels , 8. The percentage of kernels , 9. The percentage of kernels , 10. The percentage of kernels , 11. The percentage of kernels , 12. The percentage of kernels , 13. The percentage of kernels , 14. The percentage of kernels , 15. The percentage of kernels , 16\n",
      "====================\n",
      "My hypothesis was proven right by the results of this experiment.  I thought that the vegan popcorn product would produce the fewest amount of popped kernels and that the movie theater buttered popcorn would product the most amount of popped kernels.  This was true based on the numbers that we counted.  After three trials for each brand of popcorn, the average number of unpopped kernels was in order Vegan, SmartPop, Orville, and MovieTheater.  The reason this happened might need to do with how much butter and salt is included in each brand of popcorn.  The amount of salt was not important because the amount of saturated fat was not important . The amount of saturated fat was important because it was the main component in the product . The amount of saturated fat was important because it was the main component in the container . The amount of saturated fat was important because it was the main component in the container . The amount of saturated fat was important because it was the main component in the container . The amount of saturated fat was important because it was the main component in the container . The amount of saturated fat was important because it was the main component in the container . The amount of saturated fat was important because it was the main component in the container . The amount of saturated fat was important because it was the main component in the container . The amount of saturated fat was important because it was the main component in the container . The amount of saturated fat was important because it was the main component in the container . The amount of saturated fat was important because it was the main\n",
      "====================\n"
     ]
    }
   ],
   "source": [
    "gpt2.generate(\n",
    "    sess,\n",
    "    model_name=model_name,\n",
    "    run_name=\"all_acad\",\n",
    "    prefix=\"My hypothesis was proven right by the results of this experiment.  I thought that the vegan popcorn product would produce the fewest amount of popped kernels and that the movie theater buttered popcorn would product the most amount of popped kernels.  This was true based on the numbers that we counted.  After three trials for each brand of popcorn, the average number of unpopped kernels was in order Vegan, SmartPop, Orville, and MovieTheater.  The reason this happened might need to do with how much butter and salt is included in each brand of popcorn.\",\n",
    "    temperature=0.1,\n",
    "    length=200,\n",
    "    nsamples=5\n",
    ")"
   ]
  },
  {
   "cell_type": "markdown",
   "metadata": {},
   "source": [
    "Interesting... we see here with a temperature of $0.1$ that the model produces one or two sentences and then falls into a self-feeding cycle.\n",
    "\n",
    "I really like the fourth sample because it mimics the style of re-clarifying sentences.\n",
    "\n",
    "> \"I also added a little bit of cornstarch to the mix to help with the extra fat.  This added a little bit of extra fat to the kernels and made them pop more often.  The result was that the amount of kernels in the produce was the same as the amount of corn starch in the mix.\"\n",
    "\n",
    "Let's see what happens if we turn the temperature up.  I'll need to poke around to see what affects the sentence-to-sentence variability (something which we want to preserve) as opposed to the topic variability (something which I want to minimize).  I hypothesize that temperature will have mostly an effect on sentence variability, and finetuning will have mostly an effect on topic variability."
   ]
  },
  {
   "cell_type": "code",
   "execution_count": 7,
   "metadata": {},
   "outputs": [
    {
     "name": "stdout",
     "output_type": "stream",
     "text": [
      "My hypothesis was proven right by the results of this experiment.  I thought that the vegan popcorn product would produce the fewest amount of popped kernels and that the movie theater buttered popcorn would product the most amount of popped kernels.  This was true based on the numbers that we counted.  After three trials for each brand of popcorn, the average number of unpopped kernels was in order Vegan, SmartPop, Orville, and MovieTheater.  The reason this happened might need to do with how much butter and salt is included in each brand of popcorn.  I also added some extra preservatives to the product and it did not seem to be as strong as I had originally thought . <p> The final result of the experiment was that the more kernels in the dough , the more popped kernels . This is because the dough is made up of two layers , each of which has its own amount of kernels . In the first layer , there are 10 kernels , which is a ratio of 10:1 . In the second layer , there are 100 kernels , which is a ratio of 1:100 : 1:100 : 1:100 : 1 :100 . <p> The second layer contains the kernel that contains the other . This is because the kernel contains a large portion of the chemical fat that gives the kernel its distinctive flavor . In this second layer , there are 10 extra-pump cells , which produce the most popped kernels . This is because the kernel contains a large portion of the fatty acid , called polyacrylamide , which is\n",
      "====================\n",
      "My hypothesis was proven right by the results of this experiment.  I thought that the vegan popcorn product would produce the fewest amount of popped kernels and that the movie theater buttered popcorn would product the most amount of popped kernels.  This was true based on the numbers that we counted.  After three trials for each brand of popcorn, the average number of unpopped kernels was in order Vegan, SmartPop, Orville, and MovieTheater.  The reason this happened might need to do with how much butter and salt is included in each brand of popcorn.  In the movie Orville , the only difference between the two is that Orville uses less butter and is more packed with flavor . The difference between the two is that Orville also has a smaller amount of salt . <p> The next question was , \" How much of the Unpopped Yolks are the Chickens and How much are the Chickens and How many are the Chickens ? \" The answer is n't much . The Unpopped Yolks are about 13.5 kernels long . That means that the average Unpopped Yolk contains about 10% more kernels than the average American . Chickens are about 12 kernels long . That means that a Chickens can contain as much as 15% more kernels than a Chickan . Orville are about 5.5 kernels long . That means that a Orville can contain as much as 16% more kernels than a Chickan . The difference between these two groups is that the Unpopped Yolks\n",
      "====================\n",
      "My hypothesis was proven right by the results of this experiment.  I thought that the vegan popcorn product would produce the fewest amount of popped kernels and that the movie theater buttered popcorn would product the most amount of popped kernels.  This was true based on the numbers that we counted.  After three trials for each brand of popcorn, the average number of unpopped kernels was in order Vegan, SmartPop, Orville, and MovieTheater.  The reason this happened might need to do with how much butter and salt is included in each brand of popcorn.  This was the amount of butter and salt in each of the three products ( n = 13 ) . The actual amount of salt in each of the three products was determined by measuring the amount of water in each container . The total amount of water in each container was inversely proportional to the number of kernels . The overall effect of the multiple tests is shown in the figure . <p> The results of the two experiments were similar except that the product contained more milk and the milk product was more like the other two . The effect of the different combinations of the different milk and milk products was . <p> The results of the experiment were similar except that the product contained more milk and the milk product was more like the other two . The effect of the different combinations of the two products was . <p> The results of the experiment were consistent except that the product contained more milk and the milk product was more like the other two . The effect of the different combinations of the two products was . <\n",
      "====================\n",
      "My hypothesis was proven right by the results of this experiment.  I thought that the vegan popcorn product would produce the fewest amount of popped kernels and that the movie theater buttered popcorn would product the most amount of popped kernels.  This was true based on the numbers that we counted.  After three trials for each brand of popcorn, the average number of unpopped kernels was in order Vegan, SmartPop, Orville, and MovieTheater.  The reason this happened might need to do with how much butter and salt is included in each brand of popcorn.  Some people make their own homemade substitutions for these numbers . <p> The other question that came up was whether the homemade versions of the products would be more effective than the real ones . I thought that the difference between the two was the quantity and quality of the ingredients . The real difference was the quality of the ingredients . After all , there was no way to know which was which . <p> The results of the experiment were as follows : <p> The more the people in the experiment had the better the homemade versions . The more the people in the experiment made the homemade versions , the better the homemade versions . <p> People who made the homemade versions made more kernels and popped kernels . Those who made the homemade versions made more popcorn kernels . Those who made the homemade versions made more milk , but not fewer kernels . <p> The difference between the two groups was the quality of the homemade versions . The better the quality of the homemade versions , the more the people in the\n",
      "====================\n",
      "My hypothesis was proven right by the results of this experiment.  I thought that the vegan popcorn product would produce the fewest amount of popped kernels and that the movie theater buttered popcorn would product the most amount of popped kernels.  This was true based on the numbers that we counted.  After three trials for each brand of popcorn, the average number of unpopped kernels was in order Vegan, SmartPop, Orville, and MovieTheater.  The reason this happened might need to do with how much butter and salt is included in each brand of popcorn.  When I added these numbers to the total number of kernels to count , I was getting a total of 707 kernels . The number of kernels counted was the same as the number of kernels in the total 707 kernels . The result was that the amount of kernels in the total 707 kernels was the correct number . So , the number of kernels was correct . The total number of kernels was 707 . The number of kernels in the total 707 kernels was the correct number of 707 . The number of kernels in the total 707 kernels was the correct number of 707 . The number of kernels in the total 707 kernels was the correct number of 707 . The number of kernels in the total 707 kernels was the correct number of 707 . The number of kernels in the total 707 kernels was the correct number of 707 . The number of kernels in the total 707 kernels was the correct number of 707 . The number of kernels in the total 707 kernels\n",
      "====================\n"
     ]
    }
   ],
   "source": [
    "gpt2.generate(\n",
    "    sess,\n",
    "    model_name=model_name,\n",
    "    run_name=\"all_acad\",\n",
    "    prefix=\"My hypothesis was proven right by the results of this experiment.  I thought that the vegan popcorn product would produce the fewest amount of popped kernels and that the movie theater buttered popcorn would product the most amount of popped kernels.  This was true based on the numbers that we counted.  After three trials for each brand of popcorn, the average number of unpopped kernels was in order Vegan, SmartPop, Orville, and MovieTheater.  The reason this happened might need to do with how much butter and salt is included in each brand of popcorn.\",\n",
    "    temperature=0.5,\n",
    "    length=200,\n",
    "    nsamples=5\n",
    ")"
   ]
  },
  {
   "cell_type": "markdown",
   "metadata": {},
   "source": [
    "I really liked how the second sample started out.  Very on topic, didn't introduce many new subjects, and was plenty verbose.\n",
    "\n",
    "> \"In the movie Orville , the only difference between the two is that Orville uses less butter and is more packed with flavor . The difference between the two is that Orville also has a smaller amount of salt .\"\n",
    "\n",
    "Then the second sample got really funny.\n",
    "\n",
    "> \"The next question was , \" How much of the Unpopped Yolks are the Chickens and How much are the Chickens and How many are the Chickens ? \" The answer is n't much . The Unpopped Yolks are about 13.5 kernels long . That means that the average Unpopped Yolk contains about 10% more kernels than the average American .\"\n",
    "\n",
    "It still seems likely to fall into a cycle.  I'll try upping the temperature again... but I also have another idea which may produce less cyclical results."
   ]
  },
  {
   "cell_type": "code",
   "execution_count": 8,
   "metadata": {},
   "outputs": [
    {
     "name": "stdout",
     "output_type": "stream",
     "text": [
      "My hypothesis was proven right by the results of this experiment.  I thought that the vegan popcorn product would produce the fewest amount of popped kernels and that the movie theater buttered popcorn would product the most amount of popped kernels.  This was true based on the numbers that we counted.  After three trials for each brand of popcorn, the average number of unpopped kernels was in order Vegan, SmartPop, Orville, and MovieTheater.  The reason this happened might need to do with how much butter and salt is included in each brand of popcorn.  The total fat content in each was about the same as that in the standard-size cookie dough that is standard in most countries . After three more trials , the average number of kernels was in order Orville , and the number of unpopped ones was in order Orville , but after two more trials the average number of kernels was in order Orville , and the number of unpopped ones was in order Orville .  The average fat content in the two groups was about the same as the amount of fat in the standard-size cookie dough that is standard in most countries . After three more trials , the average number of kernels was in order Orville , and the number of unpopped ones was in order Orville , but after two more trials the average number of kernels was in order Orville . The fat content in the two groups was about the same as the amount of fat in the standard-size cookie dough that is standard in most countries . After three more trials ,\n",
      "====================\n",
      "My hypothesis was proven right by the results of this experiment.  I thought that the vegan popcorn product would produce the fewest amount of popped kernels and that the movie theater buttered popcorn would product the most amount of popped kernels.  This was true based on the numbers that we counted.  After three trials for each brand of popcorn, the average number of unpopped kernels was in order Vegan, SmartPop, Orville, and MovieTheater.  The reason this happened might need to do with how much butter and salt is included in each brand of popcorn. ( It 's important to remember that the number of kernels depends on the size of the container that is being used . ) So the fact that the amount of unpopped kernels was the most important statistic in the experiment may have something to do with the fact that the size of the container used was the most important factor in determining the quantity of kernels in the container . <p> As a side effect of using the most cost effective method available , participants showed a tendency toward an increased sense of smell and an increased sense of taste . The participants who had this tendency were those who preferred a more sweet , moist , and slightly less complex flavor , not something that was new to them . <p> Participants who were more likely to prefer a less complex flavor were those who preferred a slightly more complex flavor . The subjects who preferred a more complex flavor were those who were more interested in the flavor and were more familiar with the complexions of plants . <p> We observed that participants who preferred a slightly\n",
      "====================\n",
      "My hypothesis was proven right by the results of this experiment.  I thought that the vegan popcorn product would produce the fewest amount of popped kernels and that the movie theater buttered popcorn would product the most amount of popped kernels.  This was true based on the numbers that we counted.  After three trials for each brand of popcorn, the average number of unpopped kernels was in order Vegan, SmartPop, Orville, and MovieTheater.  The reason this happened might need to do with how much butter and salt is included in each brand of popcorn. The following formula gives the average number of kernels : 171 = 1.06 , 171 = 1.33 , 171 = 1.64 , and 171 = 1.88 . This is because the ratio of the total number of unpopped kernels to the total number of kernels is called the nut ratio . ( The ratio of the nutto kernels to the kernels of the movie theater butters is called the ghee ratio . ) <p> The nut-to-ghee ratio is actually a measure of the number of kernels that can be popped.  One nut produces 32 percent fewer kernels than another , the nut-to-ghee ratio is called the ghee-to-nut ratio . The nut-to-nut ratio is second only to the nut ratio in the ratio of kernels to kernels , and it seems to be the main reason the high-fiber and high-fat diets have led to the widespread use of artificial insemination for both the baby and young animals ,\n",
      "====================\n",
      "My hypothesis was proven right by the results of this experiment.  I thought that the vegan popcorn product would produce the fewest amount of popped kernels and that the movie theater buttered popcorn would product the most amount of popped kernels.  This was true based on the numbers that we counted.  After three trials for each brand of popcorn, the average number of unpopped kernels was in order Vegan, SmartPop, Orville, and MovieTheater.  The reason this happened might need to do with how much butter and salt is included in each brand of popcorn.  I tested each of the four diets with 13 participants ( 10 females and 13 males ) @ @ @ @ @ @ @ @ @ @ at the end of the experiment . The first set received the standard diet and the second set received an Orville diet . Each had to eat an array of a variety of foods -- mainly animal products -- and was given a shot of either Orville or SmartPants . These diets were similar in concept to the standard diets that I had seen in other experiments . The third set of participants had a traditional Orville diet with a few modifications : 1. Dues were added to the number of kernels to increase the number of kernels , 2. Dried chips were added to the total number of kernels , 3. Dried nuts were added to the total number of kernels , 4. Dried beans were added to the total number of kernels , and 5. Rawhide chips were added to the total number of kernels . The final set of participants had a standard diet\n",
      "====================\n",
      "My hypothesis was proven right by the results of this experiment.  I thought that the vegan popcorn product would produce the fewest amount of popped kernels and that the movie theater buttered popcorn would product the most amount of popped kernels.  This was true based on the numbers that we counted.  After three trials for each brand of popcorn, the average number of unpopped kernels was in order Vegan, SmartPop, Orville, and MovieTheater.  The reason this happened might need to do with how much butter and salt is included in each brand of popcorn. When I brought up the fact that either brand contained more saturated fat than the other -- or that one had a higher percentage of saturated fat than the other -- I was told that was because of the different methods the different manufacturers used in producing their products.  I decided to visit the respective booths and see for myself what was in the glass . What I came across was a whole new world of saturated fat . I was floored by the amount of saturated fat in these two products . I also discovered that the ingredients in the two products were different from each other . I 'll be ordering more from Dr. Strangelove . <p> The ingredients in the two products were exactly the same . The ingredients were both made in a lab . What had come to be known as a \" white plastic spoon \" was made of corn starch , soybean oil , and hydrogenated vegetable oil . The spoon was made of plastic and had a rubber band wrapped around it so that the spoon could be easily removed .\n",
      "====================\n"
     ]
    }
   ],
   "source": [
    "gpt2.generate(\n",
    "    sess,\n",
    "    model_name=model_name,\n",
    "    run_name=\"all_acad\",\n",
    "    prefix=\"My hypothesis was proven right by the results of this experiment.  I thought that the vegan popcorn product would produce the fewest amount of popped kernels and that the movie theater buttered popcorn would product the most amount of popped kernels.  This was true based on the numbers that we counted.  After three trials for each brand of popcorn, the average number of unpopped kernels was in order Vegan, SmartPop, Orville, and MovieTheater.  The reason this happened might need to do with how much butter and salt is included in each brand of popcorn.\",\n",
    "    temperature=0.7,\n",
    "    length=200,\n",
    "    nsamples=5\n",
    ")"
   ]
  },
  {
   "cell_type": "markdown",
   "metadata": {},
   "source": [
    "Sample two shows an interesting pattern again.  It produces two good sentences that are mostly on topic, and then changes the topic drastically.\n",
    "\n",
    "> \"( It 's important to remember that the number of kernels depends on the size of the container that is being used . ) So the fact that the amount of unpopped kernels was the most important statistic in the experiment may have something to do with the fact that the size of the container used was the most important factor in determining the quantity of kernels in the container . <p> As a side effect of using the most cost effective method available , participants showed a tendency toward an increased sense of smell and an increased sense of taste . The participants who had this tendency were those who preferred a more sweet , moist , and slightly less complex flavor , not something that was new to them . <p> Participants who...\"\n",
    "\n",
    "Sample three seems to gradually be going off topic (though it is doing a great job at introducing useless information), and then hilariously reveals that it's been thinking of a very different subject than the prompt gave it...\n",
    "\n",
    "> \"The following formula gives the average number of kernels : 171 = 1.06 , 171 = 1.33 , 171 = 1.64 , and 171 = 1.88 . This is because the ratio of the total number of unpopped kernels to the total number of kernels is called the nut ratio . ( The ratio of the nutto kernels to the kernels of the movie theater butters is called the ghee ratio . ) <p> The nut-to-ghee ratio is actually a measure of the number of kernels that can be popped.  One nut produces 32 percent fewer kernels than another , the nut-to-ghee ratio is called the ghee-to-nut ratio . The nut-to-nut ratio is second only to the nut ratio in the ratio of kernels to kernels , and it seems to be the main reason the high-fiber and high-fat diets have led to the widespread use of artificial insemination for both the baby and young animals ,\"    \n",
    "\n",
    "And I'm not exactly sure what's going on with sample five.  Seems to be taking on its own narrative... but like a story instead of a report.\n",
    "    \n",
    "> \"When I brought up the fact that either brand contained more saturated fat than the other -- or that one had a higher percentage of saturated fat than the other -- I was told that was because of the different methods the different manufacturers used in producing their products.  I decided to visit the respective booths and see for myself what was in the glass . What I came across was a whole new world of saturated fat . I was floored by the amount of saturated fat in these two products . I also discovered that the ingredients in the two products were different from each other . I 'll be ordering more from Dr. Strangelove . <p> The ingredients in the two products were exactly the same . The ingredients were both made in a lab . What had come to be known as a \" white plastic spoon \" was made of corn starch , soybean oil , and hydrogenated vegetable oil . The spoon was made of plastic and had a rubber band wrapped around it so that the spoon could be easily removed .\""
   ]
  },
  {
   "cell_type": "markdown",
   "metadata": {},
   "source": [
    "---\n",
    "\n",
    "It seems that GPT-2 has a very common habit of introducing new topics if it doesn't understand the full premise of the prompt.  This makes sense, because it is known to produce creative extensions to stories, and there's only so much it can say that hasn't already been said when it sees a prompt it doesn't understand.\n",
    "\n",
    "That's exactly what I want to abuse though.  I'm trying to force it to generate a sentence or two on a topic that it isn't familiar with.  If I do this, maybe I can get it to spit out some useless babble before it decides to change up the topic.\n",
    "\n",
    "On that thread, I can perhaps try generating very short samples.  If these look good and don't deviate too much from the topic, then I can shove that sample back into a new prompt and go again.\n",
    "\n",
    "-- Note that I still haven't tried any finetuning on the prompt itself."
   ]
  },
  {
   "cell_type": "code",
   "execution_count": 11,
   "metadata": {},
   "outputs": [
    {
     "name": "stdout",
     "output_type": "stream",
     "text": [
      "My hypothesis was proven right by the results of this experiment.  I thought that the vegan popcorn product would produce the fewest amount of popped kernels and that the movie theater buttered popcorn would product the most amount of popped kernels.  This was true based on the numbers that we counted.  After three trials for each brand of popcorn, the average number of unpopped kernels was in order Vegan, SmartPop, Orville, and MovieTheater.  The reason this happened might need to do with how much butter and salt is included in each brand of popcorn.  I also added a little bit of cornstarch to the mix to help with the extra fat.  The amount of cornstarch in the mix was enough to make the kernels larger than normal . <p> The results of the experiment were as expected . The average number of kernels was in order Orville , which was the most popular brand . The average number of kernels was Orville , which was the least popular . The difference was significant for the following variables : kernels , number of kernels\n",
      "====================\n",
      "My hypothesis was proven right by the results of this experiment.  I thought that the vegan popcorn product would produce the fewest amount of popped kernels and that the movie theater buttered popcorn would product the most amount of popped kernels.  This was true based on the numbers that we counted.  After three trials for each brand of popcorn, the average number of unpopped kernels was in order Vegan, SmartPop, Orville, and MovieTheater.  The reason this happened might need to do with how much butter and salt is included in each brand of popcorn.  The amount of salt was not important here because the amount of unsalted butter and salt was the same . The amount of unsalted butter and salt was the same . The amount of unsalted butter and salt was the same . The amount of unsalted butter and salt was the same . The amount of unsalted butter and salt was the same . The amount of unsalted butter and salt was the same . The amount of unsalted butter and salt was the same . The amount of unsalted butter\n",
      "====================\n",
      "My hypothesis was proven right by the results of this experiment.  I thought that the vegan popcorn product would produce the fewest amount of popped kernels and that the movie theater buttered popcorn would product the most amount of popped kernels.  This was true based on the numbers that we counted.  After three trials for each brand of popcorn, the average number of unpopped kernels was in order Vegan, SmartPop, Orville, and MovieTheater.  The reason this happened might need to do with how much butter and salt is included in each brand of popcorn.  The amount of salt was not important because the ingredients were the same . <p> The second experiment involved a different type of experiment . This time the participants were given a choice of either a box of 100 kernels or 100 kernels of 100% pure cornmeal . The kernels were either boxed or tinned . The kernels were either pre-rolled or tinned . The kernels were either pre-rolled or tinned . The kernels were either pre-rolled or tinned . The kernels were either pre\n",
      "====================\n",
      "My hypothesis was proven right by the results of this experiment.  I thought that the vegan popcorn product would produce the fewest amount of popped kernels and that the movie theater buttered popcorn would product the most amount of popped kernels.  This was true based on the numbers that we counted.  After three trials for each brand of popcorn, the average number of unpopped kernels was in order Vegan, SmartPop, Orville, and MovieTheater.  The reason this happened might need to do with how much butter and salt is included in each brand of popcorn.  The amount of salt was not important because the amount of saturated fat was not important . <p> The results of this experiment were consistent with the hypothesis that the more kernels in a container the more popped kernels were . The more kernels , the more popped kernels . The more kernels , the more popped kernels . <p> The results of this experiment were also consistent with the hypothesis that the more kernels in a container the more popped kernels were . The more kernels , the more popped kernels . The more\n",
      "====================\n",
      "My hypothesis was proven right by the results of this experiment.  I thought that the vegan popcorn product would produce the fewest amount of popped kernels and that the movie theater buttered popcorn would product the most amount of popped kernels.  This was true based on the numbers that we counted.  After three trials for each brand of popcorn, the average number of unpopped kernels was in order Vegan, SmartPop, Orville, and MovieTheater.  The reason this happened might need to do with how much butter and salt is included in each brand of popcorn.  I also added a little extra water to the pot to help with the absorption of the extra water . The result was that the total amount of kernels in the pot was in order Orville , and the total amount of kernels in the pot was in order Orville Plus . <p> The results of this experiment are summarized in Table 1 . The results of the experiment are consistent with the hypothesis that the more kernels in the pot , the more kernels the experiment showed . <p> The results of\n",
      "====================\n"
     ]
    }
   ],
   "source": [
    "gpt2.generate(\n",
    "    sess,\n",
    "    model_name=model_name,\n",
    "    run_name=\"all_acad\",\n",
    "    prefix=\"My hypothesis was proven right by the results of this experiment.  I thought that the vegan popcorn product would produce the fewest amount of popped kernels and that the movie theater buttered popcorn would product the most amount of popped kernels.  This was true based on the numbers that we counted.  After three trials for each brand of popcorn, the average number of unpopped kernels was in order Vegan, SmartPop, Orville, and MovieTheater.  The reason this happened might need to do with how much butter and salt is included in each brand of popcorn.\",\n",
    "    temperature=0.1,\n",
    "    length=100,\n",
    "    nsamples=5\n",
    ")"
   ]
  },
  {
   "cell_type": "code",
   "execution_count": 12,
   "metadata": {},
   "outputs": [
    {
     "name": "stdout",
     "output_type": "stream",
     "text": [
      "My hypothesis was proven right by the results of this experiment.  I thought that the vegan popcorn product would produce the fewest amount of popped kernels and that the movie theater buttered popcorn would product the most amount of popped kernels.  This was true based on the numbers that we counted.  After three trials for each brand of popcorn, the average number of unpopped kernels was in order Vegan, SmartPop, Orville, and MovieTheater.  The reason this happened might need to do with how much butter and salt is included in each brand of popcorn.  In the movie Orville , the bookie with the big gun is the only person who gets to have a big gun . In the movie Orville , the bookie is the only person who gets to have a gun . The number of kernels in a single bag was a function of the number of uncooked kernels . The number of kernels in a single bag was a function of the number of uncooked kernels in a single bowl . ( The number of uncooked kernels in a single bowl was\n",
      "====================\n",
      "My hypothesis was proven right by the results of this experiment.  I thought that the vegan popcorn product would produce the fewest amount of popped kernels and that the movie theater buttered popcorn would product the most amount of popped kernels.  This was true based on the numbers that we counted.  After three trials for each brand of popcorn, the average number of unpopped kernels was in order Vegan, SmartPop, Orville, and MovieTheater.  The reason this happened might need to do with how much butter and salt is included in each brand of popcorn.  In my opinion, this was a good explanation of why the average amount of kernels was not enough to produce the kernels we noted . <p> The results of this experiment were a bit surprising . I expected that the average amount of kernels produced would be very small , given the small amount of butter and salt . However , after three trials , the average number of kernels produced was actually about the same as the number of unpopped kernels . The reason for this is unknown . <p> The\n",
      "====================\n",
      "My hypothesis was proven right by the results of this experiment.  I thought that the vegan popcorn product would produce the fewest amount of popped kernels and that the movie theater buttered popcorn would product the most amount of popped kernels.  This was true based on the numbers that we counted.  After three trials for each brand of popcorn, the average number of unpopped kernels was in order Vegan, SmartPop, Orville, and MovieTheater.  The reason this happened might need to do with how much butter and salt is included in each brand of popcorn. The number of kernels was not important for the total number of kernels. The only difference was that Orville had more kernels and Orville had less popcorn . <p> The other two groups followed the same course of action : a high-fat , low-salt diet . The high-salt group consumed no more than four glasses of milk a day and a glass of milk a day ; the low-salt group consumed no more than two glasses of milk a day ; and the low\n",
      "====================\n",
      "My hypothesis was proven right by the results of this experiment.  I thought that the vegan popcorn product would produce the fewest amount of popped kernels and that the movie theater buttered popcorn would product the most amount of popped kernels.  This was true based on the numbers that we counted.  After three trials for each brand of popcorn, the average number of unpopped kernels was in order Vegan, SmartPop, Orville, and MovieTheater.  The reason this happened might need to do with how much butter and salt is included in each brand of popcorn.  These two variables were not included in the regression analysis , so the final regression product did not include them . The final regression showed that the more unpopped kernels the less processed the product ( p < .05 ) . <p> The regression analysis was based on the results of the experiment and the results of the experimenters . The participants included in the regression analysis were 20 students and 8 students @ @ @ @ @ @ @ @ @ @ . <p> The regression model was based on\n",
      "====================\n",
      "My hypothesis was proven right by the results of this experiment.  I thought that the vegan popcorn product would produce the fewest amount of popped kernels and that the movie theater buttered popcorn would product the most amount of popped kernels.  This was true based on the numbers that we counted.  After three trials for each brand of popcorn, the average number of unpopped kernels was in order Vegan, SmartPop, Orville, and MovieTheater.  The reason this happened might need to do with how much butter and salt is included in each brand of popcorn.  A little extra is probably needed to make the best out of your time . </p> I think this is because the amount of kernels in a batch is the number of minutes that the processor needs to process the dough . The more kernels , the longer the processor needs to make the dough . The more kernels , the longer the processor needs to make the dough . This is because the more kernels , the longer the processor . </p> The more kernels , the longer the processor . The more kernels\n",
      "====================\n"
     ]
    }
   ],
   "source": [
    "gpt2.generate(\n",
    "    sess,\n",
    "    model_name=model_name,\n",
    "    run_name=\"all_acad\",\n",
    "    prefix=\"My hypothesis was proven right by the results of this experiment.  I thought that the vegan popcorn product would produce the fewest amount of popped kernels and that the movie theater buttered popcorn would product the most amount of popped kernels.  This was true based on the numbers that we counted.  After three trials for each brand of popcorn, the average number of unpopped kernels was in order Vegan, SmartPop, Orville, and MovieTheater.  The reason this happened might need to do with how much butter and salt is included in each brand of popcorn.\",\n",
    "    temperature=0.5,\n",
    "    length=100,\n",
    "    nsamples=5\n",
    ")"
   ]
  },
  {
   "cell_type": "code",
   "execution_count": 13,
   "metadata": {},
   "outputs": [
    {
     "name": "stdout",
     "output_type": "stream",
     "text": [
      "My hypothesis was proven right by the results of this experiment.  I thought that the vegan popcorn product would produce the fewest amount of popped kernels and that the movie theater buttered popcorn would product the most amount of popped kernels.  This was true based on the numbers that we counted.  After three trials for each brand of popcorn, the average number of unpopped kernels was in order Vegan, SmartPop, Orville, and MovieTheater.  The reason this happened might need to do with how much butter and salt is included in each brand of popcorn. We counted the unpopped kernels . Each brand contained one-third of the amount of unpopped kernels . Filter by by with the numbers and measure the difference . This means that the total number of kernels in each pack of 100 seemed to be 100 , whereas the total number of kernels in 100 seemed to be 100 , filter by . The difference between the total number of kernels in 100 and 100 seemed to be 0.4 . In the end , the data from this experiment suggest that the two\n",
      "====================\n",
      "My hypothesis was proven right by the results of this experiment.  I thought that the vegan popcorn product would produce the fewest amount of popped kernels and that the movie theater buttered popcorn would product the most amount of popped kernels.  This was true based on the numbers that we counted.  After three trials for each brand of popcorn, the average number of unpopped kernels was in order Vegan, SmartPop, Orville, and MovieTheater.  The reason this happened might need to do with how much butter and salt is included in each brand of popcorn.  I suppose I could go on and on but it would make the fact that I used a smaller amount of the two same-sex ingredients , such as eggs , a little more controversial . ) <p> For the purposes of this experiment , I used the following formula : Prepared and refined vegetable oil , refined salt , and final dry-milk total fat ( fat from animal products ) are : PREFORMATTED TABLE <p> The number of unpopped kernels was based on the\n",
      "====================\n",
      "My hypothesis was proven right by the results of this experiment.  I thought that the vegan popcorn product would produce the fewest amount of popped kernels and that the movie theater buttered popcorn would product the most amount of popped kernels.  This was true based on the numbers that we counted.  After three trials for each brand of popcorn, the average number of unpopped kernels was in order Vegan, SmartPop, Orville, and MovieTheater.  The reason this happened might need to do with how much butter and salt is included in each brand of popcorn.  <p> Since the idea of the \" nut-free \" candy may seem like a stretch , let me explain why it is n't . The science on the topic is rather murky , since most of the studies centered on certain types of nutritionally complete foods . , but one study , by Hofmann and colleagues , did find that nutritionally complete foods had a slight effect on the amount of cumin , which is a compound found in corn kernels and in other nuts . <p\n",
      "====================\n",
      "My hypothesis was proven right by the results of this experiment.  I thought that the vegan popcorn product would produce the fewest amount of popped kernels and that the movie theater buttered popcorn would product the most amount of popped kernels.  This was true based on the numbers that we counted.  After three trials for each brand of popcorn, the average number of unpopped kernels was in order Vegan, SmartPop, Orville, and MovieTheater.  The reason this happened might need to do with how much butter and salt is included in each brand of popcorn. 2/9/2007 12:13 PM <Conflict of Interest Statement : * Dr. Jennifer L. Myers is assistant professor of clinical and family practice at Tufts University School of Medicine . Dr. Myers is also a board-certified ophthalmologist and a member of the Oligocene Society of Medicine . <p> **27;65076;TOOLONG . <p> Clearly , the second hypothesis is not the best approach in this situation . Indeed , it would be\n",
      "====================\n",
      "My hypothesis was proven right by the results of this experiment.  I thought that the vegan popcorn product would produce the fewest amount of popped kernels and that the movie theater buttered popcorn would product the most amount of popped kernels.  This was true based on the numbers that we counted.  After three trials for each brand of popcorn, the average number of unpopped kernels was in order Vegan, SmartPop, Orville, and MovieTheater.  The reason this happened might need to do with how much butter and salt is included in each brand of popcorn.  If you include the fat as part of the fat content , the results might be different for the other two brands . <p> The performance of the two groups was also not affected by the flavor of the product . The difference between the two groups was that the blend of three and four different confectioners ' chips was the more realistic for them . In contrast , the other two groups were more realistic for the flavor . This is because the blend of three and four different confections had more\n",
      "====================\n"
     ]
    }
   ],
   "source": [
    "gpt2.generate(\n",
    "    sess,\n",
    "    model_name=model_name,\n",
    "    run_name=\"all_acad\",\n",
    "    prefix=\"My hypothesis was proven right by the results of this experiment.  I thought that the vegan popcorn product would produce the fewest amount of popped kernels and that the movie theater buttered popcorn would product the most amount of popped kernels.  This was true based on the numbers that we counted.  After three trials for each brand of popcorn, the average number of unpopped kernels was in order Vegan, SmartPop, Orville, and MovieTheater.  The reason this happened might need to do with how much butter and salt is included in each brand of popcorn.\",\n",
    "    temperature=0.7,\n",
    "    length=100,\n",
    "    nsamples=5\n",
    ")"
   ]
  },
  {
   "cell_type": "markdown",
   "metadata": {},
   "source": [
    "Perhaps I got unlucky... but these didn't turn out well.\n",
    "\n",
    "At a low temperature, the model keeps either contradicting the previous sentence and saying that salt isn't important, or it says that it added another ingredient to the mix.\n",
    "\n",
    "At a medium temperature we seem to  have a change at getting something good.\n",
    "\n",
    "At a high temperature it goes off topic, not just off subject.\n",
    "\n",
    "Why would this differ from a longer sample?  Do I need to generate a longer sample and just take the first couple sentences?  Let's try longer samples."
   ]
  },
  {
   "cell_type": "code",
   "execution_count": 14,
   "metadata": {},
   "outputs": [
    {
     "name": "stdout",
     "output_type": "stream",
     "text": [
      "My hypothesis was proven right by the results of this experiment.  I thought that the vegan popcorn product would produce the fewest amount of popped kernels and that the movie theater buttered popcorn would product the most amount of popped kernels.  This was true based on the numbers that we counted.  After three trials for each brand of popcorn, the average number of unpopped kernels was in order Vegan, SmartPop, Orville, and MovieTheater.  The reason this happened might need to do with how much butter and salt is included in each brand of popcorn.  This is something that is not easily available in the stores . <p> In the present study , we tested the hypothesis that the consumption of whole milk , whole eggs , whole grains , whole beans , whole grains with whole milk , whole eggs , whole grains , whole beans , whole milk , whole eggs , whole milk , whole eggs , whole milk , whole eggs , whole milk , egg whites , whole milk , whole eggs , whole milk with whole milk , whole eggs , whole milk , whole eggs , whole milk , whole eggs , whole milk , egg whites , whole milk , whole eggs , whole milk , whole eggs , whole milk , egg whites <p> The effect of whole milk on the amount of popped kernels was examined by means of a 2-tailed t test . The hypothesis was that the greater the total number of kernels , the greater the effect of the effect of whole milk on the number of kernels . The interaction was .05 . <p> The effect of whole milk on the amount of popped kernels was examined by means of a 3-way analysis of variance ( ANOVA , Bonferroni post-hoc test ) . The hypothesis was that the greater the total number of kernels , the greater the effect of the effect of whole milk on the total number of kernels . The ANOVA showed that the greater the total number of kernels , the greater the effect of whole milk on the total number of kernels . The interaction was .05 . The results indicated that the greater the total number of kernels , the greater the effect of whole milk on the total number of kernels . <p> The effect of whole milk , on the other hand , was not significant at all . <p> The result of the two-tailed ANOVAs was that the less the milk , the greater the effect of the effect of whole milk on the total number of kernels . The interaction was .05 . The results of the 3-way ANOVA showed that the less the milk , the greater the effect of the effect of whole milk on the total number of kernels . The interaction was .05 . The results of the 4-way ANOVA showed that the less the milk , the greater the effect of the effect of whole milk on the total number of kernels . The interaction was .05 . <p> The results of the ANOVAs indicated that the less the milk , the greater the effect of the effect of milk on the total number of kernels . The interaction was .05 . <\n",
      "====================\n",
      "My hypothesis was proven right by the results of this experiment.  I thought that the vegan popcorn product would produce the fewest amount of popped kernels and that the movie theater buttered popcorn would product the most amount of popped kernels.  This was true based on the numbers that we counted.  After three trials for each brand of popcorn, the average number of unpopped kernels was in order Vegan, SmartPop, Orville, and MovieTheater.  The reason this happened might need to do with how much butter and salt is included in each brand of popcorn.  In either case , the total amount of kernels in each package was sufficient to make the average amount of popped kernels . <p> The first experiment was simple . We divided the number of kernels in a package by the total number of unpopped . The number of kernels was the number of unpopped kernels . The second experiment was a bit more complex . We divided the number of kernels by the total number of kernels . The third experiment was a bit more complicated . We divided by the total number of kernels and found that the average number of kernels was 4 . The fourth experiment involved using a different kernel count . We divided by the total number of kernels and found that the average number of kernels was 4 . The fifth experiment involved using a different kernel count . We divided by the total number of kernels and found that the average number of kernels was 4 . The sixth experiment involved using a different kernel count . We divided by the total number of kernels and found that the average number of kernels was 3 . The seventh experiment involved using a different kernel count . We divided by the total number of kernels and found that the average number of kernels was 3 . Conclusion <p> The results of the experiments in the previous experiment were consistent with the hypothesis that the more kernels in a package , the more kernels there were . The results of the experiments in the previous experiment are consistent with the hypothesis that the more kernels in a package , the more kernels there were . <p> The results of the experiments in the previous experiment are consistent with the hypothesis that the more kernels in a package , the more kernels there were . The results of the experiments in the previous experiment are consistent with the hypothesis that the more kernels in a package , the more kernels there were . <p> The results of the experiments in the previous experiment are consistent with the hypothesis that the more kernels in a package , the more kernels there were . The results of the experiments in the previous experiment are consistent with the hypothesis that the more kernels in a package , the more kernels there were . <p> The results of the experiments in the previous experiment are consistent with the hypothesis that the more kernels in a package , the more kernels there were . The results of the experiments in the previous experiment are consistent with the hypothesis that the more kernels in a package , the more kernels there were . <p> The results of the experiments in the previous experiment are consistent with the hypothesis that the more kernels in a package , the more kernels there were . The results\n",
      "====================\n",
      "My hypothesis was proven right by the results of this experiment.  I thought that the vegan popcorn product would produce the fewest amount of popped kernels and that the movie theater buttered popcorn would product the most amount of popped kernels.  This was true based on the numbers that we counted.  After three trials for each brand of popcorn, the average number of unpopped kernels was in order Vegan, SmartPop, Orville, and MovieTheater.  The reason this happened might need to do with how much butter and salt is included in each brand of popcorn.  As it is , we have no way of knowing how much is actually in the pot . Also , the number of kernels is not a measure of how many are in the pot . The number of kernels is a measure of the amount of oil that must be added to the pot . <p> To answer these questions , we need to know the total amount of kernels in each batch . We do not know how much oil is in each pot , or even whether each batch contains enough kernels . The answer is , we do not know . <p> It is evident , therefore , that there is no way to know how many kernels are in the pot . The total amount of kernels in each batch is a measure of how many kernels are in the pot . The total amount of oil in the pot is a measure of how much oil is in the pot . The total amount of oil in the pot is a measure of how much oil is in the pot . The total amount of oil is a measure of how much oil is in the pot . The total amount of oil is a measure of how much oil is in the pot . The total amount of oil is a measure of how much oil is in the pot . The total amount of oil is a measure of how much oil is in the pot . <p> The total amount of oil in the pot is the total amount of oil in the pot . The total amount of oil is the total amount of oil in the pot . The total amount of oil is the total amount of oil in the pot . The total amount of oil is the total amount of oil in the pot . The total amount of oil is the total amount of oil in the pot . The total amount of oil is the total amount of oil in the pot . The total amount of oil is the total amount of oil in the pot . The total amount of oil is the total amount of oil in the pot . The total amount of oil is the total amount of oil in the pot . The total amount of oil is the total amount of oil in the pot . The total amount of oil is the total amount of oil in the pot . The total amount of oil is the total amount of oil in the pot . The total amount of oil is the total amount of oil in the pot . The total amount of oil is the total amount of oil in the pot . The total amount of oil is the total amount of oil in the pot . The total amount of oil is the total amount\n",
      "====================\n",
      "My hypothesis was proven right by the results of this experiment.  I thought that the vegan popcorn product would produce the fewest amount of popped kernels and that the movie theater buttered popcorn would product the most amount of popped kernels.  This was true based on the numbers that we counted.  After three trials for each brand of popcorn, the average number of unpopped kernels was in order Vegan, SmartPop, Orville, and MovieTheater.  The reason this happened might need to do with how much butter and salt is included in each brand of popcorn.  In the movie the cowboy gets his kernels from the cowboys of the New World . The amount of salt and milk in each brand was different . The cowboys in Orville had a greater amount of salt and milk than did the public . The public in Orville had a greater amount of salt and milk than did the public in Orville . The average amount of kernels in each brand of popcorn was 8.5 kernels. <p> The second experiment involved two groups of four . The first group was given a generic movie theater buttered popcorn and the other group was given a movie theater buttered movie jackfruit . The two groups had the same amount of kernels but the number of kernels was different . The second experiment involved two different movie theaters buttered popcorn but the number of kernels was the same . The second group in the movie theater buttered movie but had a larger number of kernels . The second group in the movie theater buttered movie but had a smaller number of unpopped kernels . <p> The third experiment involved two groups of eight . The first group was given a generic movie jackfruit but was told that he could not use the jackfruit in his movie . The other group was given a movie buttered movie but the number of kernels in the group was the same . The second group in the movie buttered movie but had a larger number of kernels . The third group in the movie buttered movie but had a larger number of kernels . <p> The fourth experiment involved two groups of ten . The first group was given a generic movie jackfruit but was told that he could not use the jackfruit in his movie . The other group was given a movie buttered movie but was told that he could not use the jackfruit in his movie . <p> The fifth experiment involved two groups of twenty . The first group was given a generic movie but was told that he could not use the jackfruit in his movie . The other group was given a generic movie but was told that he could not use the jackfruit in his movie . <p> The sixth experiment involved two groups of forty . The first group was given a generic movie but was told that he could not use the jackfruit in his movie . The other group was given a generic but was told that he could not use the jackfruit in his movie . <p> The seventh experiment involved two groups of fifty . The first group was given a generic but was told that he could not use the jack\n",
      "====================\n",
      "My hypothesis was proven right by the results of this experiment.  I thought that the vegan popcorn product would produce the fewest amount of popped kernels and that the movie theater buttered popcorn would product the most amount of popped kernels.  This was true based on the numbers that we counted.  After three trials for each brand of popcorn, the average number of unpopped kernels was in order Vegan, SmartPop, Orville, and MovieTheater.  The reason this happened might need to do with how much butter and salt is included in each brand of popcorn.  The amount of unsalted butter and salt in the nadir of the product might be a function of the number of kernels in the product . The nadir of the product might be the number of unpoppable kernels . <p> The nadir of the product might be the number of unpoppable kernels . The nadir of the product might be the number of kernels in the nadir of the product . The nadir of the product might be the percentage of unpoppable kernels . The nadir of the product might be the percentage of kernels in the nadir of the product . The nadir of the product might be the percentage of kernels in the nadir of the product . All of the above -- all -- of the above-described factors might be accounted for by the nadir of the product . If the nadir of the product and the nadir of the kernels are similar , then the nadir of the product is nadirless . <p> The nadir of the product and kernels may be related , for instance , to the nadir of the total kernel , or may be related to the nadir of the kernels . The nadir of the total kernel may be related to the nadir of the kernels . The nadir of the kernels may be related to the nadir of the total kernel . The nadir of the kernels may be related to the nadir of the total kernel . The nadir of the kernels may be related to the nadir of the kernels . The nadir of the kernels may be related to the nadir of the total kernel . The nadir of the kernels may be related to the nadir of the total kernel . The nadir of the kernels may be related to the nadir of the total kernel . <p> The nadir of the kernels may be related to the nadir of the total kernel . The nadir of the kernels may be related to the nadir of the total kernel . The nadir of the kernels may be related to the nadir of the total kernel . The nadir of the kernels may be related to the nadir of the total kernel . The nadir of the kernels may be related to the nadir of the total kernel . The nadir of\n",
      "====================\n"
     ]
    }
   ],
   "source": [
    "gpt2.generate(\n",
    "    sess,\n",
    "    model_name=model_name,\n",
    "    run_name=\"all_acad\",\n",
    "    prefix=\"My hypothesis was proven right by the results of this experiment.  I thought that the vegan popcorn product would produce the fewest amount of popped kernels and that the movie theater buttered popcorn would product the most amount of popped kernels.  This was true based on the numbers that we counted.  After three trials for each brand of popcorn, the average number of unpopped kernels was in order Vegan, SmartPop, Orville, and MovieTheater.  The reason this happened might need to do with how much butter and salt is included in each brand of popcorn.\",\n",
    "    temperature=0.5,\n",
    "    length=500,\n",
    "    nsamples=5\n",
    ")"
   ]
  },
  {
   "cell_type": "markdown",
   "metadata": {},
   "source": [
    "***I should start using seeds for these samples so I can easily generate them again if need be.***"
   ]
  },
  {
   "cell_type": "code",
   "execution_count": 5,
   "metadata": {},
   "outputs": [
    {
     "name": "stdout",
     "output_type": "stream",
     "text": [
      "Blood has many meanings in Macbeth, in some scenes the literal form is used and in other scenes the figurative form is used. In Act II Scene 3 as Macbeth is talking about how Duncan, Malcolm and Donalbain’s bloodline has stopped. In Act II Scene 2, Macbeth talks about how his blood on his hands will never be washed away. Although they are two very different meanings they are very similar in the fact that they are both permanent. Blood in both sections cannot be washed away and will always be with you.\n",
      "\n",
      "When the first scene is shown Macbeth is talking about how the blood of his bloodline is on his hands, but when the second scene is shown he is talking about how he was born. This is a reference to the fact that he is now the father of Malcolm.\n",
      "\n",
      "Macbeth can be seen in the scene where Malcolm is talking about how he was born and when he is speaking about how he was killed.\n",
      "\n",
      "In the scene where Macbeth is talking\n",
      "====================\n",
      "Blood has many meanings in Macbeth, in some scenes the literal form is used and in other scenes the figurative form is used. In Act II Scene 3 as Macbeth is talking about how Duncan, Malcolm and Donalbain’s bloodline has stopped. In Act II Scene 2, Macbeth talks about how his blood on his hands will never be washed away. Although they are two very different meanings they are very similar in the fact that they are both permanent. Blood in both sections cannot be washed away and will always be with you.\n",
      "\n",
      "The blood on Macbeth's hands is not washed away, it simply is washed away. The blood can be washed away, but the blood is not.\n",
      "\n",
      "After Macbeth's death, the blood on his hands is not washed away.\n",
      "\n",
      "The blood on Macbeth's hands is not washed away.\n",
      "\n",
      "The blood on Duncan's hands is not washed away.\n",
      "\n",
      "The blood on Donalbain's hands is not washed away.\n",
      "\n",
      "The\n",
      "====================\n",
      "Blood has many meanings in Macbeth, in some scenes the literal form is used and in other scenes the figurative form is used. In Act II Scene 3 as Macbeth is talking about how Duncan, Malcolm and Donalbain’s bloodline has stopped. In Act II Scene 2, Macbeth talks about how his blood on his hands will never be washed away. Although they are two very different meanings they are very similar in the fact that they are both permanent. Blood in both sections cannot be washed away and will always be with you.\n",
      "\n",
      "Misc.\n",
      "\n",
      "Macbeth's blood is a red colour, which means that he has been touched by the blood of the dead. The blood of the dead is not made from blood but from the blood of the living. Macbeth is the hero of Macbeth's story and he is the only hero who has been touched by the blood of the dead.\n",
      "\n",
      "Macbeth's blood is a new colour, which means that he has been touched by the blood\n",
      "====================\n",
      "Blood has many meanings in Macbeth, in some scenes the literal form is used and in other scenes the figurative form is used. In Act II Scene 3 as Macbeth is talking about how Duncan, Malcolm and Donalbain’s bloodline has stopped. In Act II Scene 2, Macbeth talks about how his blood on his hands will never be washed away. Although they are two very different meanings they are very similar in the fact that they are both permanent. Blood in both sections cannot be washed away and will always be with you.\n",
      "\n",
      "In Macbeth, Macbeth is worried about the effects of his blood on the world. He is also worried about his mother's death, and he is concerned about Duncan's bloodline. Macbeth is concerned about Duncan's bloodline, and he is concerned about the consequences of his bloodline. He is concerned about Duncan's bloodline and Duncan's bloodline. Macbeth is concerned about the effects of Duncan's bloodline on the world. He is concerned about\n",
      "====================\n",
      "Blood has many meanings in Macbeth, in some scenes the literal form is used and in other scenes the figurative form is used. In Act II Scene 3 as Macbeth is talking about how Duncan, Malcolm and Donalbain’s bloodline has stopped. In Act II Scene 2, Macbeth talks about how his blood on his hands will never be washed away. Although they are two very different meanings they are very similar in the fact that they are both permanent. Blood in both sections cannot be washed away and will always be with you. Blood in the second section of the scene is seen to be washing away, but it is not. Macbeth's blood is still there, but blood has been removed. Macbeth's blood will not be washed away.\n",
      "\n",
      "In Macbeth's dialogue with Donalbain, Macbeth says that he has been given the blood of a demon. Macbeth's blood is still there, but it is not. Macbeth's blood is still there, but it\n",
      "====================\n"
     ]
    }
   ],
   "source": [
    "gpt2.generate(\n",
    "    sess,\n",
    "    model_name=model_name,\n",
    "    run_name=\"all_acad\",\n",
    "    prefix=\"\"\"Blood has many meanings in Macbeth, in some scenes the literal form is used and in other scenes the figurative form is used. In Act II Scene 3 as Macbeth is talking about how Duncan, Malcolm and Donalbain’s bloodline has stopped. In Act II Scene 2, Macbeth talks about how his blood on his hands will never be washed away. Although they are two very different meanings they are very similar in the fact that they are both permanent. Blood in both sections cannot be washed away and will always be with you.\"\"\",\n",
    "    temperature=0.5,\n",
    "    length=100,\n",
    "    nsamples=5\n",
    ")"
   ]
  },
  {
   "cell_type": "markdown",
   "metadata": {},
   "source": [
    "OOOOHHHHH WEEEEEE the fifth sample was perfect (at least before it  went to a new paragraph)"
   ]
  },
  {
   "cell_type": "markdown",
   "metadata": {},
   "source": [
    "---\n",
    "\n",
    "## Attempt 2: An idea to move forward <a id=2>\n",
    "\n",
    "To gain some text formatting and general verbosity skills, we can finetune on academic papers, newspapers, and magazines.\n",
    "\n",
    "Then, to make sure we're staying on topic, we can finetune on the current piece of writing which the highschooler wants to expand.  It is here where I am curious if we can finetune specifically on the *prompt*.  This will make it overfit to those specific sentences... but if I can run just few enough training steps then it hopefully won't overfit too much.\n",
    "\n",
    "I am going to need to modify the source code to allow the model to finetune on a smaller corpus."
   ]
  },
  {
   "cell_type": "code",
   "execution_count": 5,
   "metadata": {},
   "outputs": [],
   "source": [
    "# Let's clean the text a bit\n",
    "done = True\n",
    "\n",
    "def clean_corpus(filepath):\n",
    "\n",
    "    import re\n",
    "    \n",
    "    with open(filepath, 'r') as infile:\n",
    "        lines = infile.readlines()\n",
    "\n",
    "    cleaned = []\n",
    "\n",
    "    for line in lines:\n",
    "\n",
    "        cl = re.sub(r\"##\\d+\", '', line)\n",
    "        cl = re.sub(r\"@ @ @ @ @ @ @ @ @ @ \", '', cl)\n",
    "        cl = re.sub(r\"[#@]\", '', cl)\n",
    "\n",
    "        cleaned.append(cl)\n",
    "\n",
    "    with open(filepath, 'w') as outfile:\n",
    "        outfile.writelines(cleaned)\n",
    "    \n",
    "if not done:\n",
    "    clean_corpus(\"text/all_acad.txt\")\n",
    "    "
   ]
  },
  {
   "cell_type": "code",
   "execution_count": 6,
   "metadata": {},
   "outputs": [
    {
     "name": "stdout",
     "output_type": "stream",
     "text": [
      "Loading pretrained model models/124M/model.ckpt\n",
      "WARNING:tensorflow:From /opt/conda/lib/python3.7/site-packages/tensorflow/python/training/saver.py:1276: checkpoint_exists (from tensorflow.python.training.checkpoint_management) is deprecated and will be removed in a future version.\n",
      "Instructions for updating:\n",
      "Use standard file APIs to check for files with this prefix.\n",
      "INFO:tensorflow:Restoring parameters from models/124M/model.ckpt\n"
     ]
    }
   ],
   "source": [
    "# Don't run this cell if we already have a checkpoint\n",
    "done = True\n",
    "\n",
    "# Finetuning on all academic writings in the COCA corpus from 1990 to 2012\n",
    "if not done:\n",
    "\n",
    "    gpt2.finetune(\n",
    "        sess,\n",
    "        \"text/all_amn.txt\",\n",
    "        model_name=model_name,\n",
    "        run_name=\"all_amn\",\n",
    "        steps=1000, # Maximum number of training epochs\n",
    "        print_every=10,\n",
    "    )\n",
    "    \n",
    "if done:\n",
    "    \n",
    "    gpt2.load_gpt2(\n",
    "        sess,\n",
    "        model_name=model_name,\n",
    "        run_name=\"all_amn\",\n",
    "    )"
   ]
  },
  {
   "cell_type": "code",
   "execution_count": 6,
   "metadata": {},
   "outputs": [
    {
     "name": "stdout",
     "output_type": "stream",
     "text": [
      "Blood has many meanings in Macbeth, in some scenes the literal form is used and in other scenes the figurative form is used. In Act II Scene 3 as Macbeth is talking about how Duncan, Malcolm and Donalbain’s bloodline has stopped. In Act II Scene 2, Macbeth talks about how his blood on his hands will never be washed away. Although they are two very different meanings they are very similar in the fact that they are both permanent. Blood in both sections cannot be washed away and will always be with you. Macbeth is referring to the bloodline that has always been with him . The bloodline that has always been with him is a permanent fixture in his life . He is the one who has always been with him . The bloodline that has always been with him is a permanent fixture in his life . Macbeth is referring to the bloodline that has always been with him . The bloodline that has always been with him is a permanent fixture in his life . The bloodline that has always\n",
      "====================\n",
      "Blood has many meanings in Macbeth, in some scenes the literal form is used and in other scenes the figurative form is used. In Act II Scene 3 as Macbeth is talking about how Duncan, Malcolm and Donalbain’s bloodline has stopped. In Act II Scene 2, Macbeth talks about how his blood on his hands will never be washed away. Although they are two very different meanings they are very similar in the fact that they are both permanent. Blood in both sections cannot be washed away and will always be with you. Macbeth is referring to the bloodline that has been permanently cut off from the rest of humanity . The bloodline is a symbol of the human condition and the human spirit . The bloodline is a symbol of the human soul and the human spirit is a human being . The bloodline is a human symbol of the human heart and the human spirit is a human being . The bloodline is a human symbol of the human mind and the human spirit is a human being . The bloodline is a\n",
      "====================\n",
      "Blood has many meanings in Macbeth, in some scenes the literal form is used and in other scenes the figurative form is used. In Act II Scene 3 as Macbeth is talking about how Duncan, Malcolm and Donalbain’s bloodline has stopped. In Act II Scene 2, Macbeth talks about how his blood on his hands will never be washed away. Although they are two very different meanings they are very similar in the fact that they are both permanent. Blood in both sections cannot be washed away and will always be with you. Macbeth is referring to the bloodline that has been permanently tattooed on his body and the bloodline that has been permanently tattooed on his soul . The bloodline is permanent and the tattoo is permanent . The bloodline is a symbol of the relationship between the two . The bloodline is a symbol of the relationship between the two . The bloodline is a symbol of the relationship between the two . The bloodline is a symbol of the relationship between the two . The bloodline is a\n",
      "====================\n",
      "Blood has many meanings in Macbeth, in some scenes the literal form is used and in other scenes the figurative form is used. In Act II Scene 3 as Macbeth is talking about how Duncan, Malcolm and Donalbain’s bloodline has stopped. In Act II Scene 2, Macbeth talks about how his blood on his hands will never be washed away. Although they are two very different meanings they are very similar in the fact that they are both permanent. Blood in both sections cannot be washed away and will always be with you. Macbeth is referring to the bloodline that has always been with him . In both scenes , the bloodline is a symbol of the relationship between the two characters . The bloodline is a symbol of the relationship between the viewer and the character . The bloodline is a symbol of the relationship between the viewer and the character . The scene in which Macbeth is killed is a direct metaphor of the relationship between the viewer and the character . The scene in which Donalbain is killed is\n",
      "====================\n",
      "Blood has many meanings in Macbeth, in some scenes the literal form is used and in other scenes the figurative form is used. In Act II Scene 3 as Macbeth is talking about how Duncan, Malcolm and Donalbain’s bloodline has stopped. In Act II Scene 2, Macbeth talks about how his blood on his hands will never be washed away. Although they are two very different meanings they are very similar in the fact that they are both permanent. Blood in both sections cannot be washed away and will always be with you. Macbeth is referring to the bloodline that has always been with him . The bloodline that has always been with him is a permanent fixture in his life . He is a very visible symbol of the bloodline that has always been with him . The bloodline that has always been with him is a permanent fixture in his life . The bloodline that has always been with him is a permanent fixture in his life . Macbeth is referring to the bloodline that has always been with him .\n",
      "====================\n"
     ]
    }
   ],
   "source": [
    "gpt2.generate(\n",
    "    sess,\n",
    "    model_name=model_name,\n",
    "    run_name=\"all_amn\",\n",
    "    prefix=\"\"\"Blood has many meanings in Macbeth, in some scenes the literal form is used and in other scenes the figurative form is used. In Act II Scene 3 as Macbeth is talking about how Duncan, Malcolm and Donalbain’s bloodline has stopped. In Act II Scene 2, Macbeth talks about how his blood on his hands will never be washed away. Although they are two very different meanings they are very similar in the fact that they are both permanent. Blood in both sections cannot be washed away and will always be with you.\"\"\",\n",
    "    temperature=0.1,\n",
    "    length=100,\n",
    "    nsamples=5\n",
    ")"
   ]
  },
  {
   "cell_type": "code",
   "execution_count": 7,
   "metadata": {},
   "outputs": [
    {
     "name": "stdout",
     "output_type": "stream",
     "text": [
      "Blood has many meanings in Macbeth, in some scenes the literal form is used and in other scenes the figurative form is used. In Act II Scene 3 as Macbeth is talking about how Duncan, Malcolm and Donalbain’s bloodline has stopped. In Act II Scene 2, Macbeth talks about how his blood on his hands will never be washed away. Although they are two very different meanings they are very similar in the fact that they are both permanent. Blood in both sections cannot be washed away and will always be with you. In both cases the figurative meaning is retained and the figurative form is expanded . Macbeth is referring to the concept of \" permanent separation \" and the figurative meaning is expanded . Macbeth is referring to the concept of \" permanent death . \" Both figurative and literal interpretations of death are permanent and are always with us . The figurative meaning of death is retained and the figurative form expanded . There is no difference in the two interpretations of death and the meaning of the figurative\n",
      "====================\n",
      "Blood has many meanings in Macbeth, in some scenes the literal form is used and in other scenes the figurative form is used. In Act II Scene 3 as Macbeth is talking about how Duncan, Malcolm and Donalbain’s bloodline has stopped. In Act II Scene 2, Macbeth talks about how his blood on his hands will never be washed away. Although they are two very different meanings they are very similar in the fact that they are both permanent. Blood in both sections cannot be washed away and will always be with you. This is because blood is an eternal thing and will always remain with us . The two most famous scenes in Macbeth are scenes where Duncan and Donalbain meet in Macbeth 's office and discuss the death penalty . The bloodline is permanent and will always remain with us . Macbeth is the only person in the office who is a murderer , so his bloodline is permanent . In the scene between scenes of Duncan and Donalbain the bloodline is shown to be\n",
      "====================\n",
      "Blood has many meanings in Macbeth, in some scenes the literal form is used and in other scenes the figurative form is used. In Act II Scene 3 as Macbeth is talking about how Duncan, Malcolm and Donalbain’s bloodline has stopped. In Act II Scene 2, Macbeth talks about how his blood on his hands will never be washed away. Although they are two very different meanings they are very similar in the fact that they are both permanent. Blood in both sections cannot be washed away and will always be with you. Macbeth is saying that blood in both sections is a permanent thing . He is saying that blood in Macbeth is a permanent thing . He is saying that blood in Macbeth is a permanent thing . It is both a metaphor and a reality for how the English language works . In the same way that blood in both sections is a permanent thing , blood in Macbeth is a permanent thing . Macbeth , in his own way , is a metaphor for how the English language works\n",
      "====================\n",
      "Blood has many meanings in Macbeth, in some scenes the literal form is used and in other scenes the figurative form is used. In Act II Scene 3 as Macbeth is talking about how Duncan, Malcolm and Donalbain’s bloodline has stopped. In Act II Scene 2, Macbeth talks about how his blood on his hands will never be washed away. Although they are two very different meanings they are very similar in the fact that they are both permanent. Blood in both sections cannot be washed away and will always be with you. Macbeth is referring to the bloodline that is always on his hands . The two are both very similar in that they are both permanent. In both cases the bloodline is the one that is always on his hands . The figurative meaning of this is that blood in both places must be washed away , that blood in Macbeth 's blood on his hands will never be washed away . The figurative meaning of this is that blood in both places must be washed away , that blood in\n",
      "====================\n",
      "Blood has many meanings in Macbeth, in some scenes the literal form is used and in other scenes the figurative form is used. In Act II Scene 3 as Macbeth is talking about how Duncan, Malcolm and Donalbain’s bloodline has stopped. In Act II Scene 2, Macbeth talks about how his blood on his hands will never be washed away. Although they are two very different meanings they are very similar in the fact that they are both permanent. Blood in both sections cannot be washed away and will always be with you. In both scenes , Macbeth is referring to his bloodline as the \" Bloodline \" and the \" Bloodline \" is the bloodline on Duncan 's back . In both scenes , the bloodlines are drawn on Donalbain 's back and the bloodlines on his back . The Watermark In his speech Duncan is called \" the Watermark \" by Donalbain , who is called \" the Waterman \" by Macbeth . Macbeth , in his speech\n",
      "====================\n"
     ]
    }
   ],
   "source": [
    "gpt2.generate(\n",
    "    sess,\n",
    "    model_name=model_name,\n",
    "    run_name=\"all_amn\",\n",
    "    prefix=\"\"\"Blood has many meanings in Macbeth, in some scenes the literal form is used and in other scenes the figurative form is used. In Act II Scene 3 as Macbeth is talking about how Duncan, Malcolm and Donalbain’s bloodline has stopped. In Act II Scene 2, Macbeth talks about how his blood on his hands will never be washed away. Although they are two very different meanings they are very similar in the fact that they are both permanent. Blood in both sections cannot be washed away and will always be with you.\"\"\",\n",
    "    temperature=0.5,\n",
    "    length=100,\n",
    "    nsamples=5\n",
    ")"
   ]
  },
  {
   "cell_type": "code",
   "execution_count": 8,
   "metadata": {},
   "outputs": [
    {
     "name": "stdout",
     "output_type": "stream",
     "text": [
      "Blood has many meanings in Macbeth, in some scenes the literal form is used and in other scenes the figurative form is used. In Act II Scene 3 as Macbeth is talking about how Duncan, Malcolm and Donalbain’s bloodline has stopped. In Act II Scene 2, Macbeth talks about how his blood on his hands will never be washed away. Although they are two very different meanings they are very similar in the fact that they are both permanent. Blood in both sections cannot be washed away and will always be with you. When Macbeth speaks about how his blood is going to be washed away , he is saying that his bloodline is changing and will always be with him . The reason he is using the figurative form of the \" bloodline \" is that the bloodline has been altered in both Macbeth and Donalbain . This is because of the process of de-phasing the human body . The process can be done by a technique called \" bio-phasing , \" where a chemical\n",
      "====================\n",
      "Blood has many meanings in Macbeth, in some scenes the literal form is used and in other scenes the figurative form is used. In Act II Scene 3 as Macbeth is talking about how Duncan, Malcolm and Donalbain’s bloodline has stopped. In Act II Scene 2, Macbeth talks about how his blood on his hands will never be washed away. Although they are two very different meanings they are very similar in the fact that they are both permanent. Blood in both sections cannot be washed away and will always be with you. Macbeth 's blood line on his hands will always be on Donalbain 's hands . The bloodline on Malcolm 's hands will always be on Donalbain 's hands . The bloodline on Donalbain 's hands is permanent . The bloodmantle on his hands will always be on Donalbain 's hands . Macbeth never uses the figurative figurative form of blood on his hands . He is speaking about the bloodline that\n",
      "====================\n",
      "Blood has many meanings in Macbeth, in some scenes the literal form is used and in other scenes the figurative form is used. In Act II Scene 3 as Macbeth is talking about how Duncan, Malcolm and Donalbain’s bloodline has stopped. In Act II Scene 2, Macbeth talks about how his blood on his hands will never be washed away. Although they are two very different meanings they are very similar in the fact that they are both permanent. Blood in both sections cannot be washed away and will always be with you. In both scenes , as Macbeth is talking about how her blood will always be with you , he also signifies the restoration of her , or the beginning of his , existence , in the form of a false bloodline that is permanent . ( Macbeth , \" A Genealogy of the Holy Family : A Story of the Rise and Fall of King Solomon \" ) The way this is done , the fraying of the bloodlines is entirely reversible . Macbeth , who had previously been convinced\n",
      "====================\n",
      "Blood has many meanings in Macbeth, in some scenes the literal form is used and in other scenes the figurative form is used. In Act II Scene 3 as Macbeth is talking about how Duncan, Malcolm and Donalbain’s bloodline has stopped. In Act II Scene 2, Macbeth talks about how his blood on his hands will never be washed away. Although they are two very different meanings they are very similar in the fact that they are both permanent. Blood in both sections cannot be washed away and will always be with you. The implication here is that bloodline is forever . <p> \n",
      " This is a copy of a story by John Smedley Barrett entitled \" The Final Solution \" ( Knopf , 1993 ) . The author is a professor of history at the University of Wisconsin-Madison . <p> In the wake of the Sept. 11 terrorist attacks , some historians have begun to question the wisdom of the United States military 's intervention in Iraq as a preemptive strike on its soil . Some have\n",
      "====================\n",
      "Blood has many meanings in Macbeth, in some scenes the literal form is used and in other scenes the figurative form is used. In Act II Scene 3 as Macbeth is talking about how Duncan, Malcolm and Donalbain’s bloodline has stopped. In Act II Scene 2, Macbeth talks about how his blood on his hands will never be washed away. Although they are two very different meanings they are very similar in the fact that they are both permanent. Blood in both sections cannot be washed away and will always be with you. \n",
      " WHEN YOU ENTER THE BIBLE THE FIRST time you will discover that the book is filled with a mystery . You will be captivated as you are by its mystery , and you will be astonished to see that the book is filled with mystery . The mystery and the mystery are two sides of the same coin . Could you guess which side is the mystery ? You will be amazed at the mystery of the mystery and also amazed at the mystery of the mystery . The mystery is the key to understanding the\n",
      "====================\n"
     ]
    }
   ],
   "source": [
    "gpt2.generate(\n",
    "    sess,\n",
    "    model_name=model_name,\n",
    "    run_name=\"all_amn\",\n",
    "    prefix=\"\"\"Blood has many meanings in Macbeth, in some scenes the literal form is used and in other scenes the figurative form is used. In Act II Scene 3 as Macbeth is talking about how Duncan, Malcolm and Donalbain’s bloodline has stopped. In Act II Scene 2, Macbeth talks about how his blood on his hands will never be washed away. Although they are two very different meanings they are very similar in the fact that they are both permanent. Blood in both sections cannot be washed away and will always be with you.\"\"\",\n",
    "    temperature=0.7,\n",
    "    length=100,\n",
    "    nsamples=5\n",
    ")"
   ]
  },
  {
   "cell_type": "code",
   "execution_count": 9,
   "metadata": {},
   "outputs": [
    {
     "name": "stdout",
     "output_type": "stream",
     "text": [
      "Blood has many meanings in Macbeth, in some scenes the literal form is used and in other scenes the figurative form is used. In Act II Scene 3 as Macbeth is talking about how Duncan, Malcolm and Donalbain’s bloodline has stopped. In Act II Scene 2, Macbeth talks about how his blood on his hands will never be washed away. Although they are two very different meanings they are very similar in the fact that they are both permanent. Blood in both sections cannot be washed away and will always be with you. Macbeth is referring to the bloodline that is permanently in her body and that is always in her mind . This is a very important distinction that we must make in order to understand the meaning of the figurative form of the figurative form of the bloodline in Macbeth . The bloodline is permanent and will always be in her body . This is a very important distinction that we must make in order to understand the meaning of the figurative form of the figurative form of the blood\n",
      "====================\n",
      "Blood has many meanings in Macbeth, in some scenes the literal form is used and in other scenes the figurative form is used. In Act II Scene 3 as Macbeth is talking about how Duncan, Malcolm and Donalbain’s bloodline has stopped. In Act II Scene 2, Macbeth talks about how his blood on his hands will never be washed away. Although they are two very different meanings they are very similar in the fact that they are both permanent. Blood in both sections cannot be washed away and will always be with you. Macbeth is referring to the bloodline , the bloodline that is permanent in both scenes . The bloodline in Act II Scene 3 is a metaphor for the relationship between Duncan and Donalbain . The bloodline in Act II Scene 4 is a metaphor for the relationship between Macbeth and the character of Donalbain . The bloodline in Act III Scene 5 is a metaphor for the relationship between Macbeth and the character of Donalbain . The bloodline in\n",
      "====================\n",
      "Blood has many meanings in Macbeth, in some scenes the literal form is used and in other scenes the figurative form is used. In Act II Scene 3 as Macbeth is talking about how Duncan, Malcolm and Donalbain’s bloodline has stopped. In Act II Scene 2, Macbeth talks about how his blood on his hands will never be washed away. Although they are two very different meanings they are very similar in the fact that they are both permanent. Blood in both sections cannot be washed away and will always be with you. The bloodline is the one that is permanent and the figurative one the indefinite . The figurative meaning is the one that is permanent and the figurative meaning is the one that is indefinite . The figurative meaning is the one that is permanent and the figurative meaning is the one that is indefinite . The meaning of life is not a matter of washing away but of being with a living being . The meaning of life is not a matter of being with a living being but a matter of being with\n",
      "====================\n",
      "Blood has many meanings in Macbeth, in some scenes the literal form is used and in other scenes the figurative form is used. In Act II Scene 3 as Macbeth is talking about how Duncan, Malcolm and Donalbain’s bloodline has stopped. In Act II Scene 2, Macbeth talks about how his blood on his hands will never be washed away. Although they are two very different meanings they are very similar in the fact that they are both permanent. Blood in both sections cannot be washed away and will always be with you. Macbeth is referring to his bloodline and Donalbain to his bloodline , and both are the same thing . The meaning of the bloodline is that it runs from your hand to your feet , and it runs from your heart to your knees . The bloodline is your lifeblood , and it runs from your heart to your knees . The meaning of the bloodline is that it runs from your hand to your feet , and it runs from your knees . The meaning of the knees\n",
      "====================\n",
      "Blood has many meanings in Macbeth, in some scenes the literal form is used and in other scenes the figurative form is used. In Act II Scene 3 as Macbeth is talking about how Duncan, Malcolm and Donalbain’s bloodline has stopped. In Act II Scene 2, Macbeth talks about how his blood on his hands will never be washed away. Although they are two very different meanings they are very similar in the fact that they are both permanent. Blood in both sections cannot be washed away and will always be with you. The bloodline is the physical manifestation of a person and the physical manifestation of a culture . The bloodline is the physical manifestation of a person and the physical manifestation of a culture . It is this similarity that makes Macbeth the most interesting character in the film . It is a physical manifestation of a person and a culture . It is a physical manifestation of a person and a culture . The bloodline is the physical manifestation of a person and a culture . It is a physical manifestation of a person and\n",
      "====================\n"
     ]
    }
   ],
   "source": [
    "gpt2.generate(\n",
    "    sess,\n",
    "    model_name=model_name,\n",
    "    run_name=\"all_amn\",\n",
    "    prefix=\"\"\"Blood has many meanings in Macbeth, in some scenes the literal form is used and in other scenes the figurative form is used. In Act II Scene 3 as Macbeth is talking about how Duncan, Malcolm and Donalbain’s bloodline has stopped. In Act II Scene 2, Macbeth talks about how his blood on his hands will never be washed away. Although they are two very different meanings they are very similar in the fact that they are both permanent. Blood in both sections cannot be washed away and will always be with you.\"\"\",\n",
    "    temperature=0.3,\n",
    "    length=100,\n",
    "    nsamples=5\n",
    ")"
   ]
  },
  {
   "cell_type": "markdown",
   "metadata": {},
   "source": [
    "The low temperature quickly repeats itself, but a low to medium temperature does seem to show promise.  That being said, the model still tries to introduce new information.\n",
    "\n",
    "It's time to finetune on part (or all) of the essay!"
   ]
  },
  {
   "cell_type": "code",
   "execution_count": 11,
   "metadata": {},
   "outputs": [
    {
     "name": "stdout",
     "output_type": "stream",
     "text": [
      "The final and arguably most accurate and important connection between Salinger’s life and the book he created is a similarity between Holden and Salinger. The two share a great interest, of which is a definite theme throughout the book, being the desire for the preservation of innocence. Throughout the book, Holden seems to be less grown up than most of the people around him. He seems to dislike many people his age or older, saying that they are all phonies. Kids on the other hand, he likes them a lot due to just how uncorrupted and innocent they are. When Holden is depressed, seeing the innocence of a kid generally makes him feel better, as seen when Holden is depressed before meeting up with Sally, but he sees a child singing “If a body catch a body coming through the rye.” and it made him feel better. The book is filled with references to the Bible and to the way that God has used the world . The book 's main character is a young man named Daniel , who is in his early 20s . Daniel is a good friend of Salinger 's and is the one who has been responsible for his father 's death . Daniel was killed by a car accident , and his father is now a prison . Salinger and his friends are trying to get Daniel out of prison , but they are being\n",
      "====================\n",
      "The final and arguably most accurate and important connection between Salinger’s life and the book he created is a similarity between Holden and Salinger. The two share a great interest, of which is a definite theme throughout the book, being the desire for the preservation of innocence. Throughout the book, Holden seems to be less grown up than most of the people around him. He seems to dislike many people his age or older, saying that they are all phonies. Kids on the other hand, he likes them a lot due to just how uncorrupted and innocent they are. When Holden is depressed, seeing the innocence of a kid generally makes him feel better, as seen when Holden is depressed before meeting up with Sally, but he sees a child singing “If a body catch a body coming through the rye.” and it made him feel better. The book ends with a scene where Holden and his wife are having a drink and he is drunk and in a drunken rage . He is drunk and in a drunken rage when he sees the car pulling up to him . He yells at the driver to stop . The driver yells back that he does n't care and that the car is n't going anywhere . The car pulls up . Holden is so drunk that he loses consciousness . He is taken to the hospital where he is treated for shock and dehydration .\n",
      "====================\n",
      "The final and arguably most accurate and important connection between Salinger’s life and the book he created is a similarity between Holden and Salinger. The two share a great interest, of which is a definite theme throughout the book, being the desire for the preservation of innocence. Throughout the book, Holden seems to be less grown up than most of the people around him. He seems to dislike many people his age or older, saying that they are all phonies. Kids on the other hand, he likes them a lot due to just how uncorrupted and innocent they are. When Holden is depressed, seeing the innocence of a kid generally makes him feel better, as seen when Holden is depressed before meeting up with Sally, but he sees a child singing “If a body catch a body coming through the rye.” and it made him feel better. The book also makes it clear that the book is not a biography of Salinger , but a book about his life . The book is not a biography of himself , but a book about his life . It is a book about his life . It is a book about his love of books . It is a book about his love of writing . It is a book about his love of writing . It is a book about his love of writing . It is a book about his love of writing . It is\n",
      "====================\n",
      "The final and arguably most accurate and important connection between Salinger’s life and the book he created is a similarity between Holden and Salinger. The two share a great interest, of which is a definite theme throughout the book, being the desire for the preservation of innocence. Throughout the book, Holden seems to be less grown up than most of the people around him. He seems to dislike many people his age or older, saying that they are all phonies. Kids on the other hand, he likes them a lot due to just how uncorrupted and innocent they are. When Holden is depressed, seeing the innocence of a kid generally makes him feel better, as seen when Holden is depressed before meeting up with Sally, but he sees a child singing “If a body catch a body coming through the rye.” and it made him feel better. It was the same for Salinger , who was much more upbeat and upbeat before they met .           \n",
      " AUSTRIA , Australia -- The sun is beating down on the city of Sydney , and the sky is filled with the sounds of the city 's booming commercial districts . Sydney is in the grip of a severe housing crunch , and the city 's unemployment rate is over 25 percent . And the heat is starting to sap the city 's\n",
      "====================\n",
      "The final and arguably most accurate and important connection between Salinger’s life and the book he created is a similarity between Holden and Salinger. The two share a great interest, of which is a definite theme throughout the book, being the desire for the preservation of innocence. Throughout the book, Holden seems to be less grown up than most of the people around him. He seems to dislike many people his age or older, saying that they are all phonies. Kids on the other hand, he likes them a lot due to just how uncorrupted and innocent they are. When Holden is depressed, seeing the innocence of a kid generally makes him feel better, as seen when Holden is depressed before meeting up with Sally, but he sees a child singing “If a body catch a body coming through the rye.” and it made him feel better. It is a childlike quality to a childlike person , and in the end he gets his wish . The book is also a very emotional book , as it is in many of Salinger 's other books . The book is filled with tears , and it is also filled with hope . It is a book of hope for a child . The book is also a book of hope for a family . It is a book of hope for the children of the world . The book is a book of hope\n",
      "====================\n"
     ]
    }
   ],
   "source": [
    "gpt2.generate(\n",
    "    sess,\n",
    "    model_name=model_name,\n",
    "    run_name=\"all_amn\",\n",
    "    prefix=\"\"\"The final and arguably most accurate and important connection between Salinger’s life and the book he created is a similarity between Holden and Salinger. The two share a great interest, of which is a definite theme throughout the book, being the desire for the preservation of innocence. Throughout the book, Holden seems to be less grown up than most of the people around him. He seems to dislike many people his age or older, saying that they are all phonies. Kids on the other hand, he likes them a lot due to just how uncorrupted and innocent they are. When Holden is depressed, seeing the innocence of a kid generally makes him feel better, as seen when Holden is depressed before meeting up with Sally, but he sees a child singing “If a body catch a body coming through the rye.” and it made him feel better.\"\"\",\n",
    "    temperature=0.4,\n",
    "    length=100,\n",
    "    nsamples=5\n",
    ")"
   ]
  },
  {
   "cell_type": "markdown",
   "metadata": {},
   "source": [
    "It would probably make the most sense to first finetune on the entire essay in order to get some of that overall context, and then to finetune on the smaller prompts themselves to try to overfit the specific subjects."
   ]
  },
  {
   "cell_type": "code",
   "execution_count": 7,
   "metadata": {},
   "outputs": [
    {
     "ename": "ValueError",
     "evalue": "Variable model/wpe already exists, disallowed. Did you mean to set reuse=True or reuse=tf.AUTO_REUSE in VarScope? Originally defined at:\n\n  File \"/home/jovyan/.local/lib/python3.7/site-packages/gpt_2_simple/src/model.py\", line 183, in model\n    initializer=tf.compat.v1.random_normal_initializer(stddev=0.01))\n  File \"/home/jovyan/.local/lib/python3.7/site-packages/gpt_2_simple/gpt_2.py\", line 369, in load_gpt2\n    output = model.model(hparams=hparams, X=context)\n  File \"<ipython-input-6-8667b47ea888>\", line 21, in <module>\n    run_name=\"all_amn\",\n  File \"/opt/conda/lib/python3.7/site-packages/IPython/core/interactiveshell.py\", line 3326, in run_code\n    exec(code_obj, self.user_global_ns, self.user_ns)\n  File \"/opt/conda/lib/python3.7/site-packages/IPython/core/interactiveshell.py\", line 3249, in run_ast_nodes\n    if (await self.run_code(code, result,  async_=asy)):\n",
     "output_type": "error",
     "traceback": [
      "\u001b[0;31m---------------------------------------------------------------------------\u001b[0m",
      "\u001b[0;31mValueError\u001b[0m                                Traceback (most recent call last)",
      "\u001b[0;32m<ipython-input-7-cd9af7619477>\u001b[0m in \u001b[0;36m<module>\u001b[0;34m\u001b[0m\n\u001b[1;32m      5\u001b[0m     \u001b[0mrun_name\u001b[0m\u001b[0;34m=\u001b[0m\u001b[0;34m\"amn_catcher\"\u001b[0m\u001b[0;34m,\u001b[0m\u001b[0;34m\u001b[0m\u001b[0;34m\u001b[0m\u001b[0m\n\u001b[1;32m      6\u001b[0m     \u001b[0msteps\u001b[0m\u001b[0;34m=\u001b[0m\u001b[0;36m100\u001b[0m\u001b[0;34m,\u001b[0m \u001b[0;31m# Maximum number of training epochs\u001b[0m\u001b[0;34m\u001b[0m\u001b[0;34m\u001b[0m\u001b[0m\n\u001b[0;32m----> 7\u001b[0;31m     \u001b[0mprint_every\u001b[0m\u001b[0;34m=\u001b[0m\u001b[0;36m5\u001b[0m\u001b[0;34m,\u001b[0m\u001b[0;34m\u001b[0m\u001b[0;34m\u001b[0m\u001b[0m\n\u001b[0m\u001b[1;32m      8\u001b[0m )\n",
      "\u001b[0;32m~/.local/lib/python3.7/site-packages/gpt_2_simple/gpt_2.py\u001b[0m in \u001b[0;36mfinetune\u001b[0;34m(sess, dataset, steps, model_name, model_dir, combine, batch_size, learning_rate, accumulate_gradients, restore_from, run_name, checkpoint_dir, sample_every, sample_length, sample_num, save_every, print_every, max_checkpoints, use_memory_saving_gradients, only_train_transformer_layers, optimizer, overwrite)\u001b[0m\n\u001b[1;32m    182\u001b[0m \u001b[0;34m\u001b[0m\u001b[0m\n\u001b[1;32m    183\u001b[0m     \u001b[0mcontext\u001b[0m \u001b[0;34m=\u001b[0m \u001b[0mtf\u001b[0m\u001b[0;34m.\u001b[0m\u001b[0mcompat\u001b[0m\u001b[0;34m.\u001b[0m\u001b[0mv1\u001b[0m\u001b[0;34m.\u001b[0m\u001b[0mplaceholder\u001b[0m\u001b[0;34m(\u001b[0m\u001b[0mtf\u001b[0m\u001b[0;34m.\u001b[0m\u001b[0mint32\u001b[0m\u001b[0;34m,\u001b[0m \u001b[0;34m[\u001b[0m\u001b[0mbatch_size\u001b[0m\u001b[0;34m,\u001b[0m \u001b[0;32mNone\u001b[0m\u001b[0;34m]\u001b[0m\u001b[0;34m)\u001b[0m\u001b[0;34m\u001b[0m\u001b[0;34m\u001b[0m\u001b[0m\n\u001b[0;32m--> 184\u001b[0;31m     \u001b[0moutput\u001b[0m \u001b[0;34m=\u001b[0m \u001b[0mmodel\u001b[0m\u001b[0;34m.\u001b[0m\u001b[0mmodel\u001b[0m\u001b[0;34m(\u001b[0m\u001b[0mhparams\u001b[0m\u001b[0;34m=\u001b[0m\u001b[0mhparams\u001b[0m\u001b[0;34m,\u001b[0m \u001b[0mX\u001b[0m\u001b[0;34m=\u001b[0m\u001b[0mcontext\u001b[0m\u001b[0;34m)\u001b[0m\u001b[0;34m\u001b[0m\u001b[0;34m\u001b[0m\u001b[0m\n\u001b[0m\u001b[1;32m    185\u001b[0m     loss = tf.reduce_mean(\n\u001b[1;32m    186\u001b[0m         input_tensor=tf.nn.sparse_softmax_cross_entropy_with_logits(\n",
      "\u001b[0;32m~/.local/lib/python3.7/site-packages/gpt_2_simple/src/model.py\u001b[0m in \u001b[0;36mmodel\u001b[0;34m(hparams, X, past, scope, reuse)\u001b[0m\n\u001b[1;32m    181\u001b[0m \u001b[0;34m\u001b[0m\u001b[0m\n\u001b[1;32m    182\u001b[0m         wpe = tf.compat.v1.get_variable('wpe', [hparams.n_ctx, hparams.n_embd],\n\u001b[0;32m--> 183\u001b[0;31m                              initializer=tf.compat.v1.random_normal_initializer(stddev=0.01))\n\u001b[0m\u001b[1;32m    184\u001b[0m         wte = tf.compat.v1.get_variable('wte', [hparams.n_vocab, hparams.n_embd],\n\u001b[1;32m    185\u001b[0m                              initializer=tf.compat.v1.random_normal_initializer(stddev=0.02))\n",
      "\u001b[0;32m/opt/conda/lib/python3.7/site-packages/tensorflow/python/ops/variable_scope.py\u001b[0m in \u001b[0;36mget_variable\u001b[0;34m(name, shape, dtype, initializer, regularizer, trainable, collections, caching_device, partitioner, validate_shape, use_resource, custom_getter, constraint, synchronization, aggregation)\u001b[0m\n\u001b[1;32m   1494\u001b[0m       \u001b[0mconstraint\u001b[0m\u001b[0;34m=\u001b[0m\u001b[0mconstraint\u001b[0m\u001b[0;34m,\u001b[0m\u001b[0;34m\u001b[0m\u001b[0;34m\u001b[0m\u001b[0m\n\u001b[1;32m   1495\u001b[0m       \u001b[0msynchronization\u001b[0m\u001b[0;34m=\u001b[0m\u001b[0msynchronization\u001b[0m\u001b[0;34m,\u001b[0m\u001b[0;34m\u001b[0m\u001b[0;34m\u001b[0m\u001b[0m\n\u001b[0;32m-> 1496\u001b[0;31m       aggregation=aggregation)\n\u001b[0m\u001b[1;32m   1497\u001b[0m \u001b[0;34m\u001b[0m\u001b[0m\n\u001b[1;32m   1498\u001b[0m \u001b[0;34m\u001b[0m\u001b[0m\n",
      "\u001b[0;32m/opt/conda/lib/python3.7/site-packages/tensorflow/python/ops/variable_scope.py\u001b[0m in \u001b[0;36mget_variable\u001b[0;34m(self, var_store, name, shape, dtype, initializer, regularizer, reuse, trainable, collections, caching_device, partitioner, validate_shape, use_resource, custom_getter, constraint, synchronization, aggregation)\u001b[0m\n\u001b[1;32m   1237\u001b[0m           \u001b[0mconstraint\u001b[0m\u001b[0;34m=\u001b[0m\u001b[0mconstraint\u001b[0m\u001b[0;34m,\u001b[0m\u001b[0;34m\u001b[0m\u001b[0;34m\u001b[0m\u001b[0m\n\u001b[1;32m   1238\u001b[0m           \u001b[0msynchronization\u001b[0m\u001b[0;34m=\u001b[0m\u001b[0msynchronization\u001b[0m\u001b[0;34m,\u001b[0m\u001b[0;34m\u001b[0m\u001b[0;34m\u001b[0m\u001b[0m\n\u001b[0;32m-> 1239\u001b[0;31m           aggregation=aggregation)\n\u001b[0m\u001b[1;32m   1240\u001b[0m \u001b[0;34m\u001b[0m\u001b[0m\n\u001b[1;32m   1241\u001b[0m   def _get_partitioned_variable(self,\n",
      "\u001b[0;32m/opt/conda/lib/python3.7/site-packages/tensorflow/python/ops/variable_scope.py\u001b[0m in \u001b[0;36mget_variable\u001b[0;34m(self, name, shape, dtype, initializer, regularizer, reuse, trainable, collections, caching_device, partitioner, validate_shape, use_resource, custom_getter, constraint, synchronization, aggregation)\u001b[0m\n\u001b[1;32m    560\u001b[0m           \u001b[0mconstraint\u001b[0m\u001b[0;34m=\u001b[0m\u001b[0mconstraint\u001b[0m\u001b[0;34m,\u001b[0m\u001b[0;34m\u001b[0m\u001b[0;34m\u001b[0m\u001b[0m\n\u001b[1;32m    561\u001b[0m           \u001b[0msynchronization\u001b[0m\u001b[0;34m=\u001b[0m\u001b[0msynchronization\u001b[0m\u001b[0;34m,\u001b[0m\u001b[0;34m\u001b[0m\u001b[0;34m\u001b[0m\u001b[0m\n\u001b[0;32m--> 562\u001b[0;31m           aggregation=aggregation)\n\u001b[0m\u001b[1;32m    563\u001b[0m \u001b[0;34m\u001b[0m\u001b[0m\n\u001b[1;32m    564\u001b[0m   def _get_partitioned_variable(self,\n",
      "\u001b[0;32m/opt/conda/lib/python3.7/site-packages/tensorflow/python/ops/variable_scope.py\u001b[0m in \u001b[0;36m_true_getter\u001b[0;34m(name, shape, dtype, initializer, regularizer, reuse, trainable, collections, caching_device, partitioner, validate_shape, use_resource, constraint, synchronization, aggregation)\u001b[0m\n\u001b[1;32m    512\u001b[0m           \u001b[0mconstraint\u001b[0m\u001b[0;34m=\u001b[0m\u001b[0mconstraint\u001b[0m\u001b[0;34m,\u001b[0m\u001b[0;34m\u001b[0m\u001b[0;34m\u001b[0m\u001b[0m\n\u001b[1;32m    513\u001b[0m           \u001b[0msynchronization\u001b[0m\u001b[0;34m=\u001b[0m\u001b[0msynchronization\u001b[0m\u001b[0;34m,\u001b[0m\u001b[0;34m\u001b[0m\u001b[0;34m\u001b[0m\u001b[0m\n\u001b[0;32m--> 514\u001b[0;31m           aggregation=aggregation)\n\u001b[0m\u001b[1;32m    515\u001b[0m \u001b[0;34m\u001b[0m\u001b[0m\n\u001b[1;32m    516\u001b[0m     synchronization, aggregation, trainable = (\n",
      "\u001b[0;32m/opt/conda/lib/python3.7/site-packages/tensorflow/python/ops/variable_scope.py\u001b[0m in \u001b[0;36m_get_single_variable\u001b[0;34m(self, name, shape, dtype, initializer, regularizer, partition_info, reuse, trainable, collections, caching_device, validate_shape, use_resource, constraint, synchronization, aggregation)\u001b[0m\n\u001b[1;32m    862\u001b[0m         \u001b[0mtb\u001b[0m \u001b[0;34m=\u001b[0m \u001b[0;34m[\u001b[0m\u001b[0mx\u001b[0m \u001b[0;32mfor\u001b[0m \u001b[0mx\u001b[0m \u001b[0;32min\u001b[0m \u001b[0mtb\u001b[0m \u001b[0;32mif\u001b[0m \u001b[0;34m\"tensorflow/python\"\u001b[0m \u001b[0;32mnot\u001b[0m \u001b[0;32min\u001b[0m \u001b[0mx\u001b[0m\u001b[0;34m[\u001b[0m\u001b[0;36m0\u001b[0m\u001b[0;34m]\u001b[0m\u001b[0;34m]\u001b[0m\u001b[0;34m[\u001b[0m\u001b[0;34m:\u001b[0m\u001b[0;36m5\u001b[0m\u001b[0;34m]\u001b[0m\u001b[0;34m\u001b[0m\u001b[0;34m\u001b[0m\u001b[0m\n\u001b[1;32m    863\u001b[0m         raise ValueError(\"%s Originally defined at:\\n\\n%s\" %\n\u001b[0;32m--> 864\u001b[0;31m                          (err_msg, \"\".join(traceback.format_list(tb))))\n\u001b[0m\u001b[1;32m    865\u001b[0m       \u001b[0mfound_var\u001b[0m \u001b[0;34m=\u001b[0m \u001b[0mself\u001b[0m\u001b[0;34m.\u001b[0m\u001b[0m_vars\u001b[0m\u001b[0;34m[\u001b[0m\u001b[0mname\u001b[0m\u001b[0;34m]\u001b[0m\u001b[0;34m\u001b[0m\u001b[0;34m\u001b[0m\u001b[0m\n\u001b[1;32m    866\u001b[0m       \u001b[0;32mif\u001b[0m \u001b[0;32mnot\u001b[0m \u001b[0mshape\u001b[0m\u001b[0;34m.\u001b[0m\u001b[0mis_compatible_with\u001b[0m\u001b[0;34m(\u001b[0m\u001b[0mfound_var\u001b[0m\u001b[0;34m.\u001b[0m\u001b[0mget_shape\u001b[0m\u001b[0;34m(\u001b[0m\u001b[0;34m)\u001b[0m\u001b[0;34m)\u001b[0m\u001b[0;34m:\u001b[0m\u001b[0;34m\u001b[0m\u001b[0;34m\u001b[0m\u001b[0m\n",
      "\u001b[0;31mValueError\u001b[0m: Variable model/wpe already exists, disallowed. Did you mean to set reuse=True or reuse=tf.AUTO_REUSE in VarScope? Originally defined at:\n\n  File \"/home/jovyan/.local/lib/python3.7/site-packages/gpt_2_simple/src/model.py\", line 183, in model\n    initializer=tf.compat.v1.random_normal_initializer(stddev=0.01))\n  File \"/home/jovyan/.local/lib/python3.7/site-packages/gpt_2_simple/gpt_2.py\", line 369, in load_gpt2\n    output = model.model(hparams=hparams, X=context)\n  File \"<ipython-input-6-8667b47ea888>\", line 21, in <module>\n    run_name=\"all_amn\",\n  File \"/opt/conda/lib/python3.7/site-packages/IPython/core/interactiveshell.py\", line 3326, in run_code\n    exec(code_obj, self.user_global_ns, self.user_ns)\n  File \"/opt/conda/lib/python3.7/site-packages/IPython/core/interactiveshell.py\", line 3249, in run_ast_nodes\n    if (await self.run_code(code, result,  async_=asy)):\n"
     ]
    }
   ],
   "source": [
    "gpt2.finetune(\n",
    "    sess,\n",
    "    \"text/catcher.txt\",\n",
    "    model_name=model_name,\n",
    "    run_name=\"amn_catcher\",\n",
    "    steps=100, # Maximum number of training epochs\n",
    "    print_every=5,\n",
    ")"
   ]
  },
  {
   "cell_type": "code",
   "execution_count": null,
   "metadata": {},
   "outputs": [],
   "source": []
  }
 ],
 "metadata": {
  "kernelspec": {
   "display_name": "Python 3",
   "language": "python",
   "name": "python3"
  },
  "language_info": {
   "codemirror_mode": {
    "name": "ipython",
    "version": 3
   },
   "file_extension": ".py",
   "mimetype": "text/x-python",
   "name": "python",
   "nbconvert_exporter": "python",
   "pygments_lexer": "ipython3",
   "version": "3.7.3"
  }
 },
 "nbformat": 4,
 "nbformat_minor": 4
}
