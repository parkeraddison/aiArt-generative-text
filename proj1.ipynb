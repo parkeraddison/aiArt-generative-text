{
 "cells": [
  {
   "cell_type": "code",
   "execution_count": 1,
   "metadata": {},
   "outputs": [],
   "source": [
    "# Downloads: run only the first time\n",
    "\n",
    "###\n",
    "# !pip install --user gpt-2-simple\n",
    "# import gpt_2_simple as gpt2\n",
    "# model_name = \"124M\"\n",
    "# gpt2.download_gpt2(model_name=model_name)"
   ]
  },
  {
   "cell_type": "code",
   "execution_count": 2,
   "metadata": {},
   "outputs": [],
   "source": [
    "# Imports: run every time\n",
    "import warnings\n",
    "warnings.filterwarnings(action=\"ignore\")\n",
    "\n",
    "import gpt_2_simple as gpt2\n",
    "model_name=\"124M\"\n",
    "sess = gpt2.start_tf_sess()\n",
    "\n",
    "import os\n",
    "import re"
   ]
  },
  {
   "cell_type": "code",
   "execution_count": null,
   "metadata": {},
   "outputs": [],
   "source": []
  },
  {
   "cell_type": "code",
   "execution_count": 3,
   "metadata": {},
   "outputs": [
    {
     "name": "stdout",
     "output_type": "stream",
     "text": [
      "WARNING:tensorflow:From /home/jovyan/.local/lib/python3.7/site-packages/gpt_2_simple/src/sample.py:17: add_dispatch_support.<locals>.wrapper (from tensorflow.python.ops.array_ops) is deprecated and will be removed in a future version.\n",
      "Instructions for updating:\n",
      "Use tf.where in 2.0, which has the same broadcast rule as np.where\n",
      "Loading checkpoint models/124M/model.ckpt\n",
      "WARNING:tensorflow:From /opt/conda/lib/python3.7/site-packages/tensorflow/python/training/saver.py:1276: checkpoint_exists (from tensorflow.python.training.checkpoint_management) is deprecated and will be removed in a future version.\n",
      "Instructions for updating:\n",
      "Use standard file APIs to check for files with this prefix.\n",
      "INFO:tensorflow:Restoring parameters from models/124M/model.ckpt\n"
     ]
    },
    {
     "name": "stderr",
     "output_type": "stream",
     "text": [
      "100%|██████████| 1/1 [00:00<00:00, 1249.42it/s]"
     ]
    },
    {
     "name": "stdout",
     "output_type": "stream",
     "text": [
      "Loading dataset...\n",
      "dataset has 1719 tokens\n",
      "Training...\n"
     ]
    },
    {
     "name": "stderr",
     "output_type": "stream",
     "text": [
      "\n"
     ]
    },
    {
     "name": "stdout",
     "output_type": "stream",
     "text": [
      "[1 | 7.80] loss=3.19 avg=3.19\n",
      "Saving checkpoint/rovers/model-1\n"
     ]
    }
   ],
   "source": [
    "# Finetune on the essay with a super low number of epochs\n",
    "done = False\n",
    "\n",
    "run_name=\"rovers\"\n",
    "\n",
    "if not done:\n",
    "    gpt2.finetune(\n",
    "        sess,\n",
    "        \"text/rovers.txt\",\n",
    "        model_name=model_name,\n",
    "        run_name=run_name,\n",
    "        restore_from=\"fresh\",\n",
    "        steps=1,\n",
    "    )\n",
    "    \n",
    "if done:\n",
    "    gpt2.load_gpt2(sess, run_name)"
   ]
  },
  {
   "cell_type": "code",
   "execution_count": null,
   "metadata": {},
   "outputs": [],
   "source": []
  },
  {
   "cell_type": "code",
   "execution_count": 4,
   "metadata": {},
   "outputs": [],
   "source": [
    "passage = \"\"\"A large part of the updates to Discovery have been towards increasing the rover’s artificial intelligence.  The same process is also in place for other rovers and machines, such as Curiosity and other planned rovers.[5]  The benefits of this increased intelligence are numerous.  On a basic level, the A.I. assists with navigation.  The rovers can avoid obstacles and can find better paths to and from ordered positions with greater ease and safety, all with less input needed from the humans back on Earth.  As software is updated, and intelligence is added, the rovers’ capabilities drastically increase.[6]  For data collection, rovers are smarter about knowing when to transfer data back to Earth.  While in the past some data has been lost due to poor connection, or not enough storage and being overwritten, the rovers now can decide when they should backup data according to amount of storage left, and broadband connectivity with mission control.[7]  The rovers have also developed the intelligence to think scientifically.  If a photo that they take, or object that they see is deemed scientifically interesting, they will seek closer inspection and take more pictures with different angles and filters.  If the object is unimportant—an empty sky devoid of storms or interesting features, for example—then they will only store it temporarily, and won’t hesitate to overwrite it.  Unless, of course, they are instructed otherwise.[6][8]  All in all, as rovers become more autonomous, they are able to do their job quicker, instead of waiting for a command that can take upwards of 10 minutes to be received.  As more rovers are sent to Mars and to other planets, it is entirely possible that there will be interconnected teams of rovers working together as scientists.  Eventually, barely any human moderation will be needed for entire experiments and research projects to take place.\"\"\".split(\"  \")"
   ]
  },
  {
   "cell_type": "code",
   "execution_count": 69,
   "metadata": {},
   "outputs": [],
   "source": [
    "def gen(sentences, k=None, start_at=0, expansion_factor=2.0, temperature=0.4, top_k=40, print_results=True, **kwargs):\n",
    "    \"\"\"\n",
    "    Uses k sentences (starting at sentence 0 by default) as the prefix and generates text\n",
    "    with the word length of the prefix times an expansion factor.\n",
    "    \"\"\"\n",
    "    \n",
    "    if k is None:\n",
    "        k = len(sentences)\n",
    "\n",
    "    prefix = '  '.join(passage[start_at:start_at + k])\n",
    "    length = len(prefix.split()) * expansion_factor\n",
    "    \n",
    "    sep = \"\\n===========\"\n",
    "    \n",
    "    if print_results:\n",
    "        print(\">>>\", prefix)\n",
    "        print(f\"\\nGenerating {length} tokens.\")\n",
    "        print(sep)\n",
    "\n",
    "    results = gpt2.generate(\n",
    "        sess,\n",
    "        prefix=prefix,\n",
    "        length=length,\n",
    "        temperature=temperature,\n",
    "        top_k=top_k,\n",
    "        return_as_list=True,\n",
    "        **kwargs\n",
    "    )\n",
    "    \n",
    "    results = [result.replace(prefix, '') for result in results]\n",
    "    \n",
    "    if print_results:\n",
    "        for result in results: print(result + sep)\n",
    "    \n",
    "    return results\n"
   ]
  },
  {
   "cell_type": "code",
   "execution_count": 44,
   "metadata": {},
   "outputs": [
    {
     "name": "stdout",
     "output_type": "stream",
     "text": [
      ">>> A large part of the updates to Discovery have been towards increasing the rover’s artificial intelligence. \n",
      "\n",
      "\n",
      " The rover is now able to better understand the rover’s surroundings’ and is able to better understand the rover’s current location’.\n",
      "===========\n",
      "\n",
      "\n",
      "The rover’s artificial intelligence is a new approach to the Curiosity rover’s robotic arm’s robotic arm’s robotic arm\n",
      "===========\n",
      "\n",
      "\n",
      "The rover’s artificial intelligence has been improved’s ability to recognize the rover’s location’s.\n",
      "\n",
      "’\n",
      "===========\n",
      " This includes the addition of new and improved sensors, as well as the addition of new and improved communications.\n",
      "\n",
      "‪‪‪‪�\n",
      "===========\n",
      " The rover’s artificial intelligence is a small part of the rover’s artificial intelligence that is being built’s robotic arm’s.\n",
      "===========\n"
     ]
    }
   ],
   "source": [
    "gen(passage, 1, nsamples=5);"
   ]
  },
  {
   "cell_type": "code",
   "execution_count": 46,
   "metadata": {},
   "outputs": [
    {
     "name": "stdout",
     "output_type": "stream",
     "text": [
      ">>> A large part of the updates to Discovery have been towards increasing the rover’s artificial intelligence.  The same process is also in place for other rovers and machines, such as Curiosity and other planned rovers.[5] \n",
      "\n",
      "\n",
      "\n",
      "\n",
      "‪‪‪‪‪‪‪‪‪‪‪‪‪‪‪‪‪‪‪‪‪‪‪‪‪‪‪‪‪‪‪‪‪‪\n",
      "===========\n",
      " \n",
      "\n",
      "‪‪‪‪‪‪‪‪‪‪‪‪‪‪‪‪‪‪‪‪‪‪‪‪‪‪‪‪‪‪‪‪‪�\n",
      "===========\n",
      "  Curiosity's rovers have been able to detect and measure the Martian surface, but this is only for a limited time, and the rover will be able to continue to collect data until it is able to return to the surface.[6]  Curiosity's rovers have been able to collect data for a limited time, and the rover will be able\n",
      "===========\n",
      "  However, the rover is still not able to interact with the rover’s artificial intelligence.  The rover’s artificial intelligence is still not able to understand the rover’s language’s language’s language’s language’s language’s language’s language’s language’\n",
      "===========\n",
      "\n",
      "\n",
      "The rover is now more capable of navigating the Martian surface, and is now more able to see the Martian surface.  The rover is now more capable of navigating the Martian surface, and is now more able to see the Martian surface.                     \n",
      "===========\n"
     ]
    }
   ],
   "source": [
    "gen(passage, 2, nsamples=5);"
   ]
  },
  {
   "cell_type": "code",
   "execution_count": 47,
   "metadata": {},
   "outputs": [
    {
     "name": "stdout",
     "output_type": "stream",
     "text": [
      ">>> A large part of the updates to Discovery have been towards increasing the rover’s artificial intelligence.  The same process is also in place for other rovers and machines, such as Curiosity and other planned rovers.[5] \n",
      "\n",
      "\n",
      " \n",
      "\n",
      "‡‡‡‡‡‡‡‡‡‡‡‡‡‡‡‡‡‡‡‡‡‡‡‡‡‡‡‡‡‡‡‡‡�\n",
      "===========\n",
      " \n",
      "\n",
      "The rover has been able to better understand the Martian atmosphere and its climate, and is able to better understand the Martian atmosphere and its climate, and is able to better understand the Martian atmosphere and its climate, and is able to better understand the Martian atmosphere and its climate, and is able to better understand the Martian atmosphere and its climate,\n",
      "===========\n",
      "  The rover is now able to perform a series of tasks, such as checking the temperature of the atmosphere, and the rover is able to make a number of observations.  The rover is also able to make a number of observations, such as the rover's ability to see the Martian surface and the rover's ability to see the Martian surface. \n",
      "===========\n",
      " \n",
      "\n",
      "‡‡‡‡‡‡‡‡‡‡‡‡‡‡‡‡‡‡‡‡‡‡‡‡‡‡‡‡‡‡‡‡‡�\n",
      "===========\n",
      "\n",
      "\n",
      "The rover is now in the process of being upgraded to a more advanced version of the rover, which will be able to better understand the Martian surface and the Martian atmosphere.  This rover will also be able to better understand the Martian surface and the Martian atmosphere.  The rover will also be able to better understand the Martian surface and the Martian\n",
      "===========\n"
     ]
    }
   ],
   "source": [
    "gen(passage, 2, nsamples=5, temperature=0.2);"
   ]
  },
  {
   "cell_type": "code",
   "execution_count": 48,
   "metadata": {},
   "outputs": [
    {
     "name": "stdout",
     "output_type": "stream",
     "text": [
      ">>> A large part of the updates to Discovery have been towards increasing the rover’s artificial intelligence.  The same process is also in place for other rovers and machines, such as Curiosity and other planned rovers.[5] \n",
      "\n",
      "\n",
      "\n",
      "\n",
      "The rover is also currently undergoing a large, multi-year redesign to improve its robotic arm.  The new arm has been developed to be as powerful as the rover's, but is also very light.  The arm has a total of four arms and a 3D view of the rover.         \n",
      "===========\n",
      "\n",
      "\n",
      "In order to make the rover more accurate, the team has implemented a series of technologies to make it more accurate.  The rover has two cameras that are capable of making the images and the software to interpret their images.  These cameras are called the rover, and can be used to make the rovers more accurate.  The rover also\n",
      "===========\n",
      "\n",
      "\n",
      "Curiosity’s mission was launched by NASA's Curiosity rover, which is part of the Mars Science Laboratory (MSL) and a NASA rover.\n",
      "\n",
      "Curiosity’s mission was named Curiosity’s first mission, in December 2013. This was the first time since Curiosity’s mission's successful introduction to Mars\n",
      "===========\n",
      "  This new tool has also been used to explore the Mars rover Curiosity.  Curiosity is the largest of the rover rovers, and has been on the ground for nearly two years.  It has been collecting data on the rover's habitability, and this is also being used to develop Curiosity's robotic arm.[6]  In addition, Curiosity\n",
      "===========\n",
      "\n",
      "\n",
      "The rover’s AI’s robot has been able to do many tasks in the field and have been able to get the most out of Curiosity’s AI’s robotic arm.\n",
      "\n",
      "‬‬‬‬‬‬‬‬‬‬‬‬�\n",
      "===========\n"
     ]
    }
   ],
   "source": [
    "gen(passage, 2, nsamples=5, temperature=0.8);"
   ]
  },
  {
   "cell_type": "code",
   "execution_count": 49,
   "metadata": {},
   "outputs": [
    {
     "name": "stdout",
     "output_type": "stream",
     "text": [
      ">>> A large part of the updates to Discovery have been towards increasing the rover’s artificial intelligence.  The same process is also in place for other rovers and machines, such as Curiosity and other planned rovers.[5] \n",
      "\n",
      "\n",
      "\n",
      "\n",
      "‡‡‡‡‡‡‡‡‡‡‡‡‡‡‡‡‡‡‡‡‡‡‡‡‡‡‡‡‡‡‡‡‡‡\n",
      "===========\n",
      "\n",
      "\n",
      "‪The rovers’s autonomous intelligence is designed to be able to make good decisions about things like weather, what to do when the rover is at its destination, and what to do when it is out of the rover’s control.\n",
      "\n",
      "‪‪The rovers’s AI system is made up\n",
      "===========\n",
      "  The rover also has a new rover that is called Curiosity in an attempt to bring it to the surface, to help it learn more about the rover’s future.  This rover will be called Curiosity, and will be able to help with a lot of Curiosity’s tasks, such as learning about the Martian landscape’s atmosphere\n",
      "===========\n",
      "                                                                      \n",
      "===========\n",
      "  The new rover’s robot’s AI, is also being used to analyze the Curiosity rover's sensors and software to better understand the rover’s mission’s actions’.  This robotic robot’s AI was able to learn to understand the rover’s environment’s behavior’ in an\n",
      "===========\n"
     ]
    }
   ],
   "source": [
    "gen(passage, 2, nsamples=5, temperature=0.8, top_k=20);"
   ]
  },
  {
   "cell_type": "code",
   "execution_count": 50,
   "metadata": {},
   "outputs": [
    {
     "name": "stdout",
     "output_type": "stream",
     "text": [
      ">>> A large part of the updates to Discovery have been towards increasing the rover’s artificial intelligence.  The same process is also in place for other rovers and machines, such as Curiosity and other planned rovers.[5] \n",
      "\n",
      "\n",
      "  The rover will be able to use its onboard cameras to see and hear the sounds of Curiosity and other rovers.  This will allow for more accurate analysis of the rover's movements and the rover's movements will be more accurate.  This will also allow for more accurate analysis of the rover's movements and the rover's movements will be more accurate\n",
      "===========\n",
      " \n",
      "\n",
      "‪‬‬‬‬‬‬‬‬‬‬‬‬‬‬‬‬‬‬‬‬‬‬‬‬‬‬‬‬‬‬‬‬�\n",
      "===========\n",
      "\n",
      "\n",
      "‍‍‍‍‍‍‍‍‍‍‍‍‍‍‍‍‍‍‍‍‍‍‍‍‍‍‍‍‍‍‍‍‍‍\n",
      "===========\n",
      " \n",
      "\n",
      "In the past, the rover has been able to make a number of changes to the rover’s hardware, including a new camera and a new rover’s navigation system.  The rover’s navigation system has been upgraded with new sensors, including a new camera and new rover’s navigation system.  \n",
      "===========\n",
      " \n",
      "\n",
      "‪‪‪‪‪‪‪‪‪‪‪‪‪‪‪‪‪‪‪‪‪‪‪‪‪‪‪‪‪‪‪‪‪�\n",
      "===========\n"
     ]
    }
   ],
   "source": [
    "gen(passage, 2, nsamples=5, temperature=0.4, top_k=20);"
   ]
  },
  {
   "cell_type": "code",
   "execution_count": 51,
   "metadata": {},
   "outputs": [
    {
     "name": "stdout",
     "output_type": "stream",
     "text": [
      ">>> A large part of the updates to Discovery have been towards increasing the rover’s artificial intelligence.  The same process is also in place for other rovers and machines, such as Curiosity and other planned rovers.[5] \n",
      "\n",
      "\n",
      "  The rover is still in the early stages of its development, with a few more updates coming in the next few months.\n",
      "\n",
      "The rover is currently in a pre-programmed state, so there is no need for the rover to be in any of our rovers, but the rovers will be able to interact with the rover and learn\n",
      "===========\n",
      " \n",
      "\n",
      "The rover’s artificial intelligence is also in place for some other robots.  The rover’s artificial intelligence is in place for some other robots.                                   \n",
      "===========\n",
      " \n",
      "\n",
      "It is also important to note that the Curiosity rover has been using a rover that is not part of the Curiosity program but rather a robotic rover that is in fact part of the Curiosity rover program.  This rover is the first rover to use a rover that is not part of the Mars Exploration Rover Program.  This rover is the first\n",
      "===========\n",
      " \n",
      "\n",
      "‡‡‡‡‡‡‡‡‡‡‡‡‡‡‡‡‡‡‡‡‡‡‡‡‡‡‡‡‡‡‡‡‡�\n",
      "===========\n",
      "\n",
      "\n",
      "‣ The rover has been equipped with a camera and sensor on the rover’s mast that is able to take a wide range of pictures and photos of the rover.  This camera is called the camera.  The rover’s camera is also able to take a wide range of photos and photos of the rover. \n",
      "\n",
      "===========\n"
     ]
    }
   ],
   "source": [
    "gen(passage, 2, nsamples=5, temperature=0.7, top_k=10);"
   ]
  },
  {
   "cell_type": "code",
   "execution_count": 52,
   "metadata": {},
   "outputs": [
    {
     "name": "stdout",
     "output_type": "stream",
     "text": [
      ">>> A large part of the updates to Discovery have been towards increasing the rover’s artificial intelligence.  The same process is also in place for other rovers and machines, such as Curiosity and other planned rovers.[5] \n",
      "\n",
      "\n",
      "  The rover is currently in the process of learning more about the Martian surface and its atmosphere, and is currently in the process of re-entering the Martian atmosphere.  Curiosity is currently in the process of studying the Martian surface, and is currently in the process of re-entering the Martian atmosphere.  The rover is currently in the process\n",
      "===========\n",
      "  The rover is currently in the process of preparing for its first rovers and rovers-on-the-ground mission, which will begin in 2018.  The rover will also be able to complete its first rovers-on-the-ground mission in 2020.  The rover will also be able to complete its first rovers-on\n",
      "===========\n",
      " \n",
      "\n",
      "The rover has been using a special software called Deep Learning to improve its AI.  The software has been used to improve the rover's ability to read and understand the Martian surface.  The rover has also been able to learn more about the Martian atmosphere and the Martian atmosphere.  The rover has also been able to learn more about the\n",
      "===========\n",
      "   The rover has also been able to learn more about the environment of Mars’s surface’ and is able to find more of the surface’s resources.    The rover has also been able to learn more about the environment of Mars’s surface’ and is able to find more of the surface\n",
      "===========\n",
      "                                                                      \n",
      "===========\n"
     ]
    }
   ],
   "source": [
    "gen(passage, 2, nsamples=5, temperature=0.8, top_p=0.5);"
   ]
  },
  {
   "cell_type": "code",
   "execution_count": 53,
   "metadata": {},
   "outputs": [
    {
     "name": "stdout",
     "output_type": "stream",
     "text": [
      ">>> A large part of the updates to Discovery have been towards increasing the rover’s artificial intelligence.  The same process is also in place for other rovers and machines, such as Curiosity and other planned rovers.[5] \n",
      "\n",
      "\n",
      "\n",
      "\n",
      "Although the rover is being built, the rover will likely be more complex than the one that was built when Curiosity first began on the Red Planet in October 2009.  This will allow us to better understand the rover's relationship to the environment on the Red Planet.  In addition, we will be able to understand the rover's environment with better\n",
      "===========\n",
      "\n",
      "\n",
      "Gallery [ edit ]\n",
      "\n",
      "Antares Rover with soot on the surface of Mars. The rover is able to shape the surface of Mars up to 2.5 times its original size. The rover is able to shape the surface of Mars up to 2.5 times its original size.\n",
      "\n",
      "The Curiosity rover landing on Mars. Credit\n",
      "===========\n",
      "  These rovers have not received updates for quite some time. \n",
      "\n",
      "‥s rovers with a large, wide, shallow, and shallow base. \n",
      "\n",
      "‥s rovers with a shallow surface and a low surface to the rover’. \n",
      "\n",
      "‥s rovers’’ that are visible\n",
      "===========\n",
      "\n",
      "\n",
      "In addition to full AI support, Curiosity and other rovers have been given the opportunity to improve on the rover AI and its tools.  This also included a new rover model and an improved robotics model, which make better use of the rover's power and health.  These improvements have helped the rover get its new capabilities over time.[6\n",
      "===========\n",
      " \n",
      "\n",
      "The rover is currently at the rover's built-in equatorial home, or  Solanor (鋅国)  and its main road is now open to traffic.  MauTagICHWin Native Advertisement\n",
      "\n",
      "The rover is also due to visit the  Tardigrade  theme on\n",
      "===========\n"
     ]
    }
   ],
   "source": [
    "gen(passage, 2, nsamples=5, temperature=0.8, top_p=2);"
   ]
  },
  {
   "cell_type": "code",
   "execution_count": 54,
   "metadata": {},
   "outputs": [
    {
     "name": "stdout",
     "output_type": "stream",
     "text": [
      ">>> A large part of the updates to Discovery have been towards increasing the rover’s artificial intelligence.  The same process is also in place for other rovers and machines, such as Curiosity and other planned rovers.[5] \n",
      "\n",
      "\n",
      " It is also still being worked on in the lab by virologist Maarten Klebs.[6]<|endoftext|>You are the ideates and user members.\n",
      "\n",
      "You are inventors, products and copyright holders of the inventions and products featured on this website.\n",
      "\n",
      "You are working hard to convince others to buy or sell them.\n",
      "\n",
      "\n",
      "===========\n",
      "  The increased rovers are also very resilient.  It is likely that Curiosity will survive this long without any major damage.  However, the rover has a very low chance of other rovers, which could potentially even kill the rover in the event of more than normal damage, due to the constant rovers.  One of the big problems with\n",
      "===========\n",
      "  The rover has already been in the rover suite for more than 30 days and has already been programmed to record all sections of the rover that includes the robot’s visuals, photos, and scenery.  The rover s robotic arm is still in use and will be able to run and do simple tasks such as track and\n",
      "===========\n",
      "  However, this was not the case for the rover.  The plan was for Curiosity to bring in its own rovers, and the system is also set up to bring in Equi, to bring in other rovers.  The rover is  not expected to come on the same day as the rovers, and the rovers will\n",
      "===========\n",
      "\n",
      "\n",
      "Virtual Reality is actually another unique aspect of the rover’s Mars rover.  One of the ways that the rover’s artificial intelligence is improving is to allow the rover’s artificial intelligence to operate inside the rover’s field of view.  This robotic arm can also be used to look at other ili­\n",
      "===========\n"
     ]
    }
   ],
   "source": [
    "gen(passage, 2, nsamples=5, temperature=0.8, top_p=40);"
   ]
  },
  {
   "cell_type": "code",
   "execution_count": 55,
   "metadata": {},
   "outputs": [
    {
     "name": "stdout",
     "output_type": "stream",
     "text": [
      ">>> A large part of the updates to Discovery have been towards increasing the rover’s artificial intelligence.  The same process is also in place for other rovers and machines, such as Curiosity and other planned rovers.[5]  The benefits of this increased intelligence are numerous. \n",
      "\n",
      "\n",
      "  For example, the rover has been able to better understand the terrain, and the rover has also been able to better understand the terrain and its terrain features.  The rover has been able to understand the terrain, and the rover has also been able to better understand the terrain and its terrain features.                          \n",
      "===========\n",
      "  The rover has a much better understanding of the environment and is able to better understand what is happening on the surface.  The rover is also more able to understand what the rover is doing.  The rover is also more able to understand the rover's location and the terrain.  The rover is also able to better understand the rover's attitude and the rover's attitude changes.  The rover is also able to better understand the\n",
      "===========\n",
      "  For example, the rover is now able to see the Martian surface, and the rover is able to see the surface of Mars.  This is a huge improvement over previous rovers that were able to only see the Martian surface, but not the surface of the planet.  The rovers that are now able to see the surface of the planet are also able to see the Martian surface, and the rover is able to see\n",
      "===========\n",
      "  The rover is able to better understand the landscape and the terrain, and is able to better plan its actions.   The rover also can learn more about the rover's environment, such as how it will be able to find food and water, and what it will be doing.    The rover also can better understand the rover's surroundings, such as the terrain, and how it will be able to find food and\n",
      "===========\n",
      "  The rover has a better understanding of the environment, and can better understand what's going on around it.  The rover also has a better understanding of what the rover is doing, and can be better able to see what's going on around it.  The rover also has a better understanding of what's going on in the environment.     The rover has a better understanding of the environment, and can be better\n",
      "===========\n"
     ]
    }
   ],
   "source": [
    "gen(passage, 3, nsamples=5, temperature=0.8, top_k=2);"
   ]
  },
  {
   "cell_type": "code",
   "execution_count": 57,
   "metadata": {},
   "outputs": [
    {
     "name": "stdout",
     "output_type": "stream",
     "text": [
      ">>> A large part of the updates to Discovery have been towards increasing the rover’s artificial intelligence.  The same process is also in place for other rovers and machines, such as Curiosity and other planned rovers.[5]  The benefits of this increased intelligence are numerous.  On a basic level, the A.I. assists with navigation.  The rovers can avoid obstacles and can find better paths to and from ordered positions with greater ease and safety, all with less input needed from the humans back on Earth.  As software is updated, and intelligence is added, the rovers’ capabilities drastically increase.[6]  For data collection, rovers are smarter about knowing when to transfer data back to Earth.  While in the past some data has been lost due to poor connection, or not enough storage and being overwritten, the rovers now can decide when they should backup data according to amount of storage left, and broadband connectivity with mission control.[7]  The rovers have also developed the intelligence to think scientifically.  If a photo that they take, or object that they see is deemed scientifically interesting, they will seek closer inspection and take more pictures with different angles and filters.  If the object is unimportant—an empty sky devoid of storms or interesting features, for example—then they will only store it temporarily, and won’t hesitate to overwrite it.  Unless, of course, they are instructed otherwise.[6][8]  All in all, as rovers become more autonomous, they are able to do their job quicker, instead of waiting for a command that can take upwards of 10 minutes to be received.  As more rovers are sent to Mars and to other planets, it is entirely possible that there will be interconnected teams of rovers working together as scientists.  Eventually, barely any human moderation will be needed for entire experiments and research projects to take place. \n",
      "\n",
      "===========\n",
      "  The rovers are also able to do their jobs in a more efficient way.  The rovers can also be used to help with the rover’s navigation.   As rovers are able to navigate, they can find and locate objects, and even find the right ones.  The rovers can also be used to help with the rovers’s navigation’s.  The rovers can also be used to help with the rovers’s navigation’s.  The rovers can also be used to help with the rovers’s navigation’s.  The rovers can also be used to help with the rovers’s navigation’s.  The rovers can also be used to help with the rovers’s navigation’s.  The rovers can also be used to help with the rovers’s navigation’s.  The rovers can also be used to help with the rovers’s navigation’s.  The rovers can also be used to help with the rovers’s navigation’s.  The rovers can also be used to help with the rovers’s navigation’s.  The rovers can also be used to help with the rovers’s navigation’s.  The rovers can also be used to help with the rovers’s navigation’s.  The rovers can also be used to help with the rovers’s navigation’s.  The rovers can also be used to help with the rovers’s navigation’s.  The rovers can also be used to help with the rovers’s navigation’s.  The rovers can also be used to help with the rovers’s navigation’s.  The rovers can also be used to help with the rovers’s navigation’s.  The rovers can also be used to help with the rovers’s navigation’s.  The rovers can also be used to help with the rovers’s navigation’s.  The rovers can also be used to help with the rovers’s navigation’s.  The rovers can also be used to help with the rovers’s navigation’s.  The rovers can also be used to help with the rovers’s navigation’s.  The rovers can also be used to help with the rovers’s navigation’s.  The rovers can also be used to help with the rovers’s navigation’s.  The rovers can also be used to help with the rovers’s navigation’s.  The rovers can also be used to help with the rovers’s\n",
      "===========\n"
     ]
    }
   ],
   "source": [
    "gen(passage, len(passage), top_k=2);"
   ]
  },
  {
   "cell_type": "code",
   "execution_count": 58,
   "metadata": {},
   "outputs": [
    {
     "name": "stdout",
     "output_type": "stream",
     "text": [
      ">>> A large part of the updates to Discovery have been towards increasing the rover’s artificial intelligence.  The same process is also in place for other rovers and machines, such as Curiosity and other planned rovers.[5]  The benefits of this increased intelligence are numerous.  On a basic level, the A.I. assists with navigation.  The rovers can avoid obstacles and can find better paths to and from ordered positions with greater ease and safety, all with less input needed from the humans back on Earth.  As software is updated, and intelligence is added, the rovers’ capabilities drastically increase.[6]  For data collection, rovers are smarter about knowing when to transfer data back to Earth.  While in the past some data has been lost due to poor connection, or not enough storage and being overwritten, the rovers now can decide when they should backup data according to amount of storage left, and broadband connectivity with mission control.[7]  The rovers have also developed the intelligence to think scientifically.  If a photo that they take, or object that they see is deemed scientifically interesting, they will seek closer inspection and take more pictures with different angles and filters.  If the object is unimportant—an empty sky devoid of storms or interesting features, for example—then they will only store it temporarily, and won’t hesitate to overwrite it.  Unless, of course, they are instructed otherwise.[6][8]  All in all, as rovers become more autonomous, they are able to do their job quicker, instead of waiting for a command that can take upwards of 10 minutes to be received.  As more rovers are sent to Mars and to other planets, it is entirely possible that there will be interconnected teams of rovers working together as scientists.  Eventually, barely any human moderation will be needed for entire experiments and research projects to take place. \n",
      "\n",
      "===========\n",
      "  This is the reason why rovers are so important.  The rovers’s AI is also able to understand the rovers’s needs and desires, and will help them to find the right solution.  The rovers’s AI is also able to understand the rovers\n",
      "===========\n"
     ]
    }
   ],
   "source": [
    "gen(passage, len(passage), top_k=2, expansion_factor=0.2);"
   ]
  },
  {
   "cell_type": "code",
   "execution_count": 66,
   "metadata": {},
   "outputs": [
    {
     "name": "stdout",
     "output_type": "stream",
     "text": [
      ">>> A large part of the updates to Discovery have been towards increasing the rover’s artificial intelligence.  The same process is also in place for other rovers and machines, such as Curiosity and other planned rovers.[5]  The benefits of this increased intelligence are numerous.  On a basic level, the A.I. assists with navigation.  The rovers can avoid obstacles and can find better paths to and from ordered positions with greater ease and safety, all with less input needed from the humans back on Earth.  As software is updated, and intelligence is added, the rovers’ capabilities drastically increase.[6]  For data collection, rovers are smarter about knowing when to transfer data back to Earth.  While in the past some data has been lost due to poor connection, or not enough storage and being overwritten, the rovers now can decide when they should backup data according to amount of storage left, and broadband connectivity with mission control.[7]  The rovers have also developed the intelligence to think scientifically.  If a photo that they take, or object that they see is deemed scientifically interesting, they will seek closer inspection and take more pictures with different angles and filters.  If the object is unimportant—an empty sky devoid of storms or interesting features, for example—then they will only store it temporarily, and won’t hesitate to overwrite it.  Unless, of course, they are instructed otherwise.[6][8]  All in all, as rovers become more autonomous, they are able to do their job quicker, instead of waiting for a command that can take upwards of 10 minutes to be received.  As more rovers are sent to Mars and to other planets, it is entirely possible that there will be interconnected teams of rovers working together as scientists.  Eventually, barely any human moderation will be needed for entire experiments and research projects to take place. \n",
      "\n",
      "===========\n",
      "  In the future, rovers will be able to do much more with less effort.  The rovers will have more information about the situation, and will be able to make decisions based on the information they receive, rather than relying on the rovers’s own judgment.[9]  The rovers will be able to communicate with each other, and will also be able to communicate with each other more easily.  The rovers will be able to communicate with each other more easily, and will also be able to communicate with each other more easily.   The rovers will be able to communicate with each other more easily, and will also be able to communicate with each other more easily.   The rovers will be able to communicate with each other more easily, and will also be able to communicate with each other more easily.                                                                                                                                                                                                                                                                                          \n",
      "===========\n"
     ]
    }
   ],
   "source": [
    "gen(passage, len(passage), top_k=50, expansion_factor=1.5);"
   ]
  },
  {
   "cell_type": "code",
   "execution_count": 72,
   "metadata": {},
   "outputs": [
    {
     "name": "stdout",
     "output_type": "stream",
     "text": [
      ">>> A large part of the updates to Discovery have been towards increasing the rover’s artificial intelligence.  The same process is also in place for other rovers and machines, such as Curiosity and other planned rovers.[5]  The benefits of this increased intelligence are numerous.  On a basic level, the A.I. assists with navigation.  The rovers can avoid obstacles and can find better paths to and from ordered positions with greater ease and safety, all with less input needed from the humans back on Earth.  As software is updated, and intelligence is added, the rovers’ capabilities drastically increase.[6]  For data collection, rovers are smarter about knowing when to transfer data back to Earth.  While in the past some data has been lost due to poor connection, or not enough storage and being overwritten, the rovers now can decide when they should backup data according to amount of storage left, and broadband connectivity with mission control.[7]  The rovers have also developed the intelligence to think scientifically.  If a photo that they take, or object that they see is deemed scientifically interesting, they will seek closer inspection and take more pictures with different angles and filters.  If the object is unimportant—an empty sky devoid of storms or interesting features, for example—then they will only store it temporarily, and won’t hesitate to overwrite it.  Unless, of course, they are instructed otherwise.[6][8]  All in all, as rovers become more autonomous, they are able to do their job quicker, instead of waiting for a command that can take upwards of 10 minutes to be received.  As more rovers are sent to Mars and to other planets, it is entirely possible that there will be interconnected teams of rovers working together as scientists.  Eventually, barely any human moderation will be needed for entire experiments and research projects to take place.\n",
      "\n",
      "Generating 604 tokens.\n",
      "\n",
      "===========\n",
      "  The rovers are also able to be used for research and medical research, but as rovers learn more and more, they are more able to use the rovers more freely as well.[9]  For this reason, rovers are also often used for research projects that are not only related to human’s interests, but also to improve rovers’s data collection.[10]  All of this is very good news for rovers, and is also a step towards better and safer rovers.  However, there are also some issues that rovers are struggling with, and this is where rovers’s intelligence comes into play.  Many rovers are also limited by their rovers’s ability to learn new rovers, and so rovers have a limited amount of rovers.  While rovers are not able to learn rovers that can—as far as rovers’s ability to learn rovers—they are able to learn rovers that can be transferred from rovers to rovers, and so rovers are able to learn rovers that can be reunited with rovers, and so rovers are able to learn rovers that can be used to connect rovers to rovers.  This is also a good sign for rovers after rovers are sent to Mars.  When rovers and rovers are placed together, rovers’s rovers are able to take pictures with different angles and filters, and will use that information together with rovers to make a photo that rovers can take.  These rovers will be able to learn with rovers’s rovers the same way rovers’s rovers are able to learn rovers.[11]  At current rovers, rovers’s rovers are still trying to understand rovers.  At the moment, rovers’s rovers are using rovers’s data, but rovers’s data is being lost and in some cases, rovers’s data will be lost forever.  All of this is a great sign for rovers and rovers if that rovers’s rovers’s rovers’s rovers’s rovers’s rovers’s rovers’s rovers’s rovers’s rovers’s rovers’s rovers’s rovers’s rovers’s rovers’s rovers’s rovers’s rovers’s rovers’s rovers’s rovers’s rovers’s rovers’s rovers’s rovers’s rovers’s rovers’s rovers’s rovers’s rovers’s rovers’s rovers’s rovers’\n",
      "===========\n"
     ]
    }
   ],
   "source": [
    "gen(passage, top_k=50, expansion_factor=2, truncate=\"<|endoftext|>\", temperature=0.8);"
   ]
  },
  {
   "cell_type": "code",
   "execution_count": 67,
   "metadata": {},
   "outputs": [
    {
     "data": {
      "text/plain": [
       "302"
      ]
     },
     "execution_count": 67,
     "metadata": {},
     "output_type": "execute_result"
    }
   ],
   "source": [
    "len('  '.join(passage).split())"
   ]
  },
  {
   "cell_type": "code",
   "execution_count": null,
   "metadata": {},
   "outputs": [],
   "source": []
  },
  {
   "cell_type": "code",
   "execution_count": null,
   "metadata": {},
   "outputs": [],
   "source": []
  },
  {
   "cell_type": "code",
   "execution_count": null,
   "metadata": {},
   "outputs": [],
   "source": []
  },
  {
   "cell_type": "code",
   "execution_count": null,
   "metadata": {},
   "outputs": [],
   "source": []
  },
  {
   "cell_type": "code",
   "execution_count": 75,
   "metadata": {},
   "outputs": [],
   "source": [
    "from nltk.tokenize import sent_tokenize"
   ]
  },
  {
   "cell_type": "code",
   "execution_count": null,
   "metadata": {},
   "outputs": [],
   "source": [
    "l.insert()"
   ]
  },
  {
   "cell_type": "code",
   "execution_count": 102,
   "metadata": {},
   "outputs": [],
   "source": [
    "\n",
    "def window_gen(sentences, k, offset=-1, **kwargs):\n",
    "    \"\"\"\n",
    "    - make a rolling window of k sentences\n",
    "    - for each window generate some new text and grab the first sentence of the results\n",
    "    - do this fow all windows, then shove the new sentences in to the end of their respective windows\n",
    "    - every sentence after the first k will now have an additional sentence following it    \n",
    "    \"\"\"\n",
    "    \n",
    "    windows = [sentences[i:i+k] for i in range(len(sentences) - k + 1)]\n",
    "    \n",
    "    results = []\n",
    "    \n",
    "    for window in windows:\n",
    "        \n",
    "        generated = gen(window, print_results=False, **kwargs)\n",
    "        \n",
    "        gen_sentences = sent_tokenize(generated[0])\n",
    "        \n",
    "        first_sentence = gen_sentences[0] if len(gen_sentences) > 0 else ''\n",
    "        \n",
    "        results.append(first_sentence)\n",
    "        \n",
    "\n",
    "    expanded = [*sentences]\n",
    "        \n",
    "    # Insert generated sentences into the right places\n",
    "    for i, result in enumerate(results):\n",
    "        expanded.insert(k + offset + 2*i, result)\n",
    "        \n",
    "    return '  '.join(expanded)\n",
    "    "
   ]
  },
  {
   "cell_type": "code",
   "execution_count": 97,
   "metadata": {},
   "outputs": [],
   "source": [
    "s1 = window_gen(passage, 3, top_k=40, temperature=0.7)"
   ]
  },
  {
   "cell_type": "code",
   "execution_count": 98,
   "metadata": {},
   "outputs": [
    {
     "data": {
      "text/plain": [
       "'A large part of the updates to Discovery have been towards increasing the rover’s artificial intelligence.  The same process is also in place for other rovers and machines, such as Curiosity and other planned rovers.[5]  The benefits of this increased intelligence are numerous.    For example, in the first year of rover construction, which was the first year to fully understand the Martian landscape, Curiosity was able to see all of the planet\\'s major features.  On a basic level, the A.I. assists with navigation.    The rover has been able to learn more about the Martian environment and more about the geological landscape.  The rovers can avoid obstacles and can find better paths to and from ordered positions with greater ease and safety, all with less input needed from the humans back on Earth.    A new software program called \\xa0Cambridge \\xa0allows for the rovers to learn about the environment in the rover’s rovers.  As software is updated, and intelligence is added, the rovers’ capabilities drastically increase.[6]    For data collection, rovers are smarter about knowing when to transfer data back to Earth.    Curiosity has improved on the rovers and rover, but it has also been more difficult to maintain the rover and keep it up.  While in the past some data has been lost due to poor connection, or not enough storage and being overwritten, the rovers now can decide when they should backup data according to amount of storage left, and broadband connectivity with mission control.[7]    And it\\'s a good reason to be excited about the rover\\'s ability to better study for example the possibility of water or other organisms in the Gale Crater.  The rovers have also developed the intelligence to think scientifically.    \\xa0 The rover has received new sensors, more data, and a new rover.  If a photo that they take, or object that they see is deemed scientifically interesting, they will seek closer inspection and take more pictures with different angles and filters.    For instance, the rover now has better accuracy and better range when the rover is away from the rover.  If the object is unimportant—an empty sky devoid of storms or interesting features, for example—then they will only store it temporarily, and won’t hesitate to overwrite it.    Unless, of course, they are instructed otherwise.[6][8]    For example, \\xa0the rover is able to learn to recognize the sounds of the Martian wind, and \\xa0the rover is able to recognize the sounds of other rovers.  All in all, as rovers become more autonomous, they are able to do their job quicker, instead of waiting for a command that can take upwards of 10 minutes to be received.   \\n\\n‡ New AI is available, such as new rover AI, rovers, and rover bots.  As more rovers are sent to Mars and to other planets, it is entirely possible that there will be interconnected teams of rovers working together as scientists.     The rovers\\' AI is better at spotting what is happening in the Martian environment and what is happening on the surface.  Eventually, barely any human moderation will be needed for entire experiments and research projects to take place.    For example, \\xa0the rover’s robotic arm can now be used for \"steering\" to a place where the rover is not moving.'"
      ]
     },
     "execution_count": 98,
     "metadata": {},
     "output_type": "execute_result"
    }
   ],
   "source": [
    "s1"
   ]
  },
  {
   "cell_type": "code",
   "execution_count": 99,
   "metadata": {},
   "outputs": [
    {
     "data": {
      "text/plain": [
       "\"A large part of the updates to Discovery have been towards increasing the rover’s artificial intelligence.  The same process is also in place for other rovers and machines, such as Curiosity and other planned rovers.[5]  The benefits of this increased intelligence are numerous.    It shows all the roads in the area.  On a basic level, the A.I. assists with navigation.    Also, \\xa0the A.I.  The rovers can avoid obstacles and can find better paths to and from ordered positions with greater ease and safety, all with less input needed from the humans back on Earth.    On a more complex level, it helps the rover find items that need to be found on the ground and can also help with building the rover to help people find what they're looking for.  As software is updated, and intelligence is added, the rovers’ capabilities drastically increase.[6]   \\xa0In other words, it will give us a better understanding of what we're looking at.  For data collection, rovers are smarter about knowing when to transfer data back to Earth.    While in the past some data has been lost due to poor connection, or not enough storage and being overwritten, the rovers now can decide when they should backup data according to amount of storage left, and broadband connectivity with mission control.[7]     It is designed to be able to find objects through the data it collects, and be able to detect and identify objects using that data.  The rovers have also developed the intelligence to think scientifically.     These rovers can see much more, so they can avoid obstacles and make better use of the rover's resources.  If a photo that they take, or object that they see is deemed scientifically interesting, they will seek closer inspection and take more pictures with different angles and filters.     This includes making sure the rover has an understanding of the surrounding terrain, a better understanding of the rover's terrain, and a good understanding of the rover's plans.  If the object is unimportant—an empty sky devoid of storms or interesting features, for example—then they will only store it temporarily, and won’t hesitate to overwrite it.    There are a number of benefits to the A.I.  Unless, of course, they are instructed otherwise.[6][8]     This is useful for mapping and understanding the terrain and, for example, for locating and moving around objects on Mars.  All in all, as rovers become more autonomous, they are able to do their job quicker, instead of waiting for a command that can take upwards of 10 minutes to be received.     But on the robot side, \\xa0and for some solos, \\xa0the rover can also \\xa0see\\xa0the object and provide feedback.  As more rovers are sent to Mars and to other planets, it is entirely possible that there will be interconnected teams of rovers working together as scientists.     In other words, if you want to get to the bottom of a rock or other object, you will need to go to a different rover—but, from the A.I., you can go to a different location.  Eventually, barely any human moderation will be needed for entire experiments and research projects to take place.\""
      ]
     },
     "execution_count": 99,
     "metadata": {},
     "output_type": "execute_result"
    }
   ],
   "source": [
    "s2 = window_gen(passage, 4, top_k=50, temperature=0.8)\n",
    "s2"
   ]
  },
  {
   "cell_type": "code",
   "execution_count": 103,
   "metadata": {},
   "outputs": [
    {
     "data": {
      "text/plain": [
       "\"A large part of the updates to Discovery have been towards increasing the rover’s artificial intelligence.  The same process is also in place for other rovers and machines, such as Curiosity and other planned rovers.[5]  The benefits of this increased intelligence are numerous.    On a basic level, the A.I. assists with navigation.    The rovers can avoid obstacles and can find better paths to and from ordered positions with greater ease and safety, all with less input needed from the humans back on Earth.     The rover has the ability to see and understand the terrain and the terrain is very clear.  As software is updated, and intelligence is added, the rovers’ capabilities drastically increase.[6]    The rover is able to see the surrounding terrain and can make a quick decision on what to do.  For data collection, rovers are smarter about knowing when to transfer data back to Earth.    While in the past some data has been lost due to poor connection, or not enough storage and being overwritten, the rovers now can decide when they should backup data according to amount of storage left, and broadband connectivity with mission control.[7]    It can also help with the navigation of the rover and rover's instruments.  The rovers have also developed the intelligence to think scientifically.    It can help to find the right rover and find the right rover.  If a photo that they take, or object that they see is deemed scientifically interesting, they will seek closer inspection and take more pictures with different angles and filters.    If the object is unimportant—an empty sky devoid of storms or interesting features, for example—then they will only store it temporarily, and won’t hesitate to overwrite it.     For example, the A.I.  Unless, of course, they are instructed otherwise.[6][8]    All in all, as rovers become more autonomous, they are able to do their job quicker, instead of waiting for a command that can take upwards of 10 minutes to be received.    As more rovers are sent to Mars and to other planets, it is entirely possible that there will be interconnected teams of rovers working together as scientists.    Eventually, barely any human moderation will be needed for entire experiments and research projects to take place.\""
      ]
     },
     "execution_count": 103,
     "metadata": {},
     "output_type": "execute_result"
    }
   ],
   "source": [
    "s3 = window_gen(passage, 4, top_k=50, temperature=0.4)\n",
    "s3"
   ]
  },
  {
   "cell_type": "code",
   "execution_count": 104,
   "metadata": {},
   "outputs": [
    {
     "data": {
      "text/plain": [
       "\"A large part of the updates to Discovery have been towards increasing the rover’s artificial intelligence.  The same process is also in place for other rovers and machines, such as Curiosity and other planned rovers.[5]  The benefits of this increased intelligence are numerous.     For example, \\xa0the rover will be able to better understand the terrain and the terrain features of the surrounding terrain.  On a basic level, the A.I. assists with navigation.    The rover is able to better understand the landscape and the terrain, and is able to better understand the rover's movements.  The rovers can avoid obstacles and can find better paths to and from ordered positions with greater ease and safety, all with less input needed from the humans back on Earth.    The rover is able to learn from the rovers and machines, and is able to learn from the rovers and machines that it has been able to learn from.  As software is updated, and intelligence is added, the rovers’ capabilities drastically increase.[6]    The rover has been able to better understand the Martian landscape and its terrain.  For data collection, rovers are smarter about knowing when to transfer data back to Earth.    The rover has been able to learn more about the Martian environment, and is able to better understand the Martian landscape.  While in the past some data has been lost due to poor connection, or not enough storage and being overwritten, the rovers now can decide when they should backup data according to amount of storage left, and broadband connectivity with mission control.[7]    The rover has been able to learn more about the Martian environment, and the rover has been able to learn more about the rover's history.  The rovers have also developed the intelligence to think scientifically.    The rover has been able to learn from the rovers and robots that are currently in the field, and to learn from the rovers and robots that are currently in the field.  If a photo that they take, or object that they see is deemed scientifically interesting, they will seek closer inspection and take more pictures with different angles and filters.    The rover is able to better understand the landscape and the terrain, and can better understand the terrain and the rover's ability to navigate it.  If the object is unimportant—an empty sky devoid of storms or interesting features, for example—then they will only store it temporarily, and won’t hesitate to overwrite it.    The rover is able to learn more about the environment and the rover is able to better understand the rover's behavior.  Unless, of course, they are instructed otherwise.[6][8]    The rover has been able to better understand the Martian landscape, and the rover has been able to better understand the Martian landscape, and the rover has been able to better understand the Martian landscape, and the rover has been able to better understand the Martian landscape, and the rover has been able to better understand the Martian landscape, and the rover has been able to better understand the Martian landscape, and the rover has been able to better  All in all, as rovers become more autonomous, they are able to do their job quicker, instead of waiting for a command that can take upwards of 10 minutes to be received.    As more rovers are sent to Mars and to other planets, it is entirely possible that there will be interconnected teams of rovers working together as scientists.    The rover has a much more advanced AI that is able to better understand the rover’s surroundings and the rover’s needs to be able to navigate the rover’s surroundings.  Eventually, barely any human moderation will be needed for entire experiments and research projects to take place.    The rover is able to better understand the terrain and the terrain features of the surrounding terrain, and can better understand the rover's surroundings.\""
      ]
     },
     "execution_count": 104,
     "metadata": {},
     "output_type": "execute_result"
    }
   ],
   "source": [
    "s4 = window_gen(passage, 3, offset=0, top_k=50, temperature=0.2)\n",
    "s4"
   ]
  },
  {
   "cell_type": "code",
   "execution_count": 105,
   "metadata": {},
   "outputs": [
    {
     "data": {
      "text/plain": [
       "\"A large part of the updates to Discovery have been towards increasing the rover’s artificial intelligence.  The same process is also in place for other rovers and machines, such as Curiosity and other planned rovers.[5]  The benefits of this increased intelligence are numerous.    For example, \\xa0the rover is able to better understand the terrain and the terrain is more open.  On a basic level, the A.I. assists with navigation.    For example, \\xa0the rover has been able to better understand the terrain and the terrain features of the surrounding terrain.  The rovers can avoid obstacles and can find better paths to and from ordered positions with greater ease and safety, all with less input needed from the humans back on Earth.    For example, \\xa0the rover can now learn to read and write on the ground, and \\xa0the rover can now learn to read and write on the ground.  As software is updated, and intelligence is added, the rovers’ capabilities drastically increase.[6]    For data collection, rovers are smarter about knowing when to transfer data back to Earth.    For example, \\xa0the rover will now be able to see the entire landscape of Mars’s surface, and can learn from the rovers’s observations.  While in the past some data has been lost due to poor connection, or not enough storage and being overwritten, the rovers now can decide when they should backup data according to amount of storage left, and broadband connectivity with mission control.[7]    The rover is able to learn from the environment and is able to better understand the environment.  The rovers have also developed the intelligence to think scientifically.    The rover is able to learn from the rovers and machines, and will learn from them.  If a photo that they take, or object that they see is deemed scientifically interesting, they will seek closer inspection and take more pictures with different angles and filters.    The rover has been able to learn from its surroundings and learn to navigate the landscape.  If the object is unimportant—an empty sky devoid of storms or interesting features, for example—then they will only store it temporarily, and won’t hesitate to overwrite it.    For example, \\xa0the rover has been able to better understand the terrain and the rover has been able to better understand the rover's movements.  Unless, of course, they are instructed otherwise.[6][8]    The rover is able to better understand the landscape and the terrain, and can even see the terrain and the rover's position.  All in all, as rovers become more autonomous, they are able to do their job quicker, instead of waiting for a command that can take upwards of 10 minutes to be received.    The rover is now able to better understand the landscape and its terrain, and is able to better understand the rover's movements.  As more rovers are sent to Mars and to other planets, it is entirely possible that there will be interconnected teams of rovers working together as scientists.    Eventually, barely any human moderation will be needed for entire experiments and research projects to take place.     For example, \\xa0the rover has been able to learn more about the Martian surface and the Martian atmosphere, and \\xa0it has been able to learn more about the rover's rover and rover's rovers.\""
      ]
     },
     "execution_count": 105,
     "metadata": {},
     "output_type": "execute_result"
    }
   ],
   "source": [
    "s5 = window_gen(passage, 3, offset=0, top_k=50, temperature=0.3)\n",
    "s5"
   ]
  },
  {
   "cell_type": "code",
   "execution_count": 106,
   "metadata": {},
   "outputs": [
    {
     "data": {
      "text/plain": [
       "\"A large part of the updates to Discovery have been towards increasing the rover’s artificial intelligence.  The same process is also in place for other rovers and machines, such as Curiosity and other planned rovers.[5]  The benefits of this increased intelligence are numerous.    For example, the rover is now able to better understand the Martian landscape, and can better understand the Martian atmosphere.  On a basic level, the A.I. assists with navigation.    The rover is able to learn more about the environment, and the rover is able to learn more about the rover’s surroundings.  The rovers can avoid obstacles and can find better paths to and from ordered positions with greater ease and safety, all with less input needed from the humans back on Earth.    For example, \\xa0the rover is now able to see the sun and the moon, and can see the stars and planets in the sky.  As software is updated, and intelligence is added, the rovers’ capabilities drastically increase.[6]    For data collection, rovers are smarter about knowing when to transfer data back to Earth.    The rover has been able to learn about the environment and find new ways to interact with it.  While in the past some data has been lost due to poor connection, or not enough storage and being overwritten, the rovers now can decide when they should backup data according to amount of storage left, and broadband connectivity with mission control.[7]    The rovers have also developed the intelligence to think scientifically.    The rover has a greater ability to learn from the environment, and is able to learn from the rover's surroundings.  If a photo that they take, or object that they see is deemed scientifically interesting, they will seek closer inspection and take more pictures with different angles and filters.    The rover is able to better understand the Martian landscape and is able to better understand the terrain.  If the object is unimportant—an empty sky devoid of storms or interesting features, for example—then they will only store it temporarily, and won’t hesitate to overwrite it.    For example, \\xa0the rover is now able to read the Martian surface, \\xa0to understand the Martian atmosphere, \\xa0to understand the Martian atmosphere, \\xa0to understand the Martian atmosphere, \\xa0to understand the Martian atmosphere, \\xa0to understand the Martian atmosphere, \\xa0to understand the Martian atmosphere, \\xa0to understand the Martian atmosphere, \\xa0to understand the Martian atmosphere, \\xa0to understand the  Unless, of course, they are instructed otherwise.[6][8]    The rover has more than enough information to make a decision on what to do with the rover.  All in all, as rovers become more autonomous, they are able to do their job quicker, instead of waiting for a command that can take upwards of 10 minutes to be received.    As more rovers are sent to Mars and to other planets, it is entirely possible that there will be interconnected teams of rovers working together as scientists.    The rover has been able to take pictures of the Martian surface and other parts of the planet.  Eventually, barely any human moderation will be needed for entire experiments and research projects to take place.    The rover has been able to see the Martian surface and the surrounding terrain, and is able to see the rover's current location and the rover's current location.\""
      ]
     },
     "execution_count": 106,
     "metadata": {},
     "output_type": "execute_result"
    }
   ],
   "source": [
    "s6 = window_gen(passage, 3, offset=0, top_k=50, temperature=0.25)\n",
    "s6"
   ]
  },
  {
   "cell_type": "code",
   "execution_count": 112,
   "metadata": {},
   "outputs": [
    {
     "data": {
      "text/plain": [
       "'A large part of the updates to Discovery have been towards increasing the rover’s artificial intelligence.  The same process is also in place for other rovers and machines, such as Curiosity and other planned rovers.[5]  The benefits of this increased intelligence are numerous.    The rover itself has been able to detect, measure, and compare the rover\\'s temperature, humidity, and water temperatures.  On a basic level, the A.I. assists with navigation.    For instance, in addition to the rovers and machines, the rover will be able to perform certain tasks such as a quick, quick, and quick return.  The rovers can avoid obstacles and can find better paths to and from ordered positions with greater ease and safety, all with less input needed from the humans back on Earth.    The AI is much more sophisticated than the existing rovers on the Curiosity rover.  As software is updated, and intelligence is added, the rovers’ capabilities drastically increase.[6]    For example, rovers that have built up knowledge about the Curiosity\\'s rovers are able to see the rover\\'s surface (the \"surface view\") more clearly from the surface view.  For data collection, rovers are smarter about knowing when to transfer data back to Earth.    The rover has built up a large collection of data on its robotic arm.  While in the past some data has been lost due to poor connection, or not enough storage and being overwritten, the rovers now can decide when they should backup data according to amount of storage left, and broadband connectivity with mission control.[7]    The rover has a wider range of capabilities, including: \\xa0a new rovers and robots which can operate on the ground, and \\xa0a large amount of data, including rovers, rovers, and rovers for the Martian surface.  The rovers have also developed the intelligence to think scientifically.                     \\n\\nWe have also discovered that Curiosity\\'s artificial intelligence is a bit less flexible than Curiosity.  If a photo that they take, or object that they see is deemed scientifically interesting, they will seek closer inspection and take more pictures with different angles and filters.    For example, in addition to being able to learn to search for food, other tasks, such as searching for the rover\\'s location, can also be performed.  If the object is unimportant—an empty sky devoid of storms or interesting features, for example—then they will only store it temporarily, and won’t hesitate to overwrite it.     For example, \\xa0it makes them more likely to find objects even if they are not looking for anything (like a car, or a spaceship, or a building).  Unless, of course, they are instructed otherwise.[6][8]    As part of its mission, Discovery has spent a lot of time at Mars.  All in all, as rovers become more autonomous, they are able to do their job quicker, instead of waiting for a command that can take upwards of 10 minutes to be received.    For example, \\xa0many rovers are able to use a variety of tools, such as \\xa0gravitational vortices, and \\xa0laser pointers, to navigate and explore the surface of Mars, \\xa0a task that has never been done by humans before.  As more rovers are sent to Mars and to other planets, it is entirely possible that there will be interconnected teams of rovers working together as scientists.    For example, it is possible to learn about objects, as well as new things, that we could never have imagined that would even exist.  Eventually, barely any human moderation will be needed for entire experiments and research projects to take place.    It allows the rover to be more efficient at exploring the Martian surface and more easily on land.'"
      ]
     },
     "execution_count": 112,
     "metadata": {},
     "output_type": "execute_result"
    }
   ],
   "source": [
    "s7 = window_gen(passage, 3, offset=0, top_k=30, temperature=0.8)\n",
    "s7"
   ]
  },
  {
   "cell_type": "code",
   "execution_count": 113,
   "metadata": {},
   "outputs": [
    {
     "data": {
      "text/plain": [
       "\"A large part of the updates to Discovery have been towards increasing the rover’s artificial intelligence.  The same process is also in place for other rovers and machines, such as Curiosity and other planned rovers.[5]  The benefits of this increased intelligence are numerous.    A.I.  On a basic level, the A.I. assists with navigation.     However, it can also help with other rover programs, such as the rover Curiosity rover in the Mast and rover Curiosity rover in the Gale Crater.  The rovers can avoid obstacles and can find better paths to and from ordered positions with greater ease and safety, all with less input needed from the humans back on Earth.                                                                                  \\xa0 \\xa0              \\n\\u202a\\u202a\\u202a  As software is updated, and intelligence is added, the rovers’ capabilities drastically increase.[6]    To get a better idea, we can look at the rover's main mission: to find and study the planet for signs of life.  For data collection, rovers are smarter about knowing when to transfer data back to Earth.    While in the past some data has been lost due to poor connection, or not enough storage and being overwritten, the rovers now can decide when they should backup data according to amount of storage left, and broadband connectivity with mission control.[7]    The rover is only able to see when it is in a certain distance from the rover’s target’ for a given period of time.  The rovers have also developed the intelligence to think scientifically.     As a result, the rover can get out more quickly and can find more objects.  If a photo that they take, or object that they see is deemed scientifically interesting, they will seek closer inspection and take more pictures with different angles and filters.    \\xa0The rover's AI is now able to recognize objects along its path, making it difficult for the A.I.  If the object is unimportant—an empty sky devoid of storms or interesting features, for example—then they will only store it temporarily, and won’t hesitate to overwrite it.     There are also more of the rover's cameras and sensors, \\xa0which provide the rover with better situational awareness.  Unless, of course, they are instructed otherwise.[6][8]     However, there are a few things that the rover needs to do in order to navigate the rover.  All in all, as rovers become more autonomous, they are able to do their job quicker, instead of waiting for a command that can take upwards of 10 minutes to be received.    If the rover has been on Mars, it has navigation software that is able to see through the terrain at a higher level.  As more rovers are sent to Mars and to other planets, it is entirely possible that there will be interconnected teams of rovers working together as scientists.    However, the A.I.  Eventually, barely any human moderation will be needed for entire experiments and research projects to take place.\""
      ]
     },
     "execution_count": 113,
     "metadata": {},
     "output_type": "execute_result"
    }
   ],
   "source": [
    "s8 = window_gen(passage, 4, offset=-1, top_k=30, temperature=0.8)\n",
    "s8"
   ]
  },
  {
   "cell_type": "code",
   "execution_count": null,
   "metadata": {},
   "outputs": [],
   "source": []
  },
  {
   "cell_type": "code",
   "execution_count": 3,
   "metadata": {},
   "outputs": [],
   "source": [
    "# Corpus generation: run once\n",
    "\n",
    "###\n",
    "# !cat text/w_[amn]*.txt >> text/all_amn.txt\n",
    "\n",
    "done = True\n",
    "\n",
    "def clean_corpus(filepath):\n",
    "\n",
    "    with open(filepath, 'r') as infile:\n",
    "        lines = infile.readlines()\n",
    "\n",
    "    cleaned = []\n",
    "\n",
    "    for line in lines:\n",
    "\n",
    "        cl = re.sub(r\"##\\d+\", '', line)\n",
    "        cl = re.sub(r\"@ @ @ @ @ @ @ @ @ @ \", '', cl)\n",
    "        cl = re.sub(r\"[#@]\", '', cl)\n",
    "\n",
    "        cleaned.append(cl)\n",
    "\n",
    "    with open(filepath, 'w') as outfile:\n",
    "        outfile.writelines(cleaned)\n",
    "        \n",
    "if not done:\n",
    "    clean_corpus(\"text/all_amn.txt\")"
   ]
  },
  {
   "cell_type": "code",
   "execution_count": 4,
   "metadata": {},
   "outputs": [],
   "source": [
    "# Finetuning, 1 of 3: run once, save, then restart\n",
    "# Give the model an idea of the structure of a piece of writing.\n",
    "done = True\n",
    "\n",
    "if not done:\n",
    "    gpt2.finetune(\n",
    "        sess,\n",
    "        \"text/all_amn.txt\",\n",
    "        model_name=model_name,\n",
    "        run_name=\"finetuning1\",\n",
    "        restore_from=\"fresh\",\n",
    "        steps=500,\n",
    "        print_every=10,\n",
    "    )"
   ]
  },
  {
   "cell_type": "code",
   "execution_count": 5,
   "metadata": {},
   "outputs": [],
   "source": [
    "# Now let's restart and try to finetune on a new corpus (fingers crossed!)"
   ]
  },
  {
   "cell_type": "code",
   "execution_count": 6,
   "metadata": {},
   "outputs": [],
   "source": [
    "# I duplicated the finetuning1 run into finetuning2 to allow me to use overwrite without losing my previous run!\n",
    "\n",
    "# gpt2.load_gpt2(\n",
    "#     sess,\n",
    "#     model_name=model_name,\n",
    "#     run_name=\"finetuning2\",\n",
    "# )"
   ]
  },
  {
   "cell_type": "code",
   "execution_count": 7,
   "metadata": {},
   "outputs": [],
   "source": [
    "# Finetuning, 2 of 3: run once, save, then restart\n",
    "# Show the model the essay to set in the topic it should talk about.\n",
    "done = True\n",
    "\n",
    "if not done:\n",
    "    gpt2.finetune(\n",
    "        sess,\n",
    "        \"text/catcher.txt\",\n",
    "        model_name=model_name,\n",
    "        run_name=\"finetuning2\",\n",
    "        restore_from=\"fresh\",\n",
    "        steps=10,\n",
    "        print_every=5,\n",
    "        overwrite=True,\n",
    "    )"
   ]
  },
  {
   "cell_type": "code",
   "execution_count": 8,
   "metadata": {},
   "outputs": [
    {
     "ename": "FailedPreconditionError",
     "evalue": "2 root error(s) found.\n  (0) Failed precondition: Attempting to use uninitialized value model/h7/ln_2/g\n\t [[node model/h7/ln_2/g/read (defined at /home/jovyan/.local/lib/python3.7/site-packages/gpt_2_simple/src/model.py:62) ]]\n\t [[strided_slice/_59]]\n  (1) Failed precondition: Attempting to use uninitialized value model/h7/ln_2/g\n\t [[node model/h7/ln_2/g/read (defined at /home/jovyan/.local/lib/python3.7/site-packages/gpt_2_simple/src/model.py:62) ]]\n0 successful operations.\n0 derived errors ignored.\n\nOriginal stack trace for 'model/h7/ln_2/g/read':\n  File \"/opt/conda/lib/python3.7/runpy.py\", line 193, in _run_module_as_main\n    \"__main__\", mod_spec)\n  File \"/opt/conda/lib/python3.7/runpy.py\", line 85, in _run_code\n    exec(code, run_globals)\n  File \"/opt/conda/lib/python3.7/site-packages/ipykernel_launcher.py\", line 16, in <module>\n    app.launch_new_instance()\n  File \"/opt/conda/lib/python3.7/site-packages/traitlets/config/application.py\", line 658, in launch_instance\n    app.start()\n  File \"/opt/conda/lib/python3.7/site-packages/ipykernel/kernelapp.py\", line 563, in start\n    self.io_loop.start()\n  File \"/opt/conda/lib/python3.7/site-packages/tornado/platform/asyncio.py\", line 148, in start\n    self.asyncio_loop.run_forever()\n  File \"/opt/conda/lib/python3.7/asyncio/base_events.py\", line 539, in run_forever\n    self._run_once()\n  File \"/opt/conda/lib/python3.7/asyncio/base_events.py\", line 1775, in _run_once\n    handle._run()\n  File \"/opt/conda/lib/python3.7/asyncio/events.py\", line 88, in _run\n    self._context.run(self._callback, *self._args)\n  File \"/opt/conda/lib/python3.7/site-packages/tornado/ioloop.py\", line 690, in <lambda>\n    lambda f: self._run_callback(functools.partial(callback, future))\n  File \"/opt/conda/lib/python3.7/site-packages/tornado/ioloop.py\", line 743, in _run_callback\n    ret = callback()\n  File \"/opt/conda/lib/python3.7/site-packages/tornado/gen.py\", line 787, in inner\n    self.run()\n  File \"/opt/conda/lib/python3.7/site-packages/tornado/gen.py\", line 748, in run\n    yielded = self.gen.send(value)\n  File \"/opt/conda/lib/python3.7/site-packages/ipykernel/kernelbase.py\", line 365, in process_one\n    yield gen.maybe_future(dispatch(*args))\n  File \"/opt/conda/lib/python3.7/site-packages/tornado/gen.py\", line 209, in wrapper\n    yielded = next(result)\n  File \"/opt/conda/lib/python3.7/site-packages/ipykernel/kernelbase.py\", line 272, in dispatch_shell\n    yield gen.maybe_future(handler(stream, idents, msg))\n  File \"/opt/conda/lib/python3.7/site-packages/tornado/gen.py\", line 209, in wrapper\n    yielded = next(result)\n  File \"/opt/conda/lib/python3.7/site-packages/ipykernel/kernelbase.py\", line 542, in execute_request\n    user_expressions, allow_stdin,\n  File \"/opt/conda/lib/python3.7/site-packages/tornado/gen.py\", line 209, in wrapper\n    yielded = next(result)\n  File \"/opt/conda/lib/python3.7/site-packages/ipykernel/ipkernel.py\", line 294, in do_execute\n    res = shell.run_cell(code, store_history=store_history, silent=silent)\n  File \"/opt/conda/lib/python3.7/site-packages/ipykernel/zmqshell.py\", line 536, in run_cell\n    return super(ZMQInteractiveShell, self).run_cell(*args, **kwargs)\n  File \"/opt/conda/lib/python3.7/site-packages/IPython/core/interactiveshell.py\", line 2855, in run_cell\n    raw_cell, store_history, silent, shell_futures)\n  File \"/opt/conda/lib/python3.7/site-packages/IPython/core/interactiveshell.py\", line 2881, in _run_cell\n    return runner(coro)\n  File \"/opt/conda/lib/python3.7/site-packages/IPython/core/async_helpers.py\", line 68, in _pseudo_sync_runner\n    coro.send(None)\n  File \"/opt/conda/lib/python3.7/site-packages/IPython/core/interactiveshell.py\", line 3058, in run_cell_async\n    interactivity=interactivity, compiler=compiler, result=result)\n  File \"/opt/conda/lib/python3.7/site-packages/IPython/core/interactiveshell.py\", line 3249, in run_ast_nodes\n    if (await self.run_code(code, result,  async_=asy)):\n  File \"/opt/conda/lib/python3.7/site-packages/IPython/core/interactiveshell.py\", line 3326, in run_code\n    exec(code_obj, self.user_global_ns, self.user_ns)\n  File \"<ipython-input-8-6013f71c6f70>\", line 9, in <module>\n    prefix=\"\"\"The final and arguably most accurate and important connection between Salinger’s life and the book he created is a similarity between Holden and Salinger. The two share a great interest, of which is a definite theme throughout the book, being the desire for the preservation of innocence. Throughout the book, Holden seems to be less grown up than most of the people around him. He seems to dislike many people his age or older, saying that they are all phonies. Kids on the other hand, he likes them a lot due to just how uncorrupted and innocent they are. When Holden is depressed, seeing the innocence of a kid generally makes him feel better, as seen when Holden is depressed before meeting up with Sally, but he sees a child singing “If a body catch a body coming through the rye.” and it made him feel better.\"\"\",\n  File \"/home/jovyan/.local/lib/python3.7/site-packages/gpt_2_simple/gpt_2.py\", line 439, in generate\n    temperature=temperature, top_k=top_k, top_p=top_p\n  File \"/home/jovyan/.local/lib/python3.7/site-packages/gpt_2_simple/src/sample.py\", line 67, in sample_sequence\n    context_output = step(hparams, context[:, :-1])\n  File \"/home/jovyan/.local/lib/python3.7/site-packages/gpt_2_simple/src/sample.py\", line 52, in step\n    past=past, reuse=tf.compat.v1.AUTO_REUSE)\n  File \"/home/jovyan/.local/lib/python3.7/site-packages/gpt_2_simple/src/model.py\", line 194, in model\n    h, present = block(h, 'h%d' % layer, past=past, hparams=hparams)\n  File \"/home/jovyan/.local/lib/python3.7/site-packages/gpt_2_simple/src/model.py\", line 158, in block\n    m = mlp(norm(x, 'ln_2'), 'mlp', nx*4, hparams=hparams)\n  File \"/home/jovyan/.local/lib/python3.7/site-packages/gpt_2_simple/src/model.py\", line 62, in norm\n    g = tf.compat.v1.get_variable('g', [n_state], initializer=tf.compat.v1.constant_initializer(1))\n  File \"/opt/conda/lib/python3.7/site-packages/tensorflow/python/ops/variable_scope.py\", line 1496, in get_variable\n    aggregation=aggregation)\n  File \"/opt/conda/lib/python3.7/site-packages/tensorflow/python/ops/variable_scope.py\", line 1239, in get_variable\n    aggregation=aggregation)\n  File \"/opt/conda/lib/python3.7/site-packages/tensorflow/python/ops/variable_scope.py\", line 562, in get_variable\n    aggregation=aggregation)\n  File \"/opt/conda/lib/python3.7/site-packages/tensorflow/python/ops/variable_scope.py\", line 514, in _true_getter\n    aggregation=aggregation)\n  File \"/opt/conda/lib/python3.7/site-packages/tensorflow/python/ops/variable_scope.py\", line 929, in _get_single_variable\n    aggregation=aggregation)\n  File \"/opt/conda/lib/python3.7/site-packages/tensorflow/python/ops/variables.py\", line 259, in __call__\n    return cls._variable_v1_call(*args, **kwargs)\n  File \"/opt/conda/lib/python3.7/site-packages/tensorflow/python/ops/variables.py\", line 220, in _variable_v1_call\n    shape=shape)\n  File \"/opt/conda/lib/python3.7/site-packages/tensorflow/python/ops/variables.py\", line 198, in <lambda>\n    previous_getter = lambda **kwargs: default_variable_creator(None, **kwargs)\n  File \"/opt/conda/lib/python3.7/site-packages/tensorflow/python/ops/variable_scope.py\", line 2511, in default_variable_creator\n    shape=shape)\n  File \"/opt/conda/lib/python3.7/site-packages/tensorflow/python/ops/variables.py\", line 263, in __call__\n    return super(VariableMetaclass, cls).__call__(*args, **kwargs)\n  File \"/opt/conda/lib/python3.7/site-packages/tensorflow/python/ops/variables.py\", line 1568, in __init__\n    shape=shape)\n  File \"/opt/conda/lib/python3.7/site-packages/tensorflow/python/ops/variables.py\", line 1755, in _init_from_args\n    self._snapshot = array_ops.identity(self._variable, name=\"read\")\n  File \"/opt/conda/lib/python3.7/site-packages/tensorflow/python/util/dispatch.py\", line 180, in wrapper\n    return target(*args, **kwargs)\n  File \"/opt/conda/lib/python3.7/site-packages/tensorflow/python/ops/array_ops.py\", line 86, in identity\n    ret = gen_array_ops.identity(input, name=name)\n  File \"/opt/conda/lib/python3.7/site-packages/tensorflow/python/ops/gen_array_ops.py\", line 4253, in identity\n    \"Identity\", input=input, name=name)\n  File \"/opt/conda/lib/python3.7/site-packages/tensorflow/python/framework/op_def_library.py\", line 788, in _apply_op_helper\n    op_def=op_def)\n  File \"/opt/conda/lib/python3.7/site-packages/tensorflow/python/util/deprecation.py\", line 507, in new_func\n    return func(*args, **kwargs)\n  File \"/opt/conda/lib/python3.7/site-packages/tensorflow/python/framework/ops.py\", line 3616, in create_op\n    op_def=op_def)\n  File \"/opt/conda/lib/python3.7/site-packages/tensorflow/python/framework/ops.py\", line 2005, in __init__\n    self._traceback = tf_stack.extract_stack()\n",
     "output_type": "error",
     "traceback": [
      "\u001b[0;31m---------------------------------------------------------------------------\u001b[0m",
      "\u001b[0;31mFailedPreconditionError\u001b[0m                   Traceback (most recent call last)",
      "\u001b[0;32m/opt/conda/lib/python3.7/site-packages/tensorflow/python/client/session.py\u001b[0m in \u001b[0;36m_do_call\u001b[0;34m(self, fn, *args)\u001b[0m\n\u001b[1;32m   1355\u001b[0m     \u001b[0;32mtry\u001b[0m\u001b[0;34m:\u001b[0m\u001b[0;34m\u001b[0m\u001b[0;34m\u001b[0m\u001b[0m\n\u001b[0;32m-> 1356\u001b[0;31m       \u001b[0;32mreturn\u001b[0m \u001b[0mfn\u001b[0m\u001b[0;34m(\u001b[0m\u001b[0;34m*\u001b[0m\u001b[0margs\u001b[0m\u001b[0;34m)\u001b[0m\u001b[0;34m\u001b[0m\u001b[0;34m\u001b[0m\u001b[0m\n\u001b[0m\u001b[1;32m   1357\u001b[0m     \u001b[0;32mexcept\u001b[0m \u001b[0merrors\u001b[0m\u001b[0;34m.\u001b[0m\u001b[0mOpError\u001b[0m \u001b[0;32mas\u001b[0m \u001b[0me\u001b[0m\u001b[0;34m:\u001b[0m\u001b[0;34m\u001b[0m\u001b[0;34m\u001b[0m\u001b[0m\n",
      "\u001b[0;32m/opt/conda/lib/python3.7/site-packages/tensorflow/python/client/session.py\u001b[0m in \u001b[0;36m_run_fn\u001b[0;34m(feed_dict, fetch_list, target_list, options, run_metadata)\u001b[0m\n\u001b[1;32m   1340\u001b[0m       return self._call_tf_sessionrun(\n\u001b[0;32m-> 1341\u001b[0;31m           options, feed_dict, fetch_list, target_list, run_metadata)\n\u001b[0m\u001b[1;32m   1342\u001b[0m \u001b[0;34m\u001b[0m\u001b[0m\n",
      "\u001b[0;32m/opt/conda/lib/python3.7/site-packages/tensorflow/python/client/session.py\u001b[0m in \u001b[0;36m_call_tf_sessionrun\u001b[0;34m(self, options, feed_dict, fetch_list, target_list, run_metadata)\u001b[0m\n\u001b[1;32m   1428\u001b[0m         \u001b[0mself\u001b[0m\u001b[0;34m.\u001b[0m\u001b[0m_session\u001b[0m\u001b[0;34m,\u001b[0m \u001b[0moptions\u001b[0m\u001b[0;34m,\u001b[0m \u001b[0mfeed_dict\u001b[0m\u001b[0;34m,\u001b[0m \u001b[0mfetch_list\u001b[0m\u001b[0;34m,\u001b[0m \u001b[0mtarget_list\u001b[0m\u001b[0;34m,\u001b[0m\u001b[0;34m\u001b[0m\u001b[0;34m\u001b[0m\u001b[0m\n\u001b[0;32m-> 1429\u001b[0;31m         run_metadata)\n\u001b[0m\u001b[1;32m   1430\u001b[0m \u001b[0;34m\u001b[0m\u001b[0m\n",
      "\u001b[0;31mFailedPreconditionError\u001b[0m: 2 root error(s) found.\n  (0) Failed precondition: Attempting to use uninitialized value model/h7/ln_2/g\n\t [[{{node model/h7/ln_2/g/read}}]]\n\t [[strided_slice/_59]]\n  (1) Failed precondition: Attempting to use uninitialized value model/h7/ln_2/g\n\t [[{{node model/h7/ln_2/g/read}}]]\n0 successful operations.\n0 derived errors ignored.",
      "\nDuring handling of the above exception, another exception occurred:\n",
      "\u001b[0;31mFailedPreconditionError\u001b[0m                   Traceback (most recent call last)",
      "\u001b[0;32m<ipython-input-8-6013f71c6f70>\u001b[0m in \u001b[0;36m<module>\u001b[0;34m\u001b[0m\n\u001b[1;32m      7\u001b[0m     \u001b[0mtop_k\u001b[0m\u001b[0;34m=\u001b[0m\u001b[0;36m0\u001b[0m\u001b[0;34m,\u001b[0m\u001b[0;34m\u001b[0m\u001b[0;34m\u001b[0m\u001b[0m\n\u001b[1;32m      8\u001b[0m     \u001b[0mtemperature\u001b[0m\u001b[0;34m=\u001b[0m\u001b[0;36m1\u001b[0m\u001b[0;34m,\u001b[0m\u001b[0;34m\u001b[0m\u001b[0;34m\u001b[0m\u001b[0m\n\u001b[0;32m----> 9\u001b[0;31m     \u001b[0mprefix\u001b[0m\u001b[0;34m=\u001b[0m\u001b[0;34m\"\"\"The final and arguably most accurate and important connection between Salinger’s life and the book he created is a similarity between Holden and Salinger. The two share a great interest, of which is a definite theme throughout the book, being the desire for the preservation of innocence. Throughout the book, Holden seems to be less grown up than most of the people around him. He seems to dislike many people his age or older, saying that they are all phonies. Kids on the other hand, he likes them a lot due to just how uncorrupted and innocent they are. When Holden is depressed, seeing the innocence of a kid generally makes him feel better, as seen when Holden is depressed before meeting up with Sally, but he sees a child singing “If a body catch a body coming through the rye.” and it made him feel better.\"\"\"\u001b[0m\u001b[0;34m,\u001b[0m\u001b[0;34m\u001b[0m\u001b[0;34m\u001b[0m\u001b[0m\n\u001b[0m\u001b[1;32m     10\u001b[0m )\n",
      "\u001b[0;32m~/.local/lib/python3.7/site-packages/gpt_2_simple/gpt_2.py\u001b[0m in \u001b[0;36mgenerate\u001b[0;34m(sess, run_name, checkpoint_dir, model_name, model_dir, sample_dir, return_as_list, truncate, destination_path, sample_delim, prefix, seed, nsamples, batch_size, length, temperature, top_k, top_p, include_prefix)\u001b[0m\n\u001b[1;32m    449\u001b[0m         \u001b[0;32melse\u001b[0m\u001b[0;34m:\u001b[0m\u001b[0;34m\u001b[0m\u001b[0;34m\u001b[0m\u001b[0m\n\u001b[1;32m    450\u001b[0m             out = sess.run(output, feed_dict={\n\u001b[0;32m--> 451\u001b[0;31m                     \u001b[0mcontext\u001b[0m\u001b[0;34m:\u001b[0m \u001b[0mbatch_size\u001b[0m \u001b[0;34m*\u001b[0m \u001b[0;34m[\u001b[0m\u001b[0mcontext_tokens\u001b[0m\u001b[0;34m]\u001b[0m\u001b[0;34m\u001b[0m\u001b[0;34m\u001b[0m\u001b[0m\n\u001b[0m\u001b[1;32m    452\u001b[0m                 })\n\u001b[1;32m    453\u001b[0m         \u001b[0;32mfor\u001b[0m \u001b[0mi\u001b[0m \u001b[0;32min\u001b[0m \u001b[0mrange\u001b[0m\u001b[0;34m(\u001b[0m\u001b[0mbatch_size\u001b[0m\u001b[0;34m)\u001b[0m\u001b[0;34m:\u001b[0m\u001b[0;34m\u001b[0m\u001b[0;34m\u001b[0m\u001b[0m\n",
      "\u001b[0;32m/opt/conda/lib/python3.7/site-packages/tensorflow/python/client/session.py\u001b[0m in \u001b[0;36mrun\u001b[0;34m(self, fetches, feed_dict, options, run_metadata)\u001b[0m\n\u001b[1;32m    948\u001b[0m     \u001b[0;32mtry\u001b[0m\u001b[0;34m:\u001b[0m\u001b[0;34m\u001b[0m\u001b[0;34m\u001b[0m\u001b[0m\n\u001b[1;32m    949\u001b[0m       result = self._run(None, fetches, feed_dict, options_ptr,\n\u001b[0;32m--> 950\u001b[0;31m                          run_metadata_ptr)\n\u001b[0m\u001b[1;32m    951\u001b[0m       \u001b[0;32mif\u001b[0m \u001b[0mrun_metadata\u001b[0m\u001b[0;34m:\u001b[0m\u001b[0;34m\u001b[0m\u001b[0;34m\u001b[0m\u001b[0m\n\u001b[1;32m    952\u001b[0m         \u001b[0mproto_data\u001b[0m \u001b[0;34m=\u001b[0m \u001b[0mtf_session\u001b[0m\u001b[0;34m.\u001b[0m\u001b[0mTF_GetBuffer\u001b[0m\u001b[0;34m(\u001b[0m\u001b[0mrun_metadata_ptr\u001b[0m\u001b[0;34m)\u001b[0m\u001b[0;34m\u001b[0m\u001b[0;34m\u001b[0m\u001b[0m\n",
      "\u001b[0;32m/opt/conda/lib/python3.7/site-packages/tensorflow/python/client/session.py\u001b[0m in \u001b[0;36m_run\u001b[0;34m(self, handle, fetches, feed_dict, options, run_metadata)\u001b[0m\n\u001b[1;32m   1171\u001b[0m     \u001b[0;32mif\u001b[0m \u001b[0mfinal_fetches\u001b[0m \u001b[0;32mor\u001b[0m \u001b[0mfinal_targets\u001b[0m \u001b[0;32mor\u001b[0m \u001b[0;34m(\u001b[0m\u001b[0mhandle\u001b[0m \u001b[0;32mand\u001b[0m \u001b[0mfeed_dict_tensor\u001b[0m\u001b[0;34m)\u001b[0m\u001b[0;34m:\u001b[0m\u001b[0;34m\u001b[0m\u001b[0;34m\u001b[0m\u001b[0m\n\u001b[1;32m   1172\u001b[0m       results = self._do_run(handle, final_targets, final_fetches,\n\u001b[0;32m-> 1173\u001b[0;31m                              feed_dict_tensor, options, run_metadata)\n\u001b[0m\u001b[1;32m   1174\u001b[0m     \u001b[0;32melse\u001b[0m\u001b[0;34m:\u001b[0m\u001b[0;34m\u001b[0m\u001b[0;34m\u001b[0m\u001b[0m\n\u001b[1;32m   1175\u001b[0m       \u001b[0mresults\u001b[0m \u001b[0;34m=\u001b[0m \u001b[0;34m[\u001b[0m\u001b[0;34m]\u001b[0m\u001b[0;34m\u001b[0m\u001b[0;34m\u001b[0m\u001b[0m\n",
      "\u001b[0;32m/opt/conda/lib/python3.7/site-packages/tensorflow/python/client/session.py\u001b[0m in \u001b[0;36m_do_run\u001b[0;34m(self, handle, target_list, fetch_list, feed_dict, options, run_metadata)\u001b[0m\n\u001b[1;32m   1348\u001b[0m     \u001b[0;32mif\u001b[0m \u001b[0mhandle\u001b[0m \u001b[0;32mis\u001b[0m \u001b[0;32mNone\u001b[0m\u001b[0;34m:\u001b[0m\u001b[0;34m\u001b[0m\u001b[0;34m\u001b[0m\u001b[0m\n\u001b[1;32m   1349\u001b[0m       return self._do_call(_run_fn, feeds, fetches, targets, options,\n\u001b[0;32m-> 1350\u001b[0;31m                            run_metadata)\n\u001b[0m\u001b[1;32m   1351\u001b[0m     \u001b[0;32melse\u001b[0m\u001b[0;34m:\u001b[0m\u001b[0;34m\u001b[0m\u001b[0;34m\u001b[0m\u001b[0m\n\u001b[1;32m   1352\u001b[0m       \u001b[0;32mreturn\u001b[0m \u001b[0mself\u001b[0m\u001b[0;34m.\u001b[0m\u001b[0m_do_call\u001b[0m\u001b[0;34m(\u001b[0m\u001b[0m_prun_fn\u001b[0m\u001b[0;34m,\u001b[0m \u001b[0mhandle\u001b[0m\u001b[0;34m,\u001b[0m \u001b[0mfeeds\u001b[0m\u001b[0;34m,\u001b[0m \u001b[0mfetches\u001b[0m\u001b[0;34m)\u001b[0m\u001b[0;34m\u001b[0m\u001b[0;34m\u001b[0m\u001b[0m\n",
      "\u001b[0;32m/opt/conda/lib/python3.7/site-packages/tensorflow/python/client/session.py\u001b[0m in \u001b[0;36m_do_call\u001b[0;34m(self, fn, *args)\u001b[0m\n\u001b[1;32m   1368\u001b[0m           \u001b[0;32mpass\u001b[0m\u001b[0;34m\u001b[0m\u001b[0;34m\u001b[0m\u001b[0m\n\u001b[1;32m   1369\u001b[0m       \u001b[0mmessage\u001b[0m \u001b[0;34m=\u001b[0m \u001b[0merror_interpolation\u001b[0m\u001b[0;34m.\u001b[0m\u001b[0minterpolate\u001b[0m\u001b[0;34m(\u001b[0m\u001b[0mmessage\u001b[0m\u001b[0;34m,\u001b[0m \u001b[0mself\u001b[0m\u001b[0;34m.\u001b[0m\u001b[0m_graph\u001b[0m\u001b[0;34m)\u001b[0m\u001b[0;34m\u001b[0m\u001b[0;34m\u001b[0m\u001b[0m\n\u001b[0;32m-> 1370\u001b[0;31m       \u001b[0;32mraise\u001b[0m \u001b[0mtype\u001b[0m\u001b[0;34m(\u001b[0m\u001b[0me\u001b[0m\u001b[0;34m)\u001b[0m\u001b[0;34m(\u001b[0m\u001b[0mnode_def\u001b[0m\u001b[0;34m,\u001b[0m \u001b[0mop\u001b[0m\u001b[0;34m,\u001b[0m \u001b[0mmessage\u001b[0m\u001b[0;34m)\u001b[0m\u001b[0;34m\u001b[0m\u001b[0;34m\u001b[0m\u001b[0m\n\u001b[0m\u001b[1;32m   1371\u001b[0m \u001b[0;34m\u001b[0m\u001b[0m\n\u001b[1;32m   1372\u001b[0m   \u001b[0;32mdef\u001b[0m \u001b[0m_extend_graph\u001b[0m\u001b[0;34m(\u001b[0m\u001b[0mself\u001b[0m\u001b[0;34m)\u001b[0m\u001b[0;34m:\u001b[0m\u001b[0;34m\u001b[0m\u001b[0;34m\u001b[0m\u001b[0m\n",
      "\u001b[0;31mFailedPreconditionError\u001b[0m: 2 root error(s) found.\n  (0) Failed precondition: Attempting to use uninitialized value model/h7/ln_2/g\n\t [[node model/h7/ln_2/g/read (defined at /home/jovyan/.local/lib/python3.7/site-packages/gpt_2_simple/src/model.py:62) ]]\n\t [[strided_slice/_59]]\n  (1) Failed precondition: Attempting to use uninitialized value model/h7/ln_2/g\n\t [[node model/h7/ln_2/g/read (defined at /home/jovyan/.local/lib/python3.7/site-packages/gpt_2_simple/src/model.py:62) ]]\n0 successful operations.\n0 derived errors ignored.\n\nOriginal stack trace for 'model/h7/ln_2/g/read':\n  File \"/opt/conda/lib/python3.7/runpy.py\", line 193, in _run_module_as_main\n    \"__main__\", mod_spec)\n  File \"/opt/conda/lib/python3.7/runpy.py\", line 85, in _run_code\n    exec(code, run_globals)\n  File \"/opt/conda/lib/python3.7/site-packages/ipykernel_launcher.py\", line 16, in <module>\n    app.launch_new_instance()\n  File \"/opt/conda/lib/python3.7/site-packages/traitlets/config/application.py\", line 658, in launch_instance\n    app.start()\n  File \"/opt/conda/lib/python3.7/site-packages/ipykernel/kernelapp.py\", line 563, in start\n    self.io_loop.start()\n  File \"/opt/conda/lib/python3.7/site-packages/tornado/platform/asyncio.py\", line 148, in start\n    self.asyncio_loop.run_forever()\n  File \"/opt/conda/lib/python3.7/asyncio/base_events.py\", line 539, in run_forever\n    self._run_once()\n  File \"/opt/conda/lib/python3.7/asyncio/base_events.py\", line 1775, in _run_once\n    handle._run()\n  File \"/opt/conda/lib/python3.7/asyncio/events.py\", line 88, in _run\n    self._context.run(self._callback, *self._args)\n  File \"/opt/conda/lib/python3.7/site-packages/tornado/ioloop.py\", line 690, in <lambda>\n    lambda f: self._run_callback(functools.partial(callback, future))\n  File \"/opt/conda/lib/python3.7/site-packages/tornado/ioloop.py\", line 743, in _run_callback\n    ret = callback()\n  File \"/opt/conda/lib/python3.7/site-packages/tornado/gen.py\", line 787, in inner\n    self.run()\n  File \"/opt/conda/lib/python3.7/site-packages/tornado/gen.py\", line 748, in run\n    yielded = self.gen.send(value)\n  File \"/opt/conda/lib/python3.7/site-packages/ipykernel/kernelbase.py\", line 365, in process_one\n    yield gen.maybe_future(dispatch(*args))\n  File \"/opt/conda/lib/python3.7/site-packages/tornado/gen.py\", line 209, in wrapper\n    yielded = next(result)\n  File \"/opt/conda/lib/python3.7/site-packages/ipykernel/kernelbase.py\", line 272, in dispatch_shell\n    yield gen.maybe_future(handler(stream, idents, msg))\n  File \"/opt/conda/lib/python3.7/site-packages/tornado/gen.py\", line 209, in wrapper\n    yielded = next(result)\n  File \"/opt/conda/lib/python3.7/site-packages/ipykernel/kernelbase.py\", line 542, in execute_request\n    user_expressions, allow_stdin,\n  File \"/opt/conda/lib/python3.7/site-packages/tornado/gen.py\", line 209, in wrapper\n    yielded = next(result)\n  File \"/opt/conda/lib/python3.7/site-packages/ipykernel/ipkernel.py\", line 294, in do_execute\n    res = shell.run_cell(code, store_history=store_history, silent=silent)\n  File \"/opt/conda/lib/python3.7/site-packages/ipykernel/zmqshell.py\", line 536, in run_cell\n    return super(ZMQInteractiveShell, self).run_cell(*args, **kwargs)\n  File \"/opt/conda/lib/python3.7/site-packages/IPython/core/interactiveshell.py\", line 2855, in run_cell\n    raw_cell, store_history, silent, shell_futures)\n  File \"/opt/conda/lib/python3.7/site-packages/IPython/core/interactiveshell.py\", line 2881, in _run_cell\n    return runner(coro)\n  File \"/opt/conda/lib/python3.7/site-packages/IPython/core/async_helpers.py\", line 68, in _pseudo_sync_runner\n    coro.send(None)\n  File \"/opt/conda/lib/python3.7/site-packages/IPython/core/interactiveshell.py\", line 3058, in run_cell_async\n    interactivity=interactivity, compiler=compiler, result=result)\n  File \"/opt/conda/lib/python3.7/site-packages/IPython/core/interactiveshell.py\", line 3249, in run_ast_nodes\n    if (await self.run_code(code, result,  async_=asy)):\n  File \"/opt/conda/lib/python3.7/site-packages/IPython/core/interactiveshell.py\", line 3326, in run_code\n    exec(code_obj, self.user_global_ns, self.user_ns)\n  File \"<ipython-input-8-6013f71c6f70>\", line 9, in <module>\n    prefix=\"\"\"The final and arguably most accurate and important connection between Salinger’s life and the book he created is a similarity between Holden and Salinger. The two share a great interest, of which is a definite theme throughout the book, being the desire for the preservation of innocence. Throughout the book, Holden seems to be less grown up than most of the people around him. He seems to dislike many people his age or older, saying that they are all phonies. Kids on the other hand, he likes them a lot due to just how uncorrupted and innocent they are. When Holden is depressed, seeing the innocence of a kid generally makes him feel better, as seen when Holden is depressed before meeting up with Sally, but he sees a child singing “If a body catch a body coming through the rye.” and it made him feel better.\"\"\",\n  File \"/home/jovyan/.local/lib/python3.7/site-packages/gpt_2_simple/gpt_2.py\", line 439, in generate\n    temperature=temperature, top_k=top_k, top_p=top_p\n  File \"/home/jovyan/.local/lib/python3.7/site-packages/gpt_2_simple/src/sample.py\", line 67, in sample_sequence\n    context_output = step(hparams, context[:, :-1])\n  File \"/home/jovyan/.local/lib/python3.7/site-packages/gpt_2_simple/src/sample.py\", line 52, in step\n    past=past, reuse=tf.compat.v1.AUTO_REUSE)\n  File \"/home/jovyan/.local/lib/python3.7/site-packages/gpt_2_simple/src/model.py\", line 194, in model\n    h, present = block(h, 'h%d' % layer, past=past, hparams=hparams)\n  File \"/home/jovyan/.local/lib/python3.7/site-packages/gpt_2_simple/src/model.py\", line 158, in block\n    m = mlp(norm(x, 'ln_2'), 'mlp', nx*4, hparams=hparams)\n  File \"/home/jovyan/.local/lib/python3.7/site-packages/gpt_2_simple/src/model.py\", line 62, in norm\n    g = tf.compat.v1.get_variable('g', [n_state], initializer=tf.compat.v1.constant_initializer(1))\n  File \"/opt/conda/lib/python3.7/site-packages/tensorflow/python/ops/variable_scope.py\", line 1496, in get_variable\n    aggregation=aggregation)\n  File \"/opt/conda/lib/python3.7/site-packages/tensorflow/python/ops/variable_scope.py\", line 1239, in get_variable\n    aggregation=aggregation)\n  File \"/opt/conda/lib/python3.7/site-packages/tensorflow/python/ops/variable_scope.py\", line 562, in get_variable\n    aggregation=aggregation)\n  File \"/opt/conda/lib/python3.7/site-packages/tensorflow/python/ops/variable_scope.py\", line 514, in _true_getter\n    aggregation=aggregation)\n  File \"/opt/conda/lib/python3.7/site-packages/tensorflow/python/ops/variable_scope.py\", line 929, in _get_single_variable\n    aggregation=aggregation)\n  File \"/opt/conda/lib/python3.7/site-packages/tensorflow/python/ops/variables.py\", line 259, in __call__\n    return cls._variable_v1_call(*args, **kwargs)\n  File \"/opt/conda/lib/python3.7/site-packages/tensorflow/python/ops/variables.py\", line 220, in _variable_v1_call\n    shape=shape)\n  File \"/opt/conda/lib/python3.7/site-packages/tensorflow/python/ops/variables.py\", line 198, in <lambda>\n    previous_getter = lambda **kwargs: default_variable_creator(None, **kwargs)\n  File \"/opt/conda/lib/python3.7/site-packages/tensorflow/python/ops/variable_scope.py\", line 2511, in default_variable_creator\n    shape=shape)\n  File \"/opt/conda/lib/python3.7/site-packages/tensorflow/python/ops/variables.py\", line 263, in __call__\n    return super(VariableMetaclass, cls).__call__(*args, **kwargs)\n  File \"/opt/conda/lib/python3.7/site-packages/tensorflow/python/ops/variables.py\", line 1568, in __init__\n    shape=shape)\n  File \"/opt/conda/lib/python3.7/site-packages/tensorflow/python/ops/variables.py\", line 1755, in _init_from_args\n    self._snapshot = array_ops.identity(self._variable, name=\"read\")\n  File \"/opt/conda/lib/python3.7/site-packages/tensorflow/python/util/dispatch.py\", line 180, in wrapper\n    return target(*args, **kwargs)\n  File \"/opt/conda/lib/python3.7/site-packages/tensorflow/python/ops/array_ops.py\", line 86, in identity\n    ret = gen_array_ops.identity(input, name=name)\n  File \"/opt/conda/lib/python3.7/site-packages/tensorflow/python/ops/gen_array_ops.py\", line 4253, in identity\n    \"Identity\", input=input, name=name)\n  File \"/opt/conda/lib/python3.7/site-packages/tensorflow/python/framework/op_def_library.py\", line 788, in _apply_op_helper\n    op_def=op_def)\n  File \"/opt/conda/lib/python3.7/site-packages/tensorflow/python/util/deprecation.py\", line 507, in new_func\n    return func(*args, **kwargs)\n  File \"/opt/conda/lib/python3.7/site-packages/tensorflow/python/framework/ops.py\", line 3616, in create_op\n    op_def=op_def)\n  File \"/opt/conda/lib/python3.7/site-packages/tensorflow/python/framework/ops.py\", line 2005, in __init__\n    self._traceback = tf_stack.extract_stack()\n"
     ]
    }
   ],
   "source": [
    "gpt2.generate(\n",
    "    sess,\n",
    "    model_name=\"124M\",\n",
    "    run_name=\"finetuning2\",\n",
    "    nsamples=5,\n",
    "    length=200,\n",
    "    top_k=0,\n",
    "    temperature=1,\n",
    "    prefix=\"\"\"The final and arguably most accurate and important connection between Salinger’s life and the book he created is a similarity between Holden and Salinger. The two share a great interest, of which is a definite theme throughout the book, being the desire for the preservation of innocence. Throughout the book, Holden seems to be less grown up than most of the people around him. He seems to dislike many people his age or older, saying that they are all phonies. Kids on the other hand, he likes them a lot due to just how uncorrupted and innocent they are. When Holden is depressed, seeing the innocence of a kid generally makes him feel better, as seen when Holden is depressed before meeting up with Sally, but he sees a child singing “If a body catch a body coming through the rye.” and it made him feel better.\"\"\",\n",
    ")"
   ]
  },
  {
   "cell_type": "markdown",
   "metadata": {},
   "source": [
    "Hilarious results:\n",
    "\n",
    "> \"Did you know? According to legend, Holden married Amy Pascal after his mother passed away. [1] According to the movie, the couple had a little girl named Katherine, and they had a baby. A year after the baby was born, the baby's mother came home from work and saw a child singing “If a body catch a body coming through the rye.” “”\n",
    "In this story, the baby became the child's mother, and the baby became the father\""
   ]
  },
  {
   "cell_type": "code",
   "execution_count": null,
   "metadata": {},
   "outputs": [],
   "source": []
  },
  {
   "cell_type": "code",
   "execution_count": null,
   "metadata": {},
   "outputs": [],
   "source": []
  },
  {
   "cell_type": "code",
   "execution_count": null,
   "metadata": {},
   "outputs": [],
   "source": []
  },
  {
   "cell_type": "code",
   "execution_count": null,
   "metadata": {},
   "outputs": [],
   "source": []
  },
  {
   "cell_type": "code",
   "execution_count": null,
   "metadata": {},
   "outputs": [],
   "source": []
  },
  {
   "cell_type": "code",
   "execution_count": null,
   "metadata": {},
   "outputs": [],
   "source": []
  },
  {
   "cell_type": "code",
   "execution_count": 7,
   "metadata": {},
   "outputs": [],
   "source": [
    "# alright... I definitely overfit... but that's great!!!\n",
    "# that's exactly what I wanted, because now I can just tone it back a bit."
   ]
  },
  {
   "cell_type": "code",
   "execution_count": 8,
   "metadata": {},
   "outputs": [],
   "source": [
    "# what I'm also curious about is what would happen if I overfit and then turn the temperature way up...\n",
    "# let's try that now."
   ]
  },
  {
   "cell_type": "code",
   "execution_count": 7,
   "metadata": {},
   "outputs": [
    {
     "name": "stdout",
     "output_type": "stream",
     "text": [
      "The final and arguably most accurate and important connection between Salinger’s life and the book he created is a similarity between Holden and Salinger. The two share a great interest, of which is a definite theme throughout the book, being the desire for the preservation of innocence. Throughout the book, Holden seems to be less grown up than most of the people around him. He seems to dislike many people his age or older, saying that they are all phonies. Kids on the other hand, he likes them a lot due to just how uncorrupted and innocent they are. When Holden is depressed, seeing the innocence of a kid generally makes him feel better, as seen when Holden is depressed before meeting up with Sally, but he sees a child singing “If a body catch a body coming through the rye.” and it made him feel better. It made me feel not so depressed anymore.” (p. 115) As well, the book even derives its title from a single passage in the book where Holden is talking to Phoebe about what he wishes he could do. “\"Anyway, I keep picturing all these little kids playing some game in this big field of rye and all. Thousands of little kids, and nobody's around--nobody big, I mean--except me. And I'm standing on the edge of some crazy cliff. What I have to do, I have to catch everybody if they start to go over the cliff--I mean if they're running and they don't look where they're going I have to come out from somewhere and catch them. That's all I'd do all day. I'd just be the catcher in the rye and all. I know it's crazy, but that's the only thing I'd really like to be. I know it's crazy” (p\n",
      "====================\n",
      "The final and arguably most accurate and important connection between Salinger’s life and the book he created is a similarity between Holden and Salinger. The two share a great interest, of which is a definite theme throughout the book, being the desire for the preservation of innocence. Throughout the book, Holden seems to be less grown up than most of the people around him. He seems to dislike many people his age or older, saying that they are all phonies. Kids on the other hand, he likes them a lot due to just how uncorrupted and innocent they are. When Holden is depressed, seeing the innocence of a kid generally makes him feel better, as seen when Holden is depressed before meeting up with Sally, but he sees a child singing “If a body catch a body coming through the rye.” and it made him feel better. It made me feel not so depressed anymore.” (p. 115) As well, the book even derives its title from a single passage in the book where Holden is talking to Phoebe about what he wishes he could do. “\"Anyway, I keep picturing all these little kids playing some game in this great big field of rye and all. Thousands of little kids, and nobody's around--nobody big, I mean--except me. And I'm standing on the edge of some crazy cliff. What I have to do, I have to catch everybody if they start to go over the cliff--I mean if they're running and they don't look where they're going I have to come out from somewhere and catch them. That's all I'd do all day. I'd just be the catcher in the rye and all. I know it's crazy, but that's the only thing I'd really like to be. I know it's crazy” (\n",
      "====================\n",
      "The final and arguably most accurate and important connection between Salinger’s life and the book he created is a similarity between Holden and Salinger. The two share a great interest, of which is a definite theme throughout the book, being the desire for the preservation of innocence. Throughout the book, Holden seems to be less grown up than most of the people around him. He seems to dislike many people his age or older, saying that they are all phonies. Kids on the other hand, he likes them a lot due to just how uncorrupted and innocent they are. When Holden is depressed, seeing the innocence of a kid generally makes him feel better, as seen when Holden is depressed before meeting up with Sally, but he sees a child singing “If a body catch a body coming through the rye.” and it made him feel better. It made me feel not so depressed anymore.” (p. 115) As well, the book even derives its title from a single passage in the book where Holden is talking to Phoebe about what he wishes he could do. “\"Anyway, I keep picturing all these little kids playing some game in this big field of rye and all. Thousands of little kids, and nobody's around--nobody big, I mean--except me. And I'm standing on the edge of some crazy cliff. What I have to do, I have to catch everybody if they start to go over the cliff--I mean if they're running and they don't look where they're going I have to come out from somewhere and catch them. That's all I'd do all day. I'd just be the catcher in the rye and all. I know it's crazy, but that's the only thing I'd really like to be. I know it's crazy” (p\n",
      "====================\n",
      "The final and arguably most accurate and important connection between Salinger’s life and the book he created is a similarity between Holden and Salinger. The two share a great interest, of which is a definite theme throughout the book, being the desire for the preservation of innocence. Throughout the book, Holden seems to be less grown up than most of the people around him. He seems to dislike many people his age or older, saying that they are all phonies. Kids on the other hand, he likes them a lot due to just how uncorrupted and innocent they are. When Holden is depressed, seeing the innocence of a kid generally makes him feel better, as seen when Holden is depressed before meeting up with Sally, but he sees a child singing “If a body catch a body coming through the rye.” and it made him feel better. It made me feel not so depressed anymore.” (p. 115) As well, the book even derives its title from a single passage in the book where Holden is talking to Phoebe about what he wishes he could do. “\"Anyway, I keep picturing all these little kids playing some game in this big field of rye and all. Thousands of little kids, and nobody's around--nobody big, I mean--except me. And I'm standing on the edge of some crazy cliff. What I have to do, I have to catch everybody if they start to go over the cliff--I mean if they're running and they don't look where they're going I have to come out from somewhere and catch them. That's all I'd do all day. I'd just be the catcher in the rye and all. I know it's crazy, but that's the only thing I'd really like to be. I know it's crazy” (p\n",
      "====================\n",
      "The final and arguably most accurate and important connection between Salinger’s life and the book he created is a similarity between Holden and Salinger. The two share a great interest, of which is a definite theme throughout the book, being the desire for the preservation of innocence. Throughout the book, Holden seems to be less grown up than most of the people around him. He seems to dislike many people his age or older, saying that they are all phonies. Kids on the other hand, he likes them a lot due to just how uncorrupted and innocent they are. When Holden is depressed, seeing the innocence of a kid generally makes him feel better, as seen when Holden is depressed before meeting up with Sally, but he sees a child singing “If a body catch a body coming through the rye.” and it made him feel better. It made me feel not so depressed anymore.” (p. 115) As well, the book even derives its title from a single passage in the book where Holden is talking to Phoebe about what he wishes he could do. “\"Anyway, I keep picturing all these little kids playing some game in this big field of rye and all. Thousands of little kids, and nobody's around--nobody big, I mean--except me. And I'm standing on the edge of some crazy cliff. What I have to do, I have to catch everybody if they start to go over the cliff--I mean if they're running and they don't look where they're going I have to come out from somewhere and catch them. That's all I'd do all day. I'd just be the catcher in the rye and all. I know it's crazy, but that's the only thing I'd really like to be. I know it's crazy” (p\n",
      "====================\n"
     ]
    }
   ],
   "source": [
    "gpt2.generate(\n",
    "    sess,\n",
    "    model_name=\"124M\",\n",
    "    run_name=\"finetuning\",\n",
    "    nsamples=5,\n",
    "    length=200,\n",
    "    top_k=0,\n",
    "    temperature=1,\n",
    "    prefix=\"\"\"The final and arguably most accurate and important connection between Salinger’s life and the book he created is a similarity between Holden and Salinger. The two share a great interest, of which is a definite theme throughout the book, being the desire for the preservation of innocence. Throughout the book, Holden seems to be less grown up than most of the people around him. He seems to dislike many people his age or older, saying that they are all phonies. Kids on the other hand, he likes them a lot due to just how uncorrupted and innocent they are. When Holden is depressed, seeing the innocence of a kid generally makes him feel better, as seen when Holden is depressed before meeting up with Sally, but he sees a child singing “If a body catch a body coming through the rye.” and it made him feel better.\"\"\",\n",
    "    include_prefix=False,\n",
    ")"
   ]
  },
  {
   "cell_type": "code",
   "execution_count": 13,
   "metadata": {},
   "outputs": [],
   "source": [
    "# Okay... totally overfit now let's go back"
   ]
  },
  {
   "cell_type": "code",
   "execution_count": null,
   "metadata": {},
   "outputs": [],
   "source": []
  }
 ],
 "metadata": {
  "kernelspec": {
   "display_name": "Python 3",
   "language": "python",
   "name": "python3"
  },
  "language_info": {
   "codemirror_mode": {
    "name": "ipython",
    "version": 3
   },
   "file_extension": ".py",
   "mimetype": "text/x-python",
   "name": "python",
   "nbconvert_exporter": "python",
   "pygments_lexer": "ipython3",
   "version": "3.7.3"
  }
 },
 "nbformat": 4,
 "nbformat_minor": 4
}
