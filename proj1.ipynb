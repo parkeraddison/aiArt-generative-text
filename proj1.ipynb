{
 "cells": [
  {
   "cell_type": "code",
   "execution_count": 1,
   "metadata": {},
   "outputs": [],
   "source": [
    "# Downloads: run only the first time\n",
    "\n",
    "###\n",
    "# !pip install --user gpt-2-simple\n",
    "# import gpt_2_simple as gpt2\n",
    "# model_name = \"124M\"\n",
    "# gpt2.download_gpt2(model_name=model_name)"
   ]
  },
  {
   "cell_type": "code",
   "execution_count": 2,
   "metadata": {},
   "outputs": [],
   "source": [
    "# Imports: run every time\n",
    "import warnings\n",
    "warnings.filterwarnings(action=\"ignore\")\n",
    "\n",
    "import gpt_2_simple as gpt2\n",
    "model_name=\"124M\"\n",
    "sess = gpt2.start_tf_sess()\n",
    "\n",
    "import os\n",
    "import re"
   ]
  },
  {
   "cell_type": "code",
   "execution_count": 3,
   "metadata": {},
   "outputs": [],
   "source": [
    "# Corpus generation: run once\n",
    "\n",
    "###\n",
    "# !cat text/w_[amn]*.txt >> text/all_amn.txt\n",
    "\n",
    "done = True\n",
    "\n",
    "def clean_corpus(filepath):\n",
    "\n",
    "    with open(filepath, 'r') as infile:\n",
    "        lines = infile.readlines()\n",
    "\n",
    "    cleaned = []\n",
    "\n",
    "    for line in lines:\n",
    "\n",
    "        cl = re.sub(r\"##\\d+\", '', line)\n",
    "        cl = re.sub(r\"@ @ @ @ @ @ @ @ @ @ \", '', cl)\n",
    "        cl = re.sub(r\"[#@]\", '', cl)\n",
    "\n",
    "        cleaned.append(cl)\n",
    "\n",
    "    with open(filepath, 'w') as outfile:\n",
    "        outfile.writelines(cleaned)\n",
    "        \n",
    "if not done:\n",
    "    clean_corpus(\"text/all_amn.txt\")"
   ]
  },
  {
   "cell_type": "code",
   "execution_count": 4,
   "metadata": {},
   "outputs": [],
   "source": [
    "# Finetuning, 1 of 3: run once, save, then restart\n",
    "# Give the model an idea of the structure of a piece of writing.\n",
    "done = True\n",
    "\n",
    "if not done:\n",
    "    gpt2.finetune(\n",
    "        sess,\n",
    "        \"text/all_amn.txt\",\n",
    "        model_name=model_name,\n",
    "        run_name=\"finetuning1\",\n",
    "        restore_from=\"fresh\",\n",
    "        steps=500,\n",
    "        print_every=10,\n",
    "    )"
   ]
  },
  {
   "cell_type": "code",
   "execution_count": 5,
   "metadata": {},
   "outputs": [],
   "source": [
    "# Now let's restart and try to finetune on a new corpus (fingers crossed!)"
   ]
  },
  {
   "cell_type": "code",
   "execution_count": 5,
   "metadata": {},
   "outputs": [],
   "source": [
    "# I duplicated the finetuning1 run into finetuning2 to allow me to use overwrite without losing my previous run!\n",
    "\n",
    "# gpt2.load_gpt2(\n",
    "#     sess,\n",
    "#     model_name=model_name,\n",
    "#     run_name=\"finetuning2\",\n",
    "# )"
   ]
  },
  {
   "cell_type": "code",
   "execution_count": 6,
   "metadata": {},
   "outputs": [
    {
     "name": "stdout",
     "output_type": "stream",
     "text": [
      "WARNING:tensorflow:From /home/jovyan/.local/lib/python3.7/site-packages/gpt_2_simple/src/sample.py:17: add_dispatch_support.<locals>.wrapper (from tensorflow.python.ops.array_ops) is deprecated and will be removed in a future version.\n",
      "Instructions for updating:\n",
      "Use tf.where in 2.0, which has the same broadcast rule as np.where\n",
      "Loading checkpoint models/124M/model.ckpt\n",
      "WARNING:tensorflow:From /opt/conda/lib/python3.7/site-packages/tensorflow/python/training/saver.py:1276: checkpoint_exists (from tensorflow.python.training.checkpoint_management) is deprecated and will be removed in a future version.\n",
      "Instructions for updating:\n",
      "Use standard file APIs to check for files with this prefix.\n",
      "INFO:tensorflow:Restoring parameters from models/124M/model.ckpt\n"
     ]
    },
    {
     "name": "stderr",
     "output_type": "stream",
     "text": [
      "100%|██████████| 1/1 [00:00<00:00, 1051.20it/s]"
     ]
    },
    {
     "name": "stdout",
     "output_type": "stream",
     "text": [
      "Loading dataset...\n",
      "dataset has 1868 tokens\n",
      "Training...\n"
     ]
    },
    {
     "name": "stderr",
     "output_type": "stream",
     "text": [
      "\n"
     ]
    },
    {
     "name": "stdout",
     "output_type": "stream",
     "text": [
      "[5 | 13.40] loss=1.91 avg=1.91\n",
      "[10 | 19.78] loss=1.07 avg=1.49\n",
      "Saving checkpoint/finetuning2/model-10\n"
     ]
    }
   ],
   "source": [
    "# Finetuning, 2 of 3: run once, save, then restart\n",
    "# Show the model the essay to set in the topic it should talk about.\n",
    "done = False\n",
    "\n",
    "if not done:\n",
    "    gpt2.finetune(\n",
    "        sess,\n",
    "        \"text/catcher.txt\",\n",
    "        model_name=model_name,\n",
    "        run_name=\"finetuning2\",\n",
    "        restore_from=\"fresh\",\n",
    "        steps=10,\n",
    "        print_every=5,\n",
    "        overwrite=True,\n",
    "    )"
   ]
  },
  {
   "cell_type": "code",
   "execution_count": 7,
   "metadata": {},
   "outputs": [
    {
     "name": "stdout",
     "output_type": "stream",
     "text": [
      "The final and arguably most accurate and important connection between Salinger’s life and the book he created is a similarity between Holden and Salinger. The two share a great interest, of which is a definite theme throughout the book, being the desire for the preservation of innocence. Throughout the book, Holden seems to be less grown up than most of the people around him. He seems to dislike many people his age or older, saying that they are all phonies. Kids on the other hand, he likes them a lot due to just how uncorrupted and innocent they are. When Holden is depressed, seeing the innocence of a kid generally makes him feel better, as seen when Holden is depressed before meeting up with Sally, but he sees a child singing “If a body catch a body coming through the rye.” and it made him feel better. It made me “feel less depressed” (p. 140) In the last line of the book, Salinger seems to be talking to himself about his life. He writes:”\"A few years ago, I stopped by your house. The air was great. The sun was almost out. I just kept seeing eyes wide open, and I was walking, and I was standing on a field, and there was this big cliff, and I had to go over it. The only thing I could do was run. I never had to run before.” (p. 140-141) The last and arguably most accurate and most important connection between Salinger”s life and the book he created is a similarity between Holden and Salinger. The two share a great interest, of which and is a definite theme throughout the book, being the desire for the preservation of innocence. Throughout the book, Holden seems to be less grown up than most of the people around him\n",
      "====================\n",
      "The final and arguably most accurate and important connection between Salinger’s life and the book he created is a similarity between Holden and Salinger. The two share a great interest, of which is a definite theme throughout the book, being the desire for the preservation of innocence. Throughout the book, Holden seems to be less grown up than most of the people around him. He seems to dislike many people his age or older, saying that they are all phonies. Kids on the other hand, he likes them a lot due to just how uncorrupted and innocent they are. When Holden is depressed, seeing the innocence of a kid generally makes him feel better, as seen when Holden is depressed before meeting up with Sally, but he sees a child singing “If a body catch a body coming through the rye.” and it made him feel better. When Holden is depressed, it made his eyes come closer to the truth, and they started to sing “If a body catch a body coming through the rye.” Salinger then recreated the same song and shared it on the book”s page with the public”s comment section of Reddit users . Although it may have been inspired from a different book, it can be seen to have been a reference to the book in question.[41] Also, although the community would have never learned that the final section of the book was from Salinger, it is probably accurate that Salinger shared the final line of the book with Holden when Holden is depressed.[42]\n",
      "The final and arguably most accurate and most important connection between Salinger’s life and the book he created is a similarity between Holden and Salinger. The two share a great interest, of which is a definite theme throughout the book, being the desire for the preservation of innocence. Throughout the book, Holden\n",
      "====================\n",
      "The final and arguably most accurate and important connection between Salinger’s life and the book he created is a similarity between Holden and Salinger. The two share a great interest, of which is a definite theme throughout the book, being the desire for the preservation of innocence. Throughout the book, Holden seems to be less grown up than most of the people around him. He seems to dislike many people his age or older, saying that they are all phonies. Kids on the other hand, he likes them a lot due to just how uncorrupted and innocent they are. When Holden is depressed, seeing the innocence of a kid generally makes him feel better, as seen when Holden is depressed before meeting up with Sally, but he sees a child singing “If a body catch a body coming through the rye.” and it made him feel better.\n",
      "The last and arguably most accurate and most important connection between Salinger’s life and the book he created is a similarity between Holden and Salinger.\n",
      "The book that makes up Salinger”s book, The Blues Kid, tells the story of Holden and his friends growing up on the New World. Although not as engrossing as many of the people around him, the ending is still very much there. Throughout the book, Holden seems to be less grown up than most of the people around him. He seems to dislike many people his age or older, saying that they are all phonies. Kids on the other hand, he likes them a lot due to just how uncorrupted and innocent they are. When Holden is depressed, seeing the innocence of a kid generally made him feel better, as seen when Holden was depressed before meeting up with Sally, but…. The final and arguably most accurate and most important connection between Salinger”s life and the book he\n",
      "====================\n",
      "The final and arguably most accurate and important connection between Salinger’s life and the book he created is a similarity between Holden and Salinger. The two share a great interest, of which is a definite theme throughout the book, being the desire for the preservation of innocence. Throughout the book, Holden seems to be less grown up than most of the people around him. He seems to dislike many people his age or older, saying that they are all phonies. Kids on the other hand, he likes them a lot due to just how uncorrupted and innocent they are. When Holden is depressed, seeing the innocence of a kid generally makes him feel better, as seen when Holden is depressed before meeting up with Sally, but he sees a child singing “If a body catch a body coming through the rye.” and it made him feel better. When Holden is depressed he feels a desire to be happy and are drawn to the music. When Holden is depressed he may observe the activities of a child playing a guitar or acting strangely. In this way, Holden may experiment with his emotions and what he sees. This desire for the innocence of children is similar to the similarity between Salinger’s life and the book he created.\n",
      "A similar connection can be found between Salinger’s life and the book he created. Although it may not be obvious until later in the book, Holden feels more comfortable around children after meeting up with Sally, and he is particularly attracted to children who may be a little too young to be in the world. Without further ado, these connections are present throughout the book and easily recognizable.\n",
      "\"The Book That Killed Moroni\" (1985)\n",
      "There seems to have been some confusion over who this book would be about. Many people didn’t know that Salinger’s widow would be\n",
      "====================\n",
      "The final and arguably most accurate and important connection between Salinger’s life and the book he created is a similarity between Holden and Salinger. The two share a great interest, of which is a definite theme throughout the book, being the desire for the preservation of innocence. Throughout the book, Holden seems to be less grown up than most of the people around him. He seems to dislike many people his age or older, saying that they are all phonies. Kids on the other hand, he likes them a lot due to just how uncorrupted and innocent they are. When Holden is depressed, seeing the innocence of a kid generally makes him feel better, as seen when Holden is depressed before meeting up with Sally, but he sees a child singing “If a body catch a body coming through the rye.” and it made him feel better. Although the song exists before the book, it does not actually play any part. When Holden comes home from work and sees the body catch a body jumping the rye, he freaks out and runs off with the body. However, the ending doesn’t forget that before Tom left for the wilds, he saw a child singing “If a body catch a body coming through the rye.” “”\n",
      "If you liked this book, you probably also liked:\n",
      "\n",
      "\n",
      "Did you know? According to legend, Holden married Amy Pascal after his mother passed away. [1] According to the movie, the couple had a little girl named Katherine, and they had a baby. A year after the baby was born, the baby's mother came home from work and saw a child singing “If a body catch a body coming through the rye.” “”\n",
      "In this story, the baby became the child's mother, and the baby became the father\n",
      "====================\n"
     ]
    }
   ],
   "source": [
    "gpt2.generate(\n",
    "    sess,\n",
    "    model_name=\"124M\",\n",
    "    run_name=\"finetuning2\",\n",
    "    nsamples=5,\n",
    "    length=200,\n",
    "    top_k=0,\n",
    "    temperature=1,\n",
    "    prefix=\"\"\"The final and arguably most accurate and important connection between Salinger’s life and the book he created is a similarity between Holden and Salinger. The two share a great interest, of which is a definite theme throughout the book, being the desire for the preservation of innocence. Throughout the book, Holden seems to be less grown up than most of the people around him. He seems to dislike many people his age or older, saying that they are all phonies. Kids on the other hand, he likes them a lot due to just how uncorrupted and innocent they are. When Holden is depressed, seeing the innocence of a kid generally makes him feel better, as seen when Holden is depressed before meeting up with Sally, but he sees a child singing “If a body catch a body coming through the rye.” and it made him feel better.\"\"\",\n",
    ")"
   ]
  },
  {
   "cell_type": "markdown",
   "metadata": {},
   "source": [
    "Hilarious results:\n",
    "\n",
    "> \"Did you know? According to legend, Holden married Amy Pascal after his mother passed away. [1] According to the movie, the couple had a little girl named Katherine, and they had a baby. A year after the baby was born, the baby's mother came home from work and saw a child singing “If a body catch a body coming through the rye.” “”\n",
    "In this story, the baby became the child's mother, and the baby became the father\""
   ]
  },
  {
   "cell_type": "code",
   "execution_count": null,
   "metadata": {},
   "outputs": [],
   "source": []
  },
  {
   "cell_type": "code",
   "execution_count": null,
   "metadata": {},
   "outputs": [],
   "source": []
  },
  {
   "cell_type": "code",
   "execution_count": null,
   "metadata": {},
   "outputs": [],
   "source": []
  },
  {
   "cell_type": "code",
   "execution_count": null,
   "metadata": {},
   "outputs": [],
   "source": []
  },
  {
   "cell_type": "code",
   "execution_count": null,
   "metadata": {},
   "outputs": [],
   "source": []
  },
  {
   "cell_type": "code",
   "execution_count": null,
   "metadata": {},
   "outputs": [],
   "source": []
  },
  {
   "cell_type": "code",
   "execution_count": 7,
   "metadata": {},
   "outputs": [],
   "source": [
    "# alright... I definitely overfit... but that's great!!!\n",
    "# that's exactly what I wanted, because now I can just tone it back a bit."
   ]
  },
  {
   "cell_type": "code",
   "execution_count": 8,
   "metadata": {},
   "outputs": [],
   "source": [
    "# what I'm also curious about is what would happen if I overfit and then turn the temperature way up...\n",
    "# let's try that now."
   ]
  },
  {
   "cell_type": "code",
   "execution_count": 7,
   "metadata": {},
   "outputs": [
    {
     "name": "stdout",
     "output_type": "stream",
     "text": [
      "The final and arguably most accurate and important connection between Salinger’s life and the book he created is a similarity between Holden and Salinger. The two share a great interest, of which is a definite theme throughout the book, being the desire for the preservation of innocence. Throughout the book, Holden seems to be less grown up than most of the people around him. He seems to dislike many people his age or older, saying that they are all phonies. Kids on the other hand, he likes them a lot due to just how uncorrupted and innocent they are. When Holden is depressed, seeing the innocence of a kid generally makes him feel better, as seen when Holden is depressed before meeting up with Sally, but he sees a child singing “If a body catch a body coming through the rye.” and it made him feel better. It made me feel not so depressed anymore.” (p. 115) As well, the book even derives its title from a single passage in the book where Holden is talking to Phoebe about what he wishes he could do. “\"Anyway, I keep picturing all these little kids playing some game in this big field of rye and all. Thousands of little kids, and nobody's around--nobody big, I mean--except me. And I'm standing on the edge of some crazy cliff. What I have to do, I have to catch everybody if they start to go over the cliff--I mean if they're running and they don't look where they're going I have to come out from somewhere and catch them. That's all I'd do all day. I'd just be the catcher in the rye and all. I know it's crazy, but that's the only thing I'd really like to be. I know it's crazy” (p\n",
      "====================\n",
      "The final and arguably most accurate and important connection between Salinger’s life and the book he created is a similarity between Holden and Salinger. The two share a great interest, of which is a definite theme throughout the book, being the desire for the preservation of innocence. Throughout the book, Holden seems to be less grown up than most of the people around him. He seems to dislike many people his age or older, saying that they are all phonies. Kids on the other hand, he likes them a lot due to just how uncorrupted and innocent they are. When Holden is depressed, seeing the innocence of a kid generally makes him feel better, as seen when Holden is depressed before meeting up with Sally, but he sees a child singing “If a body catch a body coming through the rye.” and it made him feel better. It made me feel not so depressed anymore.” (p. 115) As well, the book even derives its title from a single passage in the book where Holden is talking to Phoebe about what he wishes he could do. “\"Anyway, I keep picturing all these little kids playing some game in this great big field of rye and all. Thousands of little kids, and nobody's around--nobody big, I mean--except me. And I'm standing on the edge of some crazy cliff. What I have to do, I have to catch everybody if they start to go over the cliff--I mean if they're running and they don't look where they're going I have to come out from somewhere and catch them. That's all I'd do all day. I'd just be the catcher in the rye and all. I know it's crazy, but that's the only thing I'd really like to be. I know it's crazy” (\n",
      "====================\n",
      "The final and arguably most accurate and important connection between Salinger’s life and the book he created is a similarity between Holden and Salinger. The two share a great interest, of which is a definite theme throughout the book, being the desire for the preservation of innocence. Throughout the book, Holden seems to be less grown up than most of the people around him. He seems to dislike many people his age or older, saying that they are all phonies. Kids on the other hand, he likes them a lot due to just how uncorrupted and innocent they are. When Holden is depressed, seeing the innocence of a kid generally makes him feel better, as seen when Holden is depressed before meeting up with Sally, but he sees a child singing “If a body catch a body coming through the rye.” and it made him feel better. It made me feel not so depressed anymore.” (p. 115) As well, the book even derives its title from a single passage in the book where Holden is talking to Phoebe about what he wishes he could do. “\"Anyway, I keep picturing all these little kids playing some game in this big field of rye and all. Thousands of little kids, and nobody's around--nobody big, I mean--except me. And I'm standing on the edge of some crazy cliff. What I have to do, I have to catch everybody if they start to go over the cliff--I mean if they're running and they don't look where they're going I have to come out from somewhere and catch them. That's all I'd do all day. I'd just be the catcher in the rye and all. I know it's crazy, but that's the only thing I'd really like to be. I know it's crazy” (p\n",
      "====================\n",
      "The final and arguably most accurate and important connection between Salinger’s life and the book he created is a similarity between Holden and Salinger. The two share a great interest, of which is a definite theme throughout the book, being the desire for the preservation of innocence. Throughout the book, Holden seems to be less grown up than most of the people around him. He seems to dislike many people his age or older, saying that they are all phonies. Kids on the other hand, he likes them a lot due to just how uncorrupted and innocent they are. When Holden is depressed, seeing the innocence of a kid generally makes him feel better, as seen when Holden is depressed before meeting up with Sally, but he sees a child singing “If a body catch a body coming through the rye.” and it made him feel better. It made me feel not so depressed anymore.” (p. 115) As well, the book even derives its title from a single passage in the book where Holden is talking to Phoebe about what he wishes he could do. “\"Anyway, I keep picturing all these little kids playing some game in this big field of rye and all. Thousands of little kids, and nobody's around--nobody big, I mean--except me. And I'm standing on the edge of some crazy cliff. What I have to do, I have to catch everybody if they start to go over the cliff--I mean if they're running and they don't look where they're going I have to come out from somewhere and catch them. That's all I'd do all day. I'd just be the catcher in the rye and all. I know it's crazy, but that's the only thing I'd really like to be. I know it's crazy” (p\n",
      "====================\n",
      "The final and arguably most accurate and important connection between Salinger’s life and the book he created is a similarity between Holden and Salinger. The two share a great interest, of which is a definite theme throughout the book, being the desire for the preservation of innocence. Throughout the book, Holden seems to be less grown up than most of the people around him. He seems to dislike many people his age or older, saying that they are all phonies. Kids on the other hand, he likes them a lot due to just how uncorrupted and innocent they are. When Holden is depressed, seeing the innocence of a kid generally makes him feel better, as seen when Holden is depressed before meeting up with Sally, but he sees a child singing “If a body catch a body coming through the rye.” and it made him feel better. It made me feel not so depressed anymore.” (p. 115) As well, the book even derives its title from a single passage in the book where Holden is talking to Phoebe about what he wishes he could do. “\"Anyway, I keep picturing all these little kids playing some game in this big field of rye and all. Thousands of little kids, and nobody's around--nobody big, I mean--except me. And I'm standing on the edge of some crazy cliff. What I have to do, I have to catch everybody if they start to go over the cliff--I mean if they're running and they don't look where they're going I have to come out from somewhere and catch them. That's all I'd do all day. I'd just be the catcher in the rye and all. I know it's crazy, but that's the only thing I'd really like to be. I know it's crazy” (p\n",
      "====================\n"
     ]
    }
   ],
   "source": [
    "gpt2.generate(\n",
    "    sess,\n",
    "    model_name=\"124M\",\n",
    "    run_name=\"finetuning\",\n",
    "    nsamples=5,\n",
    "    length=200,\n",
    "    top_k=0,\n",
    "    temperature=1,\n",
    "    prefix=\"\"\"The final and arguably most accurate and important connection between Salinger’s life and the book he created is a similarity between Holden and Salinger. The two share a great interest, of which is a definite theme throughout the book, being the desire for the preservation of innocence. Throughout the book, Holden seems to be less grown up than most of the people around him. He seems to dislike many people his age or older, saying that they are all phonies. Kids on the other hand, he likes them a lot due to just how uncorrupted and innocent they are. When Holden is depressed, seeing the innocence of a kid generally makes him feel better, as seen when Holden is depressed before meeting up with Sally, but he sees a child singing “If a body catch a body coming through the rye.” and it made him feel better.\"\"\",\n",
    "    include_prefix=False,\n",
    ")"
   ]
  },
  {
   "cell_type": "code",
   "execution_count": 13,
   "metadata": {},
   "outputs": [],
   "source": [
    "# Okay... totally overfit now let's go back"
   ]
  },
  {
   "cell_type": "code",
   "execution_count": null,
   "metadata": {},
   "outputs": [],
   "source": []
  }
 ],
 "metadata": {
  "kernelspec": {
   "display_name": "Python 3",
   "language": "python",
   "name": "python3"
  },
  "language_info": {
   "codemirror_mode": {
    "name": "ipython",
    "version": 3
   },
   "file_extension": ".py",
   "mimetype": "text/x-python",
   "name": "python",
   "nbconvert_exporter": "python",
   "pygments_lexer": "ipython3",
   "version": "3.7.3"
  }
 },
 "nbformat": 4,
 "nbformat_minor": 4
}
